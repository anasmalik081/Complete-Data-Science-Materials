{
  "cells": [
    {
      "cell_type": "markdown",
      "source": [
        "# **Sets**"
      ],
      "metadata": {
        "id": "7oHP4VXNsOwx"
      }
    },
    {
      "cell_type": "markdown",
      "source": [
        "A Set is an unordered collection of data types that is iterable, immutable and has no duplicate elements. It is represented by ginger tags({})."
      ],
      "metadata": {
        "id": "U7Xhjy3rsQ-U"
      }
    },
    {
      "cell_type": "code",
      "source": [
        "# creating an empty set\n",
        "my_set = set()\n",
        "print(my_set)\n",
        "print(type(my_set))"
      ],
      "metadata": {
        "id": "NfL-V9KdsQTV",
        "outputId": "d6f13aae-959f-4108-c896-5c3004f75d60",
        "colab": {
          "base_uri": "https://localhost:8080/"
        }
      },
      "execution_count": 28,
      "outputs": [
        {
          "output_type": "stream",
          "name": "stdout",
          "text": [
            "set()\n",
            "<class 'set'>\n"
          ]
        }
      ]
    },
    {
      "cell_type": "code",
      "source": [
        "# creating a set with elements\n",
        "my_set = {1,1,2,2,3,3,3,3,4,5,'python'}\n",
        "print(my_set)\n",
        "print(type(my_set))"
      ],
      "metadata": {
        "id": "Wec0EKsns0MY",
        "outputId": "e172eb09-2439-4f90-c24a-0d4c1c08141f",
        "colab": {
          "base_uri": "https://localhost:8080/"
        }
      },
      "execution_count": 30,
      "outputs": [
        {
          "output_type": "stream",
          "name": "stdout",
          "text": [
            "{1, 2, 3, 4, 5, 'python'}\n",
            "<class 'set'>\n"
          ]
        }
      ]
    },
    {
      "cell_type": "markdown",
      "source": [
        "**Note: We cannot retreive elements of set using indexing because sets are unordered**"
      ],
      "metadata": {
        "id": "AJkN8xI0uVQI"
      }
    },
    {
      "cell_type": "code",
      "source": [
        "# retrieving elements using for loop\n",
        "for elem in my_set:\n",
        "  print(elem)"
      ],
      "metadata": {
        "id": "cYDLEHyjtv9J",
        "outputId": "a5575614-97ee-4989-d926-717ff0c5db9b",
        "colab": {
          "base_uri": "https://localhost:8080/"
        }
      },
      "execution_count": 31,
      "outputs": [
        {
          "output_type": "stream",
          "name": "stdout",
          "text": [
            "1\n",
            "2\n",
            "3\n",
            "4\n",
            "5\n",
            "python\n"
          ]
        }
      ]
    },
    {
      "cell_type": "markdown",
      "source": [
        "## **Set Methods**"
      ],
      "metadata": {
        "id": "zhA8g7gXu9HV"
      }
    },
    {
      "cell_type": "markdown",
      "source": [
        "### **Add Method**"
      ],
      "metadata": {
        "id": "1LE8aV9Tu_-w"
      }
    },
    {
      "cell_type": "markdown",
      "source": [
        "It is used to add single element in a set"
      ],
      "metadata": {
        "id": "VL0y0tGwvENX"
      }
    },
    {
      "cell_type": "code",
      "source": [
        "my_set = {1,2,3}\n",
        "print(my_set)\n",
        "my_set.add('Python')\n",
        "print(my_set)\n",
        "my_set.add('Data Science')\n",
        "print(my_set)\n",
        "my_set.add(0)\n",
        "print(my_set)"
      ],
      "metadata": {
        "id": "OtI7cCfHuzyB",
        "outputId": "0bd4e3c2-f10b-4e34-c693-da5e6c52b513",
        "colab": {
          "base_uri": "https://localhost:8080/"
        }
      },
      "execution_count": 35,
      "outputs": [
        {
          "output_type": "stream",
          "name": "stdout",
          "text": [
            "{1, 2, 3}\n",
            "{1, 2, 3, 'Python'}\n",
            "{1, 2, 3, 'Python', 'Data Science'}\n",
            "{0, 1, 2, 3, 'Python', 'Data Science'}\n"
          ]
        }
      ]
    },
    {
      "cell_type": "markdown",
      "source": [
        "### **Update Method**"
      ],
      "metadata": {
        "id": "V5lLkn8vvxcE"
      }
    },
    {
      "cell_type": "markdown",
      "source": [
        "It is used to add multiple elements in a set"
      ],
      "metadata": {
        "id": "xvxK419xv0sb"
      }
    },
    {
      "cell_type": "code",
      "source": [
        "my_set = {1,2,3}\n",
        "print(my_set)\n",
        "my_set.update([0, 'Python'])\n",
        "print(my_set)\n",
        "my_set.update({'Data Science', 'Machine Learning'})\n",
        "print(my_set)"
      ],
      "metadata": {
        "id": "qv-7eH6evOgq",
        "outputId": "ea2fac64-9757-4a4a-ade3-ebffa001d872",
        "colab": {
          "base_uri": "https://localhost:8080/"
        }
      },
      "execution_count": 39,
      "outputs": [
        {
          "output_type": "stream",
          "name": "stdout",
          "text": [
            "{1, 2, 3}\n",
            "{0, 1, 2, 3, 'Python'}\n",
            "{0, 1, 2, 3, 'Python', 'Data Science', 'Machine Learning'}\n"
          ]
        }
      ]
    },
    {
      "cell_type": "markdown",
      "source": [
        "### **Intersection Method**"
      ],
      "metadata": {
        "id": "WRAeQDMVwP-j"
      }
    },
    {
      "cell_type": "markdown",
      "source": [
        "It is used to get the common elements between two sets"
      ],
      "metadata": {
        "id": "q11VZUIJwTlo"
      }
    },
    {
      "cell_type": "code",
      "source": [
        "set1 = {1,2,3,4,5}\n",
        "set2 = {3,4,5,6,7}\n",
        "# mtheod 1\n",
        "intersection = set1.intersection(set2)\n",
        "print(intersection)\n",
        "\n",
        "# method 2\n",
        "print(set1 & set2)"
      ],
      "metadata": {
        "id": "cA9x2rXxv_Dm",
        "outputId": "f840c568-22eb-45a5-e8cb-a8d7ed06cc98",
        "colab": {
          "base_uri": "https://localhost:8080/"
        }
      },
      "execution_count": 41,
      "outputs": [
        {
          "output_type": "stream",
          "name": "stdout",
          "text": [
            "{3, 4, 5}\n",
            "{3, 4, 5}\n"
          ]
        }
      ]
    },
    {
      "cell_type": "markdown",
      "source": [
        "### **Union Method**"
      ],
      "metadata": {
        "id": "Ac7a6cY6w_zF"
      }
    },
    {
      "cell_type": "markdown",
      "source": [
        "It is used to get the union of the two sets"
      ],
      "metadata": {
        "id": "oFL-b7_BxDAd"
      }
    },
    {
      "cell_type": "code",
      "source": [
        "set1 = {1,2,3,4,5}\n",
        "set2 = {3,4,5,6,7}\n",
        "# method 1\n",
        "union = set1.union(set2)\n",
        "print(union)\n",
        "\n",
        "# method 2\n",
        "print(set1 | set2)"
      ],
      "metadata": {
        "id": "ixi6SOUlwg6e",
        "outputId": "b7f13a35-6546-4932-b18e-eced3f8d7068",
        "colab": {
          "base_uri": "https://localhost:8080/"
        }
      },
      "execution_count": 44,
      "outputs": [
        {
          "output_type": "stream",
          "name": "stdout",
          "text": [
            "{1, 2, 3, 4, 5, 6, 7}\n",
            "{1, 2, 3, 4, 5, 6, 7}\n"
          ]
        }
      ]
    },
    {
      "cell_type": "markdown",
      "source": [
        "### **Difference Method**"
      ],
      "metadata": {
        "id": "x-lWP7rYxXip"
      }
    },
    {
      "cell_type": "markdown",
      "source": [
        "It drops all of the elements which are common in second set and returns the remaining uncommon elements of first set."
      ],
      "metadata": {
        "id": "qTn9XJSVxc5n"
      }
    },
    {
      "cell_type": "code",
      "source": [
        "set1 = {1,2,3,4,5}\n",
        "set2 = {3,4,5,6,7}\n",
        "# method 1\n",
        "difference = set1.difference(set2)\n",
        "print(difference)\n",
        "\n",
        "# method 2\n",
        "print(set1 - set2)"
      ],
      "metadata": {
        "id": "ySX-rUhIxNNH",
        "outputId": "f29ef26f-ee46-4d89-8909-c0724fbe9315",
        "colab": {
          "base_uri": "https://localhost:8080/"
        }
      },
      "execution_count": 45,
      "outputs": [
        {
          "output_type": "stream",
          "name": "stdout",
          "text": [
            "{1, 2}\n",
            "{1, 2}\n"
          ]
        }
      ]
    },
    {
      "cell_type": "markdown",
      "source": [
        "# **Dictionaries**"
      ],
      "metadata": {
        "id": "4mZIQd6XyTkV"
      }
    },
    {
      "cell_type": "markdown",
      "source": [
        "It is a collection of different data types in key-value pairs which is unordered, changeable and indexed. It is represented by ginger tags({})."
      ],
      "metadata": {
        "id": "jgeXgXaryXBh"
      }
    },
    {
      "cell_type": "code",
      "source": [
        "# creating an empty dictionary\n",
        "# method 1\n",
        "my_dict = {}\n",
        "print(my_dict)\n",
        "print(type(my_dict))\n",
        "\n",
        "# method 2\n",
        "my_dict = dict()\n",
        "print(my_dict)\n",
        "print(type(my_dict))"
      ],
      "metadata": {
        "id": "_BXOuFF-x4PN",
        "outputId": "06869d1f-5c5a-4c46-f98a-0996200013ec",
        "colab": {
          "base_uri": "https://localhost:8080/"
        }
      },
      "execution_count": 46,
      "outputs": [
        {
          "output_type": "stream",
          "name": "stdout",
          "text": [
            "{}\n",
            "<class 'dict'>\n",
            "{}\n",
            "<class 'dict'>\n"
          ]
        }
      ]
    },
    {
      "cell_type": "code",
      "source": [
        "# creating a dictionary with elements\n",
        "my_dict = {'Name': 'Anas', 'Age': 23}\n",
        "print(my_dict)\n",
        "print(type(my_dict))"
      ],
      "metadata": {
        "id": "Rxux_Y3Ey2PI",
        "outputId": "9ff78ff3-6f79-4a74-a42b-74b54d6aa7a2",
        "colab": {
          "base_uri": "https://localhost:8080/"
        }
      },
      "execution_count": 52,
      "outputs": [
        {
          "output_type": "stream",
          "name": "stdout",
          "text": [
            "{'Name': 'Anas', 'Age': 23}\n",
            "<class 'dict'>\n"
          ]
        }
      ]
    },
    {
      "cell_type": "code",
      "source": [
        "# retreiving values of a dictionary\n",
        "print(my_dict['Name'])\n",
        "print(my_dict['Age'])"
      ],
      "metadata": {
        "id": "n3W3I5w0zV-V",
        "outputId": "32c2d7c1-7c12-431b-e1d3-2646c127e658",
        "colab": {
          "base_uri": "https://localhost:8080/"
        }
      },
      "execution_count": 54,
      "outputs": [
        {
          "output_type": "stream",
          "name": "stdout",
          "text": [
            "Anas\n",
            "23\n"
          ]
        }
      ]
    },
    {
      "cell_type": "markdown",
      "source": [
        "## **Dictionary Methods**"
      ],
      "metadata": {
        "id": "zLfCylm60HI-"
      }
    },
    {
      "cell_type": "markdown",
      "source": [
        "### **keys Method**"
      ],
      "metadata": {
        "id": "migXH-2E0Jxk"
      }
    },
    {
      "cell_type": "markdown",
      "source": [
        "It returns all of the keys present in a dictionary"
      ],
      "metadata": {
        "id": "RSBcsGV00MUi"
      }
    },
    {
      "cell_type": "code",
      "source": [
        "my_set = {'Name': 'Anas', 'Age': 23}\n",
        "print(my_set)\n",
        "print(my_set.keys())"
      ],
      "metadata": {
        "id": "MWgscFz1zruf",
        "outputId": "77641cc8-e556-4587-e501-4640ea27d8f9",
        "colab": {
          "base_uri": "https://localhost:8080/"
        }
      },
      "execution_count": 55,
      "outputs": [
        {
          "output_type": "stream",
          "name": "stdout",
          "text": [
            "{'Name': 'Anas', 'Age': 23}\n",
            "dict_keys(['Name', 'Age'])\n"
          ]
        }
      ]
    },
    {
      "cell_type": "markdown",
      "source": [
        "### **Values Method**"
      ],
      "metadata": {
        "id": "jlZrOsWC0aDA"
      }
    },
    {
      "cell_type": "markdown",
      "source": [
        "It returns all of the values present in a dictionary"
      ],
      "metadata": {
        "id": "_rLJ3_fk0dFj"
      }
    },
    {
      "cell_type": "code",
      "source": [
        "my_dict = {'Name': 'Anas', 'Age': 23}\n",
        "print(my_dict)\n",
        "print(my_dict.values())"
      ],
      "metadata": {
        "id": "BucMXeOj0XgO",
        "outputId": "c73eb7ce-3d30-4a69-e970-ef8b47b62de0",
        "colab": {
          "base_uri": "https://localhost:8080/"
        }
      },
      "execution_count": 57,
      "outputs": [
        {
          "output_type": "stream",
          "name": "stdout",
          "text": [
            "{'Name': 'Anas', 'Age': 23}\n",
            "dict_values(['Anas', 23])\n"
          ]
        }
      ]
    },
    {
      "cell_type": "markdown",
      "source": [
        "### **Items Method**"
      ],
      "metadata": {
        "id": "_AKUKGsk0qGG"
      }
    },
    {
      "cell_type": "markdown",
      "source": [
        "It returns a list of tuples containing keys and values present in a dictionary"
      ],
      "metadata": {
        "id": "n9tNkqXK0tGi"
      }
    },
    {
      "cell_type": "code",
      "source": [
        "my_dict = {'Name': 'Anas', 'Age': 23}\n",
        "print(my_dict)\n",
        "print(my_dict.items())"
      ],
      "metadata": {
        "id": "MIfJVxi-0nBK",
        "outputId": "4ec16b25-7955-421a-e94a-0a2bc6ff1796",
        "colab": {
          "base_uri": "https://localhost:8080/"
        }
      },
      "execution_count": 58,
      "outputs": [
        {
          "output_type": "stream",
          "name": "stdout",
          "text": [
            "{'Name': 'Anas', 'Age': 23}\n",
            "dict_items([('Name', 'Anas'), ('Age', 23)])\n"
          ]
        }
      ]
    },
    {
      "cell_type": "markdown",
      "source": [
        "### **Get Method**"
      ],
      "metadata": {
        "id": "y8My4bsB1AYO"
      }
    },
    {
      "cell_type": "markdown",
      "source": [
        "It is used to retreive a value for a given key and returns None if key is not present in dictionary"
      ],
      "metadata": {
        "id": "lxhJcoJS1D7C"
      }
    },
    {
      "cell_type": "code",
      "source": [
        "my_dict = {'Name': 'Anas', 'Age': 23}\n",
        "print(my_dict)\n",
        "print(my_dict.get('Name'))\n",
        "print(my_dict.get('Salary'))"
      ],
      "metadata": {
        "id": "wYPxmJPA03Wo",
        "outputId": "35871cbc-6085-4634-d522-4dfefba7d507",
        "colab": {
          "base_uri": "https://localhost:8080/"
        }
      },
      "execution_count": 65,
      "outputs": [
        {
          "output_type": "stream",
          "name": "stdout",
          "text": [
            "{'Name': 'Anas', 'Age': 23}\n",
            "Anas\n",
            "None\n"
          ]
        }
      ]
    },
    {
      "cell_type": "markdown",
      "source": [
        "### **Pop Method**"
      ],
      "metadata": {
        "id": "9zPofCf51loA"
      }
    },
    {
      "cell_type": "markdown",
      "source": [
        "It is used to remove a particular key-value pair from a dictionary by passing key as an argument and it returns the value after removing"
      ],
      "metadata": {
        "id": "YnuCUfgj1oGI"
      }
    },
    {
      "cell_type": "code",
      "source": [
        "my_dict = {'Name': 'Anas', 'Age': 23}\n",
        "print(my_dict)\n",
        "print(my_dict.pop('Age'))\n",
        "print(my_dict)"
      ],
      "metadata": {
        "id": "rqljp5P-1Rua",
        "outputId": "c4d1fa48-c346-4b19-882e-62f0932724fc",
        "colab": {
          "base_uri": "https://localhost:8080/"
        }
      },
      "execution_count": 71,
      "outputs": [
        {
          "output_type": "stream",
          "name": "stdout",
          "text": [
            "{'Name': 'Anas', 'Age': 23}\n",
            "23\n",
            "{'Name': 'Anas'}\n"
          ]
        }
      ]
    },
    {
      "cell_type": "markdown",
      "source": [
        "### **Update Method**"
      ],
      "metadata": {
        "id": "gYEJxXnK2cYl"
      }
    },
    {
      "cell_type": "markdown",
      "source": [
        "It is used to add multiple key-value pairs in a dictionary"
      ],
      "metadata": {
        "id": "sxyekA6n2fDW"
      }
    },
    {
      "cell_type": "code",
      "source": [
        "my_dict = {'Name': 'Anas', 'Age': 23}\n",
        "print(my_dict)\n",
        "my_dict.update({'Profession': 'Data Scientist', 'Skills': ['Python', 'SQL', 'Statistics', 'Machine Learning', 'Deep Learning']})\n",
        "print(my_dict)"
      ],
      "metadata": {
        "id": "EK38d30e1bBT",
        "outputId": "ee9e45ae-e5c4-4894-84de-4ab7528c9333",
        "colab": {
          "base_uri": "https://localhost:8080/"
        }
      },
      "execution_count": 73,
      "outputs": [
        {
          "output_type": "stream",
          "name": "stdout",
          "text": [
            "{'Name': 'Anas', 'Age': 23}\n",
            "{'Name': 'Anas', 'Age': 23, 'Profession': 'Data Scientist', 'Skills': ['Python', 'SQL', 'Statistics', 'Machine Learning', 'Deep Learning']}\n"
          ]
        }
      ]
    },
    {
      "cell_type": "markdown",
      "source": [
        "# **Tuples**"
      ],
      "metadata": {
        "id": "PJcDRkKQ3D23"
      }
    },
    {
      "cell_type": "markdown",
      "source": [
        "It is a collection of different data types like Lists but they are immutable in nature."
      ],
      "metadata": {
        "id": "S5KAAKH73GcN"
      }
    },
    {
      "cell_type": "code",
      "source": [
        "# creating an empty tuple\n",
        "# method 1\n",
        "my_tup = tuple()\n",
        "print(my_tup)\n",
        "print(type(my_tup))\n",
        "\n",
        "# method 2\n",
        "my_tup = ()\n",
        "print(my_tup)\n",
        "print(type(my_tup))"
      ],
      "metadata": {
        "id": "-Oc832M72aPX",
        "outputId": "400ca096-7fb9-4b3c-b96f-efe5198b4cd3",
        "colab": {
          "base_uri": "https://localhost:8080/"
        }
      },
      "execution_count": 76,
      "outputs": [
        {
          "output_type": "stream",
          "name": "stdout",
          "text": [
            "()\n",
            "<class 'tuple'>\n",
            "()\n",
            "<class 'tuple'>\n"
          ]
        }
      ]
    },
    {
      "cell_type": "code",
      "source": [
        "# creating tuple with elements\n",
        "# method 1\n",
        "my_tup = (1,2,3,4,'Python')\n",
        "print(my_tup)\n",
        "print(type(my_tup))\n",
        "\n",
        "# method 2\n",
        "my_tup = 1,2,3,4,'Python'\n",
        "print(my_tup)\n",
        "print(type(my_tup))"
      ],
      "metadata": {
        "id": "1FHPsP0h3V0M",
        "outputId": "ad5040de-aa56-4aa2-eb5e-4f0da6f80f9f",
        "colab": {
          "base_uri": "https://localhost:8080/"
        }
      },
      "execution_count": 81,
      "outputs": [
        {
          "output_type": "stream",
          "name": "stdout",
          "text": [
            "(1, 2, 3, 4, 'Python')\n",
            "<class 'tuple'>\n",
            "(1, 2, 3, 4, 'Python')\n",
            "<class 'tuple'>\n"
          ]
        }
      ]
    },
    {
      "cell_type": "code",
      "source": [
        "# creating tuple with single element\n",
        "my_tup = ('Python',)\n",
        "print(my_tup)\n",
        "print(type(my_tup))"
      ],
      "metadata": {
        "id": "o7xXUCue3Xgl",
        "outputId": "1615f577-75dc-4067-9d14-f7edcdf2ac3e",
        "colab": {
          "base_uri": "https://localhost:8080/"
        }
      },
      "execution_count": 78,
      "outputs": [
        {
          "output_type": "stream",
          "name": "stdout",
          "text": [
            "('Python',)\n",
            "<class 'tuple'>\n"
          ]
        }
      ]
    },
    {
      "cell_type": "code",
      "source": [
        "# retreiving single element using indexing\n",
        "my_tup = 1,2,3,4,'Python'\n",
        "print(my_tup[0])\n",
        "print(my_tup[-1])"
      ],
      "metadata": {
        "id": "cs37cP9-4pqe",
        "outputId": "58dcc8bf-913e-4896-fc61-8b7c66e2932f",
        "colab": {
          "base_uri": "https://localhost:8080/"
        }
      },
      "execution_count": 83,
      "outputs": [
        {
          "output_type": "stream",
          "name": "stdout",
          "text": [
            "1\n",
            "Python\n"
          ]
        }
      ]
    },
    {
      "cell_type": "code",
      "source": [
        "# retreiving multiple elements using slicing\n",
        "my_tup = 1,2,3,4,'Python'\n",
        "print(my_tup[:])\n",
        "print(my_tup[2:4])"
      ],
      "metadata": {
        "id": "kF6fusGJ4pni",
        "outputId": "387e730d-22a3-4b38-aa8d-4b9220b2851d",
        "colab": {
          "base_uri": "https://localhost:8080/"
        }
      },
      "execution_count": 86,
      "outputs": [
        {
          "output_type": "stream",
          "name": "stdout",
          "text": [
            "(1, 2, 3, 4, 'Python')\n",
            "(3, 4)\n"
          ]
        }
      ]
    },
    {
      "cell_type": "markdown",
      "source": [
        "## **Tuple Methods**"
      ],
      "metadata": {
        "id": "Vt2nzjXZ4IMR"
      }
    },
    {
      "cell_type": "markdown",
      "source": [
        "### **Count Method**"
      ],
      "metadata": {
        "id": "ZGij_AUb4K0S"
      }
    },
    {
      "cell_type": "markdown",
      "source": [
        "It counts the total occurence of a given elements in a tuple"
      ],
      "metadata": {
        "id": "xDVmxlfd4OID"
      }
    },
    {
      "cell_type": "code",
      "source": [
        "my_tup = (1,2,3,3,4,4,4,4)\n",
        "print(my_tup)\n",
        "print(\"Occurence of 2: \", my_tup.count(2))\n",
        "print(\"Occurence of 4: \", my_tup.count(4))"
      ],
      "metadata": {
        "id": "xVLyCodj4CvP",
        "outputId": "5260af46-c9c5-4ee5-f115-4acac8806fa4",
        "colab": {
          "base_uri": "https://localhost:8080/"
        }
      },
      "execution_count": 84,
      "outputs": [
        {
          "output_type": "stream",
          "name": "stdout",
          "text": [
            "(1, 2, 3, 3, 4, 4, 4, 4)\n",
            "Occurence of 2:  1\n",
            "Occurence of 4:  4\n"
          ]
        }
      ]
    },
    {
      "cell_type": "markdown",
      "source": [
        "### **Index Method**"
      ],
      "metadata": {
        "id": "P4OrEGwl5F9S"
      }
    },
    {
      "cell_type": "markdown",
      "source": [
        "It returns the index of first occuence of a given element as an argument"
      ],
      "metadata": {
        "id": "_TWesEwN5Iev"
      }
    },
    {
      "cell_type": "code",
      "source": [
        "my_tup = (1,2,3,3,4,4,4,4)\n",
        "print(my_tup)\n",
        "print(my_tup.index(4))"
      ],
      "metadata": {
        "id": "KKVEQ5-74lKO",
        "outputId": "9d853b1b-4dee-42bc-bc74-3818912abca5",
        "colab": {
          "base_uri": "https://localhost:8080/"
        }
      },
      "execution_count": 87,
      "outputs": [
        {
          "output_type": "stream",
          "name": "stdout",
          "text": [
            "(1, 2, 3, 3, 4, 4, 4, 4)\n",
            "4\n"
          ]
        }
      ]
    },
    {
      "cell_type": "code",
      "source": [],
      "metadata": {
        "id": "vQPAIT2v5Uwm"
      },
      "execution_count": null,
      "outputs": []
    }
  ],
  "metadata": {
    "colab": {
      "name": "Welcome To Colaboratory",
      "provenance": []
    },
    "kernelspec": {
      "display_name": "Python 3",
      "name": "python3"
    }
  },
  "nbformat": 4,
  "nbformat_minor": 0
}
