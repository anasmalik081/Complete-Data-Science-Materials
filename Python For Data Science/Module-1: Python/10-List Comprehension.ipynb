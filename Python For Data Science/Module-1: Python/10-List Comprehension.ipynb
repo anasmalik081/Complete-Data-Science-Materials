{
  "cells": [
    {
      "cell_type": "markdown",
      "source": [
        "# **List Comprehension**"
      ],
      "metadata": {
        "id": "3sEO9rZdkeRI"
      }
    },
    {
      "cell_type": "markdown",
      "source": [
        "It is a way of creating a new list from an iterable object while satisfying certain condition if there."
      ],
      "metadata": {
        "id": "fijZbGQpk_PE"
      }
    },
    {
      "cell_type": "code",
      "source": [
        "# creating a list\n",
        "lst1 = [1, 2, 3, 4, 5]"
      ],
      "metadata": {
        "id": "hrf_vAqbkga7"
      },
      "execution_count": 49,
      "outputs": []
    },
    {
      "cell_type": "code",
      "source": [
        "# creating a new list with square of elements\n",
        "# method 1 : using normal for loop\n",
        "lst2 = []\n",
        "for i in lst1:\n",
        "  lst2.append(i**2)\n",
        "print(lst2)"
      ],
      "metadata": {
        "colab": {
          "base_uri": "https://localhost:8080/"
        },
        "id": "M2HZ29Wllg3c",
        "outputId": "d026550c-daeb-4d5e-c85c-a5f752ce9271"
      },
      "execution_count": 30,
      "outputs": [
        {
          "output_type": "stream",
          "name": "stdout",
          "text": [
            "[1, 4, 9, 16, 25]\n"
          ]
        }
      ]
    },
    {
      "cell_type": "code",
      "source": [
        "# method 2 : using list comprehension\n",
        "lst2 = [i**2 for i in lst1]\n",
        "print(lst2)"
      ],
      "metadata": {
        "colab": {
          "base_uri": "https://localhost:8080/"
        },
        "id": "GkEB7hJpl0mS",
        "outputId": "c3da39cc-406b-4911-cac0-4b633ed3afd1"
      },
      "execution_count": 50,
      "outputs": [
        {
          "output_type": "stream",
          "name": "stdout",
          "text": [
            "[1, 4, 9, 16, 25]\n"
          ]
        }
      ]
    },
    {
      "cell_type": "code",
      "source": [
        "# creating a list\n",
        "lst1 = list(range(1,11))\n",
        "print(lst1)"
      ],
      "metadata": {
        "colab": {
          "base_uri": "https://localhost:8080/"
        },
        "id": "I-gQQSofl6fo",
        "outputId": "e4a92270-4b70-4434-c7eb-7cf6f93491e3"
      },
      "execution_count": 51,
      "outputs": [
        {
          "output_type": "stream",
          "name": "stdout",
          "text": [
            "[1, 2, 3, 4, 5, 6, 7, 8, 9, 10]\n"
          ]
        }
      ]
    },
    {
      "cell_type": "code",
      "source": [
        "# filtering even numbers from a list\n",
        "lst2 = [i for i in lst1 if i%2 == 0]\n",
        "print(lst2)"
      ],
      "metadata": {
        "colab": {
          "base_uri": "https://localhost:8080/"
        },
        "id": "Y5axpcW8niRQ",
        "outputId": "48573498-6f51-4df3-9db2-dbe6cdc83983"
      },
      "execution_count": 46,
      "outputs": [
        {
          "output_type": "stream",
          "name": "stdout",
          "text": [
            "[2, 4, 6, 8, 10]\n"
          ]
        }
      ]
    },
    {
      "cell_type": "code",
      "source": [
        "# squaring even numbers and cubing odd numbers\n",
        "lst2 = [i**2 if i%2==0 else i**3 for i in lst1]\n",
        "print(lst2)"
      ],
      "metadata": {
        "colab": {
          "base_uri": "https://localhost:8080/"
        },
        "id": "qCN5W6XyoSp_",
        "outputId": "3c1f5faa-d453-4889-95b8-08f67717b5e9"
      },
      "execution_count": 52,
      "outputs": [
        {
          "output_type": "stream",
          "name": "stdout",
          "text": [
            "[1, 4, 27, 16, 125, 36, 343, 64, 729, 100]\n"
          ]
        }
      ]
    },
    {
      "cell_type": "code",
      "source": [
        "# falttening out a list\n",
        "lst1 = [[1,2,3], [4,5,6], [7,8,9]]\n",
        "print(lst1)\n",
        "\n",
        "lst2 = [elem for sublist in lst1 for elem in sublist]\n",
        "print(lst2)"
      ],
      "metadata": {
        "colab": {
          "base_uri": "https://localhost:8080/"
        },
        "id": "AhNEpLC9np1Y",
        "outputId": "b452e76c-5c19-4258-ee6a-5f2c18aed440"
      },
      "execution_count": 47,
      "outputs": [
        {
          "output_type": "stream",
          "name": "stdout",
          "text": [
            "[[1, 2, 3], [4, 5, 6], [7, 8, 9]]\n",
            "[1, 2, 3, 4, 5, 6, 7, 8, 9]\n"
          ]
        }
      ]
    },
    {
      "cell_type": "code",
      "source": [
        "# generating a list of first letters of words in a list\n",
        "words = ['apple', 'banana', 'cherry', 'date']\n",
        "first_letters = [word[0] for word in words]\n",
        "print(first_letters)"
      ],
      "metadata": {
        "colab": {
          "base_uri": "https://localhost:8080/"
        },
        "id": "jHw2LGwPoIIS",
        "outputId": "8807a2ce-7be0-40e5-e493-0c1db1c52d14"
      },
      "execution_count": 54,
      "outputs": [
        {
          "output_type": "stream",
          "name": "stdout",
          "text": [
            "['a', 'b', 'c', 'd']\n"
          ]
        }
      ]
    },
    {
      "cell_type": "code",
      "source": [
        "# converting a list of strings to list of integers\n",
        "lst = ['1', '2', '3', '4', '5']\n",
        "\n",
        "# method 1: using map function\n",
        "lst_of_int = list(map(int, lst))\n",
        "print(lst_of_int)\n",
        "\n",
        "# method 2: using list comprehension\n",
        "lst_of_int = [int(i) for i in lst]\n",
        "print(lst_of_int)"
      ],
      "metadata": {
        "colab": {
          "base_uri": "https://localhost:8080/"
        },
        "id": "kZFVFK7fo3Wa",
        "outputId": "a3d33516-168e-4122-a94d-08f593ccbb54"
      },
      "execution_count": 56,
      "outputs": [
        {
          "output_type": "stream",
          "name": "stdout",
          "text": [
            "[1, 2, 3, 4, 5]\n",
            "[1, 2, 3, 4, 5]\n"
          ]
        }
      ]
    },
    {
      "cell_type": "code",
      "source": [],
      "metadata": {
        "id": "K1nqXSzspqCL"
      },
      "execution_count": null,
      "outputs": []
    }
  ],
  "metadata": {
    "colab": {
      "name": "Welcome To Colaboratory",
      "provenance": []
    },
    "kernelspec": {
      "display_name": "Python 3",
      "name": "python3"
    }
  },
  "nbformat": 4,
  "nbformat_minor": 0
}