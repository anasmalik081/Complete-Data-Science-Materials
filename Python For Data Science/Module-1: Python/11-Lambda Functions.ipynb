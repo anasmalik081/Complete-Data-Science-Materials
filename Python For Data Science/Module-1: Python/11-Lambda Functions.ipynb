{
  "cells": [
    {
      "cell_type": "markdown",
      "source": [
        "# **Lambda Functions in Python**"
      ],
      "metadata": {
        "id": "K-DJjcnlq2xd"
      }
    },
    {
      "cell_type": "markdown",
      "source": [
        "In python, a lambda function(also called as anonymous function) is a small, anonymous function that can be defined in a single line of code without a name. It is useful when we need a simple function that we don't want to define explicitly using def keyword. The basic syntax for a lambda function is :\n",
        "\n",
        "**lambda arguments: expression**"
      ],
      "metadata": {
        "id": "CLte3gQ_q8YL"
      }
    },
    {
      "cell_type": "code",
      "source": [
        "# creating a lambda function to add two numbers\n",
        "add = lambda a,b: a+b\n",
        "add(2,3)"
      ],
      "metadata": {
        "id": "oA8tDaNlq7i6",
        "outputId": "f14b69ab-8ae7-463e-f37e-c074e2db1b48",
        "colab": {
          "base_uri": "https://localhost:8080/"
        }
      },
      "execution_count": 61,
      "outputs": [
        {
          "output_type": "execute_result",
          "data": {
            "text/plain": [
              "5"
            ]
          },
          "metadata": {},
          "execution_count": 61
        }
      ]
    },
    {
      "cell_type": "code",
      "source": [
        "# multiplying two numbers\n",
        "mul = lambda a,b: a*b\n",
        "mul(2,3)"
      ],
      "metadata": {
        "id": "c2A1mCDjsGrc",
        "outputId": "076a29e9-14d6-4335-d072-50a70c2484d2",
        "colab": {
          "base_uri": "https://localhost:8080/"
        }
      },
      "execution_count": 62,
      "outputs": [
        {
          "output_type": "execute_result",
          "data": {
            "text/plain": [
              "6"
            ]
          },
          "metadata": {},
          "execution_count": 62
        }
      ]
    },
    {
      "cell_type": "code",
      "source": [
        "# return length of a string\n",
        "len_of_str = lambda string: len(string)\n",
        "len_of_str(\"lambda\")"
      ],
      "metadata": {
        "id": "TyDnJ0T2sI6Y",
        "outputId": "0a25bf37-b8cf-40e1-e61a-c7a79d4c604a",
        "colab": {
          "base_uri": "https://localhost:8080/"
        }
      },
      "execution_count": 64,
      "outputs": [
        {
          "output_type": "execute_result",
          "data": {
            "text/plain": [
              "6"
            ]
          },
          "metadata": {},
          "execution_count": 64
        }
      ]
    },
    {
      "cell_type": "code",
      "source": [
        "# converting list of integers to their square values\n",
        "numbers = [1,2,3,4,5]\n",
        "\n",
        "# method 1: using map function\n",
        "sqr_vals = lambda x: x**2\n",
        "print(list(map(sqr_vals, numbers)))\n",
        "\n",
        "# method 2: using list comprehension\n",
        "sqr_vals = lambda lst: [i**2 for i in lst]\n",
        "print(sqr_vals(numbers))"
      ],
      "metadata": {
        "id": "X3beOuEqsNaw",
        "outputId": "0a44d81d-6d3f-41cf-c397-d3cb4cdce115",
        "colab": {
          "base_uri": "https://localhost:8080/"
        }
      },
      "execution_count": 69,
      "outputs": [
        {
          "output_type": "stream",
          "name": "stdout",
          "text": [
            "[1, 4, 9, 16, 25]\n",
            "[1, 4, 9, 16, 25]\n"
          ]
        }
      ]
    },
    {
      "cell_type": "code",
      "source": [
        "# filter out even number from a list\n",
        "numbers = list(range(1, 11))\n",
        "\n",
        "# method 1: using filter function\n",
        "even_numbers = lambda num: num%2 == 0\n",
        "print(list(filter(even_numbers, numbers)))\n",
        "\n",
        "# method 2: using list comprehension\n",
        "even_numbers = lambda lst: [num for num in lst if num%2==0]\n",
        "print(even_numbers(numbers))"
      ],
      "metadata": {
        "id": "j2384HuGtTa8",
        "outputId": "150f7902-bc0d-4b73-9345-c4c2e0629362",
        "colab": {
          "base_uri": "https://localhost:8080/"
        }
      },
      "execution_count": 71,
      "outputs": [
        {
          "output_type": "stream",
          "name": "stdout",
          "text": [
            "[2, 4, 6, 8, 10]\n",
            "[2, 4, 6, 8, 10]\n"
          ]
        }
      ]
    },
    {
      "cell_type": "code",
      "source": [
        "# sort a list of dictionaries based on a specific key\n",
        "people = [\n",
        "    {'name': 'Alice', 'age': 25, 'occupation': 'Engineer'},\n",
        "    {'name': 'Aarav', 'age': 25, 'occupation': 'Engineer'},\n",
        "    {'name': 'Bob', 'age': 30, 'occupation': 'Manager'},\n",
        "    {'name': 'Charlie', 'age': 22, 'occupation': 'Intern'},\n",
        "    {'name': 'Dave', 'age': 27, 'occupation': 'Designer'}\n",
        "]"
      ],
      "metadata": {
        "id": "tFghxZayumeg"
      },
      "execution_count": 79,
      "outputs": []
    },
    {
      "cell_type": "code",
      "source": [
        "sorted(people, key=lambda x: x['age'])"
      ],
      "metadata": {
        "id": "ETiYyQohwTDY",
        "outputId": "05cdad32-ae45-45bd-d192-dd9c56fcab45",
        "colab": {
          "base_uri": "https://localhost:8080/"
        }
      },
      "execution_count": 80,
      "outputs": [
        {
          "output_type": "execute_result",
          "data": {
            "text/plain": [
              "[{'name': 'Charlie', 'age': 22, 'occupation': 'Intern'},\n",
              " {'name': 'Alice', 'age': 25, 'occupation': 'Engineer'},\n",
              " {'name': 'Aarav', 'age': 25, 'occupation': 'Engineer'},\n",
              " {'name': 'Dave', 'age': 27, 'occupation': 'Designer'},\n",
              " {'name': 'Bob', 'age': 30, 'occupation': 'Manager'}]"
            ]
          },
          "metadata": {},
          "execution_count": 80
        }
      ]
    },
    {
      "cell_type": "code",
      "source": [
        "sorted(people, key=lambda x: (x['age'], x['name']))"
      ],
      "metadata": {
        "id": "csrmEn9RwckX",
        "outputId": "4ab3e51b-f58d-4a68-c605-08cfbf37b0d7",
        "colab": {
          "base_uri": "https://localhost:8080/"
        }
      },
      "execution_count": 81,
      "outputs": [
        {
          "output_type": "execute_result",
          "data": {
            "text/plain": [
              "[{'name': 'Charlie', 'age': 22, 'occupation': 'Intern'},\n",
              " {'name': 'Aarav', 'age': 25, 'occupation': 'Engineer'},\n",
              " {'name': 'Alice', 'age': 25, 'occupation': 'Engineer'},\n",
              " {'name': 'Dave', 'age': 27, 'occupation': 'Designer'},\n",
              " {'name': 'Bob', 'age': 30, 'occupation': 'Manager'}]"
            ]
          },
          "metadata": {},
          "execution_count": 81
        }
      ]
    },
    {
      "cell_type": "code",
      "source": [
        "# find the max value in a dictionary\n",
        "data = {'a': 10, 'b': 20, 'c': 5, 'd': 15}\n",
        "max(data, key=lambda x: data[x])"
      ],
      "metadata": {
        "id": "J6iwxzwZwi8R",
        "outputId": "46193677-1808-4f8d-95b6-bc2f11ea2c8f",
        "colab": {
          "base_uri": "https://localhost:8080/",
          "height": 36
        }
      },
      "execution_count": 82,
      "outputs": [
        {
          "output_type": "execute_result",
          "data": {
            "text/plain": [
              "'b'"
            ],
            "application/vnd.google.colaboratory.intrinsic+json": {
              "type": "string"
            }
          },
          "metadata": {},
          "execution_count": 82
        }
      ]
    },
    {
      "cell_type": "code",
      "source": [
        "# grouping a list of strings based on their first letter\n",
        "from itertools import groupby\n",
        "\n",
        "words = ['apple', 'banana', 'cherry', 'date', 'elderberry', 'fig']\n",
        "groups = groupby(sorted(words, key=lambda x: x[0]))\n",
        "\n",
        "for key, group in groups:\n",
        "  print(key, list(group))"
      ],
      "metadata": {
        "id": "-XsbAxTTxRKF",
        "outputId": "3be76bcb-e571-46a8-b998-1cc42de56af5",
        "colab": {
          "base_uri": "https://localhost:8080/"
        }
      },
      "execution_count": 86,
      "outputs": [
        {
          "output_type": "stream",
          "name": "stdout",
          "text": [
            "apple ['apple']\n",
            "banana ['banana']\n",
            "cherry ['cherry']\n",
            "date ['date']\n",
            "elderberry ['elderberry']\n",
            "fig ['fig']\n"
          ]
        }
      ]
    },
    {
      "cell_type": "code",
      "source": [],
      "metadata": {
        "id": "rZINhhFix4mw"
      },
      "execution_count": null,
      "outputs": []
    }
  ],
  "metadata": {
    "colab": {
      "name": "Welcome To Colaboratory",
      "provenance": []
    },
    "kernelspec": {
      "display_name": "Python 3",
      "name": "python3"
    }
  },
  "nbformat": 4,
  "nbformat_minor": 0
}