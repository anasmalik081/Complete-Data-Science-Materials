{
  "cells": [
    {
      "cell_type": "markdown",
      "source": [
        "# **Python Data Classes**"
      ],
      "metadata": {
        "id": "ahPfN2KTGwrU"
      }
    },
    {
      "cell_type": "markdown",
      "source": [
        "In Python, dataclass decorator is a feature introduced in Python 3.7 that provides a concise way to define classes primarily intended to store data. It automatically generates several special methods such as init, repr and eq, based on the class attributes you define. This simplifies the process of creating and working with data-focused classes."
      ],
      "metadata": {
        "id": "tHMK_LbsGz56"
      }
    },
    {
      "cell_type": "code",
      "source": [
        "# importing dataclass\n",
        "from dataclasses import dataclass"
      ],
      "metadata": {
        "id": "JOFliwTzGzXA"
      },
      "execution_count": 2,
      "outputs": []
    },
    {
      "cell_type": "code",
      "source": [
        "# creating a class with dataclass decorator\n",
        "@dataclass\n",
        "class Person:\n",
        "  # defining attributes\n",
        "  name: str\n",
        "  age: int\n",
        "  profession: str"
      ],
      "metadata": {
        "id": "E1tHzHNDID0R"
      },
      "execution_count": 9,
      "outputs": []
    },
    {
      "cell_type": "markdown",
      "source": [
        "The @dataclass decorator automatically generates the following methods for you :\n",
        "\n",
        "1. __init__() : Initializes the object and assign the provided values to the attributes\n",
        "2. __repr__() : Provides a string representation of the object.\n",
        "3. __eq__() : Implements equally comparison between the objects of the class based on their attributes."
      ],
      "metadata": {
        "id": "h8QD49m_KgA8"
      }
    },
    {
      "cell_type": "code",
      "source": [
        "# initializing the person class\n",
        "person = Person(\"Anas\", 23, \"Data Scientist\")"
      ],
      "metadata": {
        "id": "u6fIn9QjI3ov"
      },
      "execution_count": 7,
      "outputs": []
    },
    {
      "cell_type": "code",
      "source": [
        "# checking the attributes\n",
        "print(person.name)\n",
        "print(person.age)\n",
        "print(person.profession)"
      ],
      "metadata": {
        "id": "AdxFg8rOJ0iS",
        "outputId": "7ce41390-3222-487e-c73b-50f91a12864c",
        "colab": {
          "base_uri": "https://localhost:8080/"
        }
      },
      "execution_count": 8,
      "outputs": [
        {
          "output_type": "stream",
          "name": "stdout",
          "text": [
            "Anas\n",
            "23\n",
            "Data Scientist\n"
          ]
        }
      ]
    },
    {
      "cell_type": "code",
      "source": [
        "# creating a class using @dataclass decorator\n",
        "@dataclass\n",
        "class Rectangle:\n",
        "  # defining attributes\n",
        "  width: int\n",
        "  height: int\n",
        "  colour: str = \"White\" # default value"
      ],
      "metadata": {
        "id": "ujnmU052K77I"
      },
      "execution_count": 13,
      "outputs": []
    },
    {
      "cell_type": "code",
      "source": [
        "# intantiating the class\n",
        "rectangle1 = Rectangle(3, 4)\n",
        "rectangle2 = Rectangle(12, 13, 'Red')"
      ],
      "metadata": {
        "id": "LOoM_wtiLVii"
      },
      "execution_count": 14,
      "outputs": []
    },
    {
      "cell_type": "code",
      "source": [
        "# checking the attributes for rectangle1 object\n",
        "print(rectangle1.width)\n",
        "print(rectangle1.height)\n",
        "print(rectangle1.colour)"
      ],
      "metadata": {
        "id": "ys3yHS82LhmI",
        "outputId": "ea3e3ec9-969d-4440-d705-e1051a3de722",
        "colab": {
          "base_uri": "https://localhost:8080/"
        }
      },
      "execution_count": 16,
      "outputs": [
        {
          "output_type": "stream",
          "name": "stdout",
          "text": [
            "3\n",
            "4\n",
            "White\n"
          ]
        }
      ]
    },
    {
      "cell_type": "code",
      "source": [
        "# checking the attributes for rectangle2 object\n",
        "print(rectangle2.width)\n",
        "print(rectangle2.height)\n",
        "print(rectangle2.colour)"
      ],
      "metadata": {
        "id": "qI9jzEqbL2k_",
        "outputId": "6bbd0275-1567-4d3c-9589-1934e6ee3b31",
        "colab": {
          "base_uri": "https://localhost:8080/"
        }
      },
      "execution_count": 17,
      "outputs": [
        {
          "output_type": "stream",
          "name": "stdout",
          "text": [
            "12\n",
            "13\n",
            "Red\n"
          ]
        }
      ]
    },
    {
      "cell_type": "code",
      "source": [
        "# creating a class using @dataclass decorator with frozen=True\n",
        "@dataclass(frozen=True)\n",
        "class Point:\n",
        "  # defining attributes\n",
        "  x: int\n",
        "  y: int"
      ],
      "metadata": {
        "id": "3Kip-lRZL8Eg"
      },
      "execution_count": 18,
      "outputs": []
    },
    {
      "cell_type": "code",
      "source": [
        "# instantiating class\n",
        "point = Point(3,4)"
      ],
      "metadata": {
        "id": "zdklVE8_MaIp"
      },
      "execution_count": 19,
      "outputs": []
    },
    {
      "cell_type": "code",
      "source": [
        "# accessing attributes\n",
        "point.x, point.y"
      ],
      "metadata": {
        "id": "ZEFyY8UdMdsI",
        "outputId": "1b71c51a-b08c-4882-8e85-170cb6be07e2",
        "colab": {
          "base_uri": "https://localhost:8080/"
        }
      },
      "execution_count": 20,
      "outputs": [
        {
          "output_type": "execute_result",
          "data": {
            "text/plain": [
              "(3, 4)"
            ]
          },
          "metadata": {},
          "execution_count": 20
        }
      ]
    },
    {
      "cell_type": "markdown",
      "source": [
        "**What frozen=true does ?**\n",
        "\n",
        "It help us to give us the property that once the attributes are instantiated, then we cannot reassign or delete the attribute."
      ],
      "metadata": {
        "id": "78EySQucM0YK"
      }
    },
    {
      "cell_type": "code",
      "source": [
        "# Inheritance\n",
        "# creating a class using @dataclass\n",
        "@dataclass\n",
        "class Person:\n",
        "  # defining attributes\n",
        "  name: str\n",
        "  age: int\n",
        "\n",
        "\n",
        "# creating a child class\n",
        "@dataclass\n",
        "class Employee(Person):\n",
        "  employee_id: int\n",
        "  department: str"
      ],
      "metadata": {
        "id": "zuWUpZZ4Mg-L"
      },
      "execution_count": 22,
      "outputs": []
    },
    {
      "cell_type": "code",
      "source": [
        "#instantiating the class\n",
        "person = Person('Anas', 23)\n",
        "employee = Employee('Afzal', 32, 1, \"Cloud Department\")"
      ],
      "metadata": {
        "id": "sHKA9hqHNs4f"
      },
      "execution_count": 23,
      "outputs": []
    },
    {
      "cell_type": "code",
      "source": [
        "# accessing attributes\n",
        "employee.name, employee.age, employee.employee_id, employee.department"
      ],
      "metadata": {
        "id": "qs_xhzmoOOk-",
        "outputId": "9967e996-58a9-400c-d71d-1db6651703ed",
        "colab": {
          "base_uri": "https://localhost:8080/"
        }
      },
      "execution_count": 25,
      "outputs": [
        {
          "output_type": "execute_result",
          "data": {
            "text/plain": [
              "('Afzal', 32, 1, 'Cloud Department')"
            ]
          },
          "metadata": {},
          "execution_count": 25
        }
      ]
    },
    {
      "cell_type": "code",
      "source": [
        "# Nested dataclasses\n",
        "@dataclass\n",
        "class Address:\n",
        "  # defining attributes\n",
        "  street: str\n",
        "  city: str\n",
        "  zipCode: str\n",
        "\n",
        "@dataclass\n",
        "class Person:\n",
        "  # defining attributes\n",
        "  name: str\n",
        "  age: int\n",
        "  address: Address"
      ],
      "metadata": {
        "id": "wKzHR2TCOcR-"
      },
      "execution_count": 26,
      "outputs": []
    },
    {
      "cell_type": "code",
      "source": [
        "# instantiating the class\n",
        "address = Address('123 Main Street', 'Banglore', '12345')\n",
        "person = Person('Anas', 23, address)"
      ],
      "metadata": {
        "id": "MpX_QgVuO8bN"
      },
      "execution_count": 27,
      "outputs": []
    },
    {
      "cell_type": "code",
      "source": [
        "# accessing attributes\n",
        "person.address"
      ],
      "metadata": {
        "id": "ePlHo4SHPLUk",
        "outputId": "6e5b6bad-fb5b-49d5-df1f-75f96e143078",
        "colab": {
          "base_uri": "https://localhost:8080/"
        }
      },
      "execution_count": 28,
      "outputs": [
        {
          "output_type": "execute_result",
          "data": {
            "text/plain": [
              "Address(street='123 Main Street', city='Banglore', zipCode='12345')"
            ]
          },
          "metadata": {},
          "execution_count": 28
        }
      ]
    },
    {
      "cell_type": "code",
      "source": [
        "person.address.street, person.address.city, person.address.zipCode"
      ],
      "metadata": {
        "id": "CvBFCAoBPPww",
        "outputId": "adaa3d9b-7f5d-47dd-826d-911c97e90731",
        "colab": {
          "base_uri": "https://localhost:8080/"
        }
      },
      "execution_count": 30,
      "outputs": [
        {
          "output_type": "execute_result",
          "data": {
            "text/plain": [
              "('123 Main Street', 'Banglore', '12345')"
            ]
          },
          "metadata": {},
          "execution_count": 30
        }
      ]
    },
    {
      "cell_type": "code",
      "source": [
        "# creating a class\n",
        "@dataclass\n",
        "class Circle:\n",
        "  # defining attributes\n",
        "  radius: int\n",
        "\n",
        "  def area(self):\n",
        "    import math\n",
        "    return 2 * math.pi * self.radius"
      ],
      "metadata": {
        "id": "StZoRy9bPXWk"
      },
      "execution_count": 35,
      "outputs": []
    },
    {
      "cell_type": "code",
      "source": [
        "# instantiating the class\n",
        "circle = Circle(5)"
      ],
      "metadata": {
        "id": "Rxj8fmTZPs7E"
      },
      "execution_count": 38,
      "outputs": []
    },
    {
      "cell_type": "code",
      "source": [
        "# accessing the methods\n",
        "circle.area()"
      ],
      "metadata": {
        "id": "opj9O4s4PwMN",
        "outputId": "4a159300-823d-4312-b61f-597abb48e946",
        "colab": {
          "base_uri": "https://localhost:8080/"
        }
      },
      "execution_count": 39,
      "outputs": [
        {
          "output_type": "execute_result",
          "data": {
            "text/plain": [
              "31.41592653589793"
            ]
          },
          "metadata": {},
          "execution_count": 39
        }
      ]
    },
    {
      "cell_type": "code",
      "source": [
        "# creating class using @dataclass\n",
        "@dataclass\n",
        "class InventoryItem:\n",
        "  # defining attributes\n",
        "  name: str\n",
        "  unit_price: float\n",
        "  quantity_on_hand: int = 0 # default value 0\n",
        "\n",
        "  # method\n",
        "  def total_cost(self) -> float:\n",
        "    return self.unit_price * self.quantity_on_hand"
      ],
      "metadata": {
        "id": "2bol5nkLQKxY"
      },
      "execution_count": 47,
      "outputs": []
    },
    {
      "cell_type": "code",
      "source": [
        "# instantiating the class\n",
        "item1 = InventoryItem('Gold', 1000, 2)"
      ],
      "metadata": {
        "id": "mLBxBGzHRIxb"
      },
      "execution_count": 48,
      "outputs": []
    },
    {
      "cell_type": "code",
      "source": [
        "# accessig method\n",
        "item1.total_cost()"
      ],
      "metadata": {
        "id": "QL2bfR0fRYWQ",
        "outputId": "5e01adfe-4152-42ef-f065-5772e790669d",
        "colab": {
          "base_uri": "https://localhost:8080/"
        }
      },
      "execution_count": 49,
      "outputs": [
        {
          "output_type": "execute_result",
          "data": {
            "text/plain": [
              "2000"
            ]
          },
          "metadata": {},
          "execution_count": 49
        }
      ]
    },
    {
      "cell_type": "code",
      "source": [],
      "metadata": {
        "id": "cfK0cssoRcE2"
      },
      "execution_count": null,
      "outputs": []
    }
  ],
  "metadata": {
    "colab": {
      "name": "Welcome To Colaboratory",
      "provenance": []
    },
    "kernelspec": {
      "display_name": "Python 3",
      "name": "python3"
    }
  },
  "nbformat": 4,
  "nbformat_minor": 0
}