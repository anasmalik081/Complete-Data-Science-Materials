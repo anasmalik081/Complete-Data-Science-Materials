{
  "cells": [
    {
      "cell_type": "markdown",
      "source": [
        "# **Encapsulation in Python**"
      ],
      "metadata": {
        "id": "Qbf6M7zlW7jC"
      }
    },
    {
      "cell_type": "markdown",
      "source": [
        "Encapsulation is a fundamental principal in object-oriented programming that focuses on building data and the methods that operate on that data into a single unit called  a class. It allow us to control the access and visibility of data and methods, providing a way to protect and organize your code."
      ],
      "metadata": {
        "id": "hcQWryuFW_xB"
      }
    },
    {
      "cell_type": "code",
      "source": [
        "# Access Modifiers ----> Encapsulation\n",
        "## Private\n",
        "class Person:\n",
        "  # constructor\n",
        "  def __init__(self, name, age):\n",
        "    # defining private attributes\n",
        "    self.__name = name\n",
        "    self.__age = age\n",
        "\n",
        "  # method\n",
        "  def display_info(self)->None:\n",
        "    \"\"\"\n",
        "    Description : This function display the private attributes\n",
        "    Return : None\n",
        "    \"\"\"\n",
        "    print(f\"The person name is {self.__name} and the age is {self.__age}.\")"
      ],
      "metadata": {
        "id": "Q3Y5YWnTW-lz"
      },
      "execution_count": 54,
      "outputs": []
    },
    {
      "cell_type": "code",
      "source": [
        "# instantiating the class\n",
        "person = Person(\"Anas\", 23)"
      ],
      "metadata": {
        "id": "zADHtHg8Zdlp"
      },
      "execution_count": 53,
      "outputs": []
    },
    {
      "cell_type": "code",
      "source": [
        "# accessing the method\n",
        "person.display_info()"
      ],
      "metadata": {
        "id": "c5s09_r-aDxG",
        "outputId": "6f048c4d-63c5-42a3-f3c7-b2caf1605724",
        "colab": {
          "base_uri": "https://localhost:8080/"
        }
      },
      "execution_count": 55,
      "outputs": [
        {
          "output_type": "stream",
          "name": "stdout",
          "text": [
            "The person name is Anas and the age is 23.\n"
          ]
        }
      ]
    },
    {
      "cell_type": "code",
      "source": [
        "# to display the private attributes\n",
        "print(dir(person))"
      ],
      "metadata": {
        "id": "4SFAcjguaPTt",
        "outputId": "85eef7a7-9de0-43b0-ab6a-25c2d00db125",
        "colab": {
          "base_uri": "https://localhost:8080/"
        }
      },
      "execution_count": 56,
      "outputs": [
        {
          "output_type": "stream",
          "name": "stdout",
          "text": [
            "['_Person__age', '_Person__name', '__class__', '__delattr__', '__dict__', '__dir__', '__doc__', '__eq__', '__format__', '__ge__', '__getattribute__', '__gt__', '__hash__', '__init__', '__init_subclass__', '__le__', '__lt__', '__module__', '__ne__', '__new__', '__reduce__', '__reduce_ex__', '__repr__', '__setattr__', '__sizeof__', '__str__', '__subclasshook__', '__weakref__', 'display_info']\n"
          ]
        }
      ]
    },
    {
      "cell_type": "code",
      "source": [
        "# protected access modifier\n",
        "class Person:\n",
        "  # constructor\n",
        "  def __init__(self, name, age):\n",
        "    # defining protected attributes\n",
        "    self._name = name\n",
        "    self._age = age"
      ],
      "metadata": {
        "id": "36unNYFQaZL9"
      },
      "execution_count": 60,
      "outputs": []
    },
    {
      "cell_type": "code",
      "source": [
        "# instantiating the class\n",
        "person = Person(\"Anas\", 23)"
      ],
      "metadata": {
        "id": "7bP8EiS4bQTT"
      },
      "execution_count": 58,
      "outputs": []
    },
    {
      "cell_type": "code",
      "source": [
        "# accessing the attributes\n",
        "print(person._name)\n",
        "print(person._age)"
      ],
      "metadata": {
        "id": "8cAgxfxfbf0d",
        "outputId": "1e966938-806a-40a8-b35a-2adec0ed8a7f",
        "colab": {
          "base_uri": "https://localhost:8080/"
        }
      },
      "execution_count": 59,
      "outputs": [
        {
          "output_type": "stream",
          "name": "stdout",
          "text": [
            "Anas\n",
            "23\n"
          ]
        }
      ]
    },
    {
      "cell_type": "code",
      "source": [
        "class Student(Person):\n",
        "  # constructor\n",
        "  def __init__(self, name, age, report):\n",
        "    super().__init__(name, age)\n",
        "    self.report = report\n",
        "\n",
        "  # method\n",
        "  def display_info(self):\n",
        "    print(f\"The person name is {self._name} and the age is {self._age}\")\n",
        "    print(self.report)"
      ],
      "metadata": {
        "id": "2gWHiR0EbvuO"
      },
      "execution_count": 63,
      "outputs": []
    },
    {
      "cell_type": "code",
      "source": [
        "# instantiating the class\n",
        "report_card = {\n",
        "    'Python': 100,\n",
        "    'SQL': 100,\n",
        "    'Statistics': 100,\n",
        "    'Machine Learning': 100,\n",
        "    'Deep Learning':100\n",
        "}\n",
        "student = Student('Anas', 23, report_card)"
      ],
      "metadata": {
        "id": "TZrK4LCdcATF"
      },
      "execution_count": 64,
      "outputs": []
    },
    {
      "cell_type": "code",
      "source": [
        "# accessing the method\n",
        "student.display_info()"
      ],
      "metadata": {
        "id": "jhdZ-7PHcr2Y",
        "outputId": "f0ad4c66-b614-4485-f254-d8d928f3e88f",
        "colab": {
          "base_uri": "https://localhost:8080/"
        }
      },
      "execution_count": 65,
      "outputs": [
        {
          "output_type": "stream",
          "name": "stdout",
          "text": [
            "The person name is Anas and the age is 23\n",
            "{'Python': 100, 'SQL': 100, 'Statistics': 100, 'Machine Learning': 100, 'Deep Learning': 100}\n"
          ]
        }
      ]
    },
    {
      "cell_type": "code",
      "source": [
        "# Public access modifiers\n",
        "class Person:\n",
        "  # constructor\n",
        "  def __init__(self, name, age):\n",
        "    # defining public attributes\n",
        "    self.name = name\n",
        "    self.age = 23"
      ],
      "metadata": {
        "id": "ohwjylCTcx8U"
      },
      "execution_count": 66,
      "outputs": []
    },
    {
      "cell_type": "code",
      "source": [
        "# instantiating the class\n",
        "person = Person('Anas', 23)"
      ],
      "metadata": {
        "id": "c6_EnMU_dHZL"
      },
      "execution_count": 67,
      "outputs": []
    },
    {
      "cell_type": "code",
      "source": [
        "# accessing the attributes\n",
        "print(person.name)\n",
        "print(person.age)"
      ],
      "metadata": {
        "id": "Puv-S_IRdLuT",
        "outputId": "64dd930d-50dd-47ed-f394-0f0e010fd59f",
        "colab": {
          "base_uri": "https://localhost:8080/"
        }
      },
      "execution_count": 68,
      "outputs": [
        {
          "output_type": "stream",
          "name": "stdout",
          "text": [
            "Anas\n",
            "23\n"
          ]
        }
      ]
    },
    {
      "cell_type": "code",
      "source": [],
      "metadata": {
        "id": "Yeu-k_sIdRG_"
      },
      "execution_count": null,
      "outputs": []
    }
  ],
  "metadata": {
    "colab": {
      "name": "Welcome To Colaboratory",
      "provenance": []
    },
    "kernelspec": {
      "display_name": "Python 3",
      "name": "python3"
    }
  },
  "nbformat": 4,
  "nbformat_minor": 0
}