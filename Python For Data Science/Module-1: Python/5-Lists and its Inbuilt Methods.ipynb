{
  "cells": [
    {
      "cell_type": "markdown",
      "source": [
        "# **Lists**"
      ],
      "metadata": {
        "id": "VZs3EujCgAtz"
      }
    },
    {
      "cell_type": "markdown",
      "source": [
        "It is a collection of different data types. Lists are mutable in nature which means it can be modified. We can create Lists by using big brackets([])."
      ],
      "metadata": {
        "id": "1t7vt4qvgLCB"
      }
    },
    {
      "cell_type": "code",
      "source": [
        "# creating an empty list\n",
        "# method 1\n",
        "lst = []\n",
        "print(lst)\n",
        "print(type(lst))\n",
        "\n",
        "# method 2\n",
        "lst = list()\n",
        "print(lst)\n",
        "print(type(lst))"
      ],
      "metadata": {
        "id": "yIPolrJKgoFq",
        "outputId": "345ecbfc-2049-4dca-9a35-4fce95c904ea",
        "colab": {
          "base_uri": "https://localhost:8080/"
        }
      },
      "execution_count": 7,
      "outputs": [
        {
          "output_type": "stream",
          "name": "stdout",
          "text": [
            "[]\n",
            "<class 'list'>\n",
            "[]\n",
            "<class 'list'>\n"
          ]
        }
      ]
    },
    {
      "cell_type": "code",
      "source": [
        "# creating a list with elements\n",
        "lst = ['python', 300, 'javascript']\n",
        "print(lst)\n",
        "print(type(lst))"
      ],
      "metadata": {
        "id": "49zm2LdTg0hg",
        "outputId": "29e996a2-d57b-4e4b-c69f-d69415e536a5",
        "colab": {
          "base_uri": "https://localhost:8080/"
        }
      },
      "execution_count": 9,
      "outputs": [
        {
          "output_type": "stream",
          "name": "stdout",
          "text": [
            "['python', 300, 'javascript']\n",
            "<class 'list'>\n"
          ]
        }
      ]
    },
    {
      "cell_type": "code",
      "source": [
        "# we can retrieve single item by indexing\n",
        "print(lst[0])\n",
        "print(lst[-1])"
      ],
      "metadata": {
        "id": "n-rOYiM-iBIt",
        "outputId": "78d9a368-db40-45c1-9694-e0ee6675b6c8",
        "colab": {
          "base_uri": "https://localhost:8080/"
        }
      },
      "execution_count": 5,
      "outputs": [
        {
          "output_type": "stream",
          "name": "stdout",
          "text": [
            "python\n",
            "javascript\n"
          ]
        }
      ]
    },
    {
      "cell_type": "code",
      "source": [
        "# we can retrieve multiple element of list by slicing\n",
        "print(lst[0:2])"
      ],
      "metadata": {
        "id": "n7bS8rc9iumr",
        "outputId": "38afae67-e53d-49a5-8274-81ebecd377ae",
        "colab": {
          "base_uri": "https://localhost:8080/"
        }
      },
      "execution_count": 10,
      "outputs": [
        {
          "output_type": "stream",
          "name": "stdout",
          "text": [
            "['python', 300]\n"
          ]
        }
      ]
    },
    {
      "cell_type": "code",
      "source": [
        "# we can modify a list because they are mutable in nature\n",
        "print(lst)\n",
        "lst[-1] = 'Data Science'\n",
        "print(lst)"
      ],
      "metadata": {
        "id": "Mu-NrGDeiJQs",
        "outputId": "b17dd0ff-fd45-4e1e-bb90-fa68f94a8de8",
        "colab": {
          "base_uri": "https://localhost:8080/"
        }
      },
      "execution_count": 12,
      "outputs": [
        {
          "output_type": "stream",
          "name": "stdout",
          "text": [
            "['python', 300, 'javascript']\n",
            "['python', 300, 'Data Science']\n"
          ]
        }
      ]
    },
    {
      "cell_type": "code",
      "source": [
        "# getting all the element through loop\n",
        "# method 1 : using for statement\n",
        "print(\"Using for loop :\")\n",
        "for elem in lst:\n",
        "  print(elem)\n",
        "\n",
        "print()\n",
        "print(\"Using while loop :\")\n",
        "i = 0\n",
        "while i<len(lst):\n",
        "  print(lst[i])\n",
        "  i += 1"
      ],
      "metadata": {
        "id": "MVXPHBASiXyw",
        "outputId": "ef6b0ca3-f815-4c54-84b9-55b830db87b4",
        "colab": {
          "base_uri": "https://localhost:8080/"
        }
      },
      "execution_count": 15,
      "outputs": [
        {
          "output_type": "stream",
          "name": "stdout",
          "text": [
            "Using for loop :\n",
            "python\n",
            "300\n",
            "Data Science\n",
            "\n",
            "Using while loop :\n",
            "python\n",
            "300\n",
            "Data Science\n"
          ]
        }
      ]
    },
    {
      "cell_type": "markdown",
      "source": [
        "## **Lists Methods :**"
      ],
      "metadata": {
        "id": "SPTiMh_6kNix"
      }
    },
    {
      "cell_type": "markdown",
      "source": [
        "### **Append Method**"
      ],
      "metadata": {
        "id": "OPgTnHc_kUxA"
      }
    },
    {
      "cell_type": "markdown",
      "source": [
        "It add the given argument at the last of the list."
      ],
      "metadata": {
        "id": "-AdRmv2Lkbw5"
      }
    },
    {
      "cell_type": "code",
      "source": [
        "lst = ['fruits', 'vegetables', 200]\n",
        "print(lst)\n",
        "lst.append('ice cream')\n",
        "print(lst)\n",
        "lst.append(['Data Science'])\n",
        "print(lst)"
      ],
      "metadata": {
        "id": "yxDTXT-2jCyq",
        "outputId": "6131d9b5-b7b2-4ef3-f622-f5596a12aa5a",
        "colab": {
          "base_uri": "https://localhost:8080/"
        }
      },
      "execution_count": 18,
      "outputs": [
        {
          "output_type": "stream",
          "name": "stdout",
          "text": [
            "['fruits', 'vegetables', 200]\n",
            "['fruits', 'vegetables', 200, 'ice cream']\n",
            "['fruits', 'vegetables', 200, 'ice cream', ['Data Science']]\n"
          ]
        }
      ]
    },
    {
      "cell_type": "markdown",
      "source": [
        "### **Extend Method**"
      ],
      "metadata": {
        "id": "09ZvTmIil6t2"
      }
    },
    {
      "cell_type": "markdown",
      "source": [
        "It is used to add multiple elements at the last of the list"
      ],
      "metadata": {
        "id": "4hbSHNOLmCuz"
      }
    },
    {
      "cell_type": "code",
      "source": [
        "lst = ['fruit', 'vegtables', 200]\n",
        "print(lst)\n",
        "lst.extend(['Data Science', 'Python', 'SQL', 'Statistics', 'Machine Learning'])\n",
        "print(lst)"
      ],
      "metadata": {
        "id": "wm9QUvwKkw_j",
        "outputId": "10c75da9-8db6-43b2-ae39-ec79d4916f72",
        "colab": {
          "base_uri": "https://localhost:8080/"
        }
      },
      "execution_count": 19,
      "outputs": [
        {
          "output_type": "stream",
          "name": "stdout",
          "text": [
            "['fruit', 'vegtables', 200]\n",
            "['fruit', 'vegtables', 200, 'Data Science', 'Python', 'SQL', 'Statistics', 'Machine Learning']\n"
          ]
        }
      ]
    },
    {
      "cell_type": "markdown",
      "source": [
        "### **Insert Method**"
      ],
      "metadata": {
        "id": "mU_lb9i8mZpk"
      }
    },
    {
      "cell_type": "markdown",
      "source": [
        "It is used to add an element at a particular index"
      ],
      "metadata": {
        "id": "IrvRv7zymeDK"
      }
    },
    {
      "cell_type": "code",
      "source": [
        "lst = ['fruit', 'vegetables', 200]\n",
        "print(lst)\n",
        "lst.insert(2, 'Data Science')\n",
        "print(lst)"
      ],
      "metadata": {
        "id": "ut8JhnG2mXn6",
        "outputId": "5d50df93-d258-4f2b-b2a9-e207691639ec",
        "colab": {
          "base_uri": "https://localhost:8080/"
        }
      },
      "execution_count": 21,
      "outputs": [
        {
          "output_type": "stream",
          "name": "stdout",
          "text": [
            "['fruit', 'vegetables', 200]\n",
            "['fruit', 'vegetables', 'Data Science', 200]\n"
          ]
        }
      ]
    },
    {
      "cell_type": "markdown",
      "source": [
        "### **Pop Method**"
      ],
      "metadata": {
        "id": "bfa2oGT4pj3Q"
      }
    },
    {
      "cell_type": "markdown",
      "source": [
        "It is used to pop an element at a particular index and if index is not provided then simple pop the last element and returns it."
      ],
      "metadata": {
        "id": "BXMMfYn7ppGf"
      }
    },
    {
      "cell_type": "code",
      "source": [
        "lst = ['fruits', 'vegitables', 200, 'Data Science', 'Python']\n",
        "print(lst)\n",
        "\n",
        "# poping with indexing\n",
        "poped_item = lst.pop(2)\n",
        "print(lst)\n",
        "print(poped_item)\n",
        "\n",
        "# poping without index\n",
        "poped_item = lst.pop()\n",
        "print(lst)\n",
        "print(poped_item)"
      ],
      "metadata": {
        "id": "joT8ScSEmxA1",
        "outputId": "fb48e179-d404-4242-d98d-ac4371c4ac85",
        "colab": {
          "base_uri": "https://localhost:8080/"
        }
      },
      "execution_count": 23,
      "outputs": [
        {
          "output_type": "stream",
          "name": "stdout",
          "text": [
            "['fruits', 'vegitables', 200, 'Data Science', 'Python']\n",
            "['fruits', 'vegitables', 'Data Science', 'Python']\n",
            "200\n",
            "['fruits', 'vegitables', 'Data Science']\n",
            "Python\n"
          ]
        }
      ]
    },
    {
      "cell_type": "markdown",
      "source": [
        "### **Count Method**"
      ],
      "metadata": {
        "id": "IzrQMqy0qq19"
      }
    },
    {
      "cell_type": "markdown",
      "source": [
        "It counts the total occurence of a given argument in the list"
      ],
      "metadata": {
        "id": "BywgyV3hqtNA"
      }
    },
    {
      "cell_type": "code",
      "source": [
        "lst = [1, 1, 1, 2, 2, 3]\n",
        "print(\"Occurence of 1: \", lst.count(1))\n",
        "print(\"Occurence of 3: \", lst.count(3))"
      ],
      "metadata": {
        "id": "Kbh3By6JqaA2",
        "outputId": "0d7fb864-d060-4240-cef3-772c9b96e155",
        "colab": {
          "base_uri": "https://localhost:8080/"
        }
      },
      "execution_count": 26,
      "outputs": [
        {
          "output_type": "stream",
          "name": "stdout",
          "text": [
            "Occurence of 1:  3\n",
            "Occurence of 3:  1\n"
          ]
        }
      ]
    },
    {
      "cell_type": "markdown",
      "source": [
        "### **Length Function**"
      ],
      "metadata": {
        "id": "p4kPrXjcrRqK"
      }
    },
    {
      "cell_type": "markdown",
      "source": [
        "It is an inbuilt function in python which returns the number of elements present in a list"
      ],
      "metadata": {
        "id": "fEpZmhu4rWTf"
      }
    },
    {
      "cell_type": "code",
      "source": [
        "lst = ['fruits', 'vegetables', 200]\n",
        "print(len(lst))"
      ],
      "metadata": {
        "id": "9T4HsQ1pq8nq",
        "outputId": "e725297c-0b03-4a90-c3a4-acc6c704722a",
        "colab": {
          "base_uri": "https://localhost:8080/"
        }
      },
      "execution_count": 27,
      "outputs": [
        {
          "output_type": "stream",
          "name": "stdout",
          "text": [
            "3\n"
          ]
        }
      ]
    },
    {
      "cell_type": "code",
      "source": [],
      "metadata": {
        "id": "V4uZk29_riwm"
      },
      "execution_count": null,
      "outputs": []
    }
  ],
  "metadata": {
    "colab": {
      "name": "Welcome To Colaboratory",
      "provenance": []
    },
    "kernelspec": {
      "display_name": "Python 3",
      "name": "python3"
    }
  },
  "nbformat": 4,
  "nbformat_minor": 0
}
