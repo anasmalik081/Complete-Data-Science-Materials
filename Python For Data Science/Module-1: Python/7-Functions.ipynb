{
  "cells": [
    {
      "cell_type": "markdown",
      "source": [
        "# **Functions**"
      ],
      "metadata": {
        "id": "diBExxfypcWy"
      }
    },
    {
      "cell_type": "markdown",
      "source": [
        "A function in python is a block of code which only runs when it is called. You can pass data, known as parameters, into a function. A function can return data as a result."
      ],
      "metadata": {
        "id": "KeAw3knwqAHv"
      }
    },
    {
      "cell_type": "markdown",
      "source": [
        "**Why functions ?**\n",
        "\n",
        "1. To make code more readable.\n",
        "2. To make code more efficient.\n",
        "3. To make code more maintainable.\n",
        "4. To make code more reusable.\n",
        "5. To make code more extensible."
      ],
      "metadata": {
        "id": "SU4e5_xRqQKj"
      }
    },
    {
      "cell_type": "markdown",
      "source": [
        "## **Creating a function**"
      ],
      "metadata": {
        "id": "zXKR9Tm6rgUS"
      }
    },
    {
      "cell_type": "markdown",
      "source": [
        "We can define a function in python by using an inbuilt keyword known as def."
      ],
      "metadata": {
        "id": "fT9TpI8krnVD"
      }
    },
    {
      "cell_type": "code",
      "source": [
        "# defining a function to print a message\n",
        "def message(msg):\n",
        "  print(msg)\n",
        "  return None\n",
        "\n",
        "msg = input(\"Please enter you message :\\n\")\n",
        "message(msg)"
      ],
      "metadata": {
        "id": "j0-Az-QIpeNy",
        "outputId": "ea30aadd-48ac-4a92-8475-8fea4e393db9",
        "colab": {
          "base_uri": "https://localhost:8080/"
        }
      },
      "execution_count": 1,
      "outputs": [
        {
          "output_type": "stream",
          "name": "stdout",
          "text": [
            "Please enter you message :\n",
            "Welcome to this python playlist\n",
            "Welcome to this python playlist\n"
          ]
        }
      ]
    },
    {
      "cell_type": "code",
      "source": [
        "# defining a function to calculate area of circle\n",
        "def circleArea(radius)->int:\n",
        "  \"\"\"\n",
        "  Description : This function calculate the area of circle\n",
        "  Return : This function return the area of circle\n",
        "  \"\"\"\n",
        "  import math\n",
        "  return 2 * math.pi * radius\n",
        "\n",
        "radius = int(input(\"Please enter the radius of the circle : \"))\n",
        "print(circleArea(radius))"
      ],
      "metadata": {
        "id": "Ao7WMMHksAgS",
        "outputId": "620d4da6-60c2-4d52-efe6-508348faf42b",
        "colab": {
          "base_uri": "https://localhost:8080/"
        }
      },
      "execution_count": 2,
      "outputs": [
        {
          "output_type": "stream",
          "name": "stdout",
          "text": [
            "Please enter the radius of the circle : 5\n",
            "31.41592653589793\n"
          ]
        }
      ]
    },
    {
      "cell_type": "markdown",
      "source": [
        "## **Arguments**"
      ],
      "metadata": {
        "id": "dQwe9fU7uxLx"
      }
    },
    {
      "cell_type": "markdown",
      "source": [
        "In python, function take inputs which are also knows as arguments or parameters."
      ],
      "metadata": {
        "id": "Jf-0vt07vyIo"
      }
    },
    {
      "cell_type": "markdown",
      "source": [
        "**Default Argument**"
      ],
      "metadata": {
        "id": "7bT3zo8fv7I7"
      }
    },
    {
      "cell_type": "markdown",
      "source": [
        "It is type of argument which is assigned with value while writing a function. This type of argument will not throw any error if argument is not passed while calling the function."
      ],
      "metadata": {
        "id": "TlLHASvyv-Km"
      }
    },
    {
      "cell_type": "code",
      "source": [
        "# creating a function to sum two numbers\n",
        "def add(a=10, b=10)->int:\n",
        "  \"\"\"\n",
        "  Description : This function add two numbers\n",
        "  Result : This function return the addition of two numbers\n",
        "  \"\"\"\n",
        "  print(\"a : \", a, \" and b : \", b)\n",
        "  return a + b"
      ],
      "metadata": {
        "id": "pQWoFuexu18T"
      },
      "execution_count": 6,
      "outputs": []
    },
    {
      "cell_type": "code",
      "source": [
        "print(add())"
      ],
      "metadata": {
        "id": "68949CsDwqwq",
        "outputId": "b956ba4a-823b-44c8-bc44-ea492d295606",
        "colab": {
          "base_uri": "https://localhost:8080/"
        }
      },
      "execution_count": 7,
      "outputs": [
        {
          "output_type": "stream",
          "name": "stdout",
          "text": [
            "a :  10  and b :  10\n",
            "20\n"
          ]
        }
      ]
    },
    {
      "cell_type": "code",
      "source": [
        "print(add(a=20))"
      ],
      "metadata": {
        "id": "hAvUWmRmwsCE",
        "outputId": "8e8fdf15-1214-4895-94a8-d30763b8c2c5",
        "colab": {
          "base_uri": "https://localhost:8080/"
        }
      },
      "execution_count": 8,
      "outputs": [
        {
          "output_type": "stream",
          "name": "stdout",
          "text": [
            "a :  20  and b :  10\n",
            "30\n"
          ]
        }
      ]
    },
    {
      "cell_type": "code",
      "source": [
        "print(add(1,2))"
      ],
      "metadata": {
        "id": "PrZmdQBxwwX1",
        "outputId": "322207b7-8080-4b16-d29e-76e8c068df63",
        "colab": {
          "base_uri": "https://localhost:8080/"
        }
      },
      "execution_count": 9,
      "outputs": [
        {
          "output_type": "stream",
          "name": "stdout",
          "text": [
            "a :  1  and b :  2\n",
            "3\n"
          ]
        }
      ]
    },
    {
      "cell_type": "markdown",
      "source": [
        "**Required Arguments**"
      ],
      "metadata": {
        "id": "689KlrOIxGZ7"
      }
    },
    {
      "cell_type": "markdown",
      "source": [
        "These type of arguments are required to be passed while calling a function otherwise it will throw an error"
      ],
      "metadata": {
        "id": "fgA06k0KxKQt"
      }
    },
    {
      "cell_type": "code",
      "source": [
        "# creating a function to add two numers\n",
        "def add(a, b)->int:\n",
        "  \"\"\"\n",
        "  Description : This function add two numbers\n",
        "  Result : This function return the addition of two numbers\n",
        "  \"\"\"\n",
        "  print(\"a : \", a, \" and b : \", b)\n",
        "  return a + b"
      ],
      "metadata": {
        "id": "4dnikrwNw93b"
      },
      "execution_count": 10,
      "outputs": []
    },
    {
      "cell_type": "code",
      "source": [
        "print(add(10, 20))"
      ],
      "metadata": {
        "id": "V6cuRGApxnm6",
        "outputId": "213b4aa5-98d9-4bdf-be30-7d026a862c3e",
        "colab": {
          "base_uri": "https://localhost:8080/"
        }
      },
      "execution_count": 12,
      "outputs": [
        {
          "output_type": "stream",
          "name": "stdout",
          "text": [
            "a :  10  and b :  20\n",
            "30\n"
          ]
        }
      ]
    },
    {
      "cell_type": "markdown",
      "source": [
        "**Keyword Arguments**"
      ],
      "metadata": {
        "id": "tJ9IsDLkxuCj"
      }
    },
    {
      "cell_type": "markdown",
      "source": [
        "These types of arguments are passed with some keywords while calling a function"
      ],
      "metadata": {
        "id": "_FJujUm9xx9y"
      }
    },
    {
      "cell_type": "code",
      "source": [
        "# creating a function to add two numers\n",
        "def add(a, b)->int:\n",
        "  \"\"\"\n",
        "  Description : This function add two numbers\n",
        "  Result : This function return the addition of two numbers\n",
        "  \"\"\"\n",
        "  print(\"a : \", a, \" and b : \", b)\n",
        "  return a + b"
      ],
      "metadata": {
        "id": "Z0Uy0-Qkxq93"
      },
      "execution_count": 13,
      "outputs": []
    },
    {
      "cell_type": "code",
      "source": [
        "print(add(b=10, a=5))"
      ],
      "metadata": {
        "id": "HLpuKmy0yHAD",
        "outputId": "586cea01-e557-41d4-c67b-e53ec0539122",
        "colab": {
          "base_uri": "https://localhost:8080/"
        }
      },
      "execution_count": 14,
      "outputs": [
        {
          "output_type": "stream",
          "name": "stdout",
          "text": [
            "a :  5  and b :  10\n",
            "15\n"
          ]
        }
      ]
    },
    {
      "cell_type": "markdown",
      "source": [
        "**Variable number of arguments**"
      ],
      "metadata": {
        "id": "PTWQwcyYyK1C"
      }
    },
    {
      "cell_type": "markdown",
      "source": [
        "These types of arguments are used when we are not sure about how many arguments are going to pass."
      ],
      "metadata": {
        "id": "IIDYAbCXyOJZ"
      }
    },
    {
      "cell_type": "code",
      "source": [
        "# creating a function to summ the given arguments\n",
        "def numberSum(*args)->int:\n",
        "  \"\"\"\n",
        "  Description : This function sum all the numbers passed as arguments\n",
        "  \"\"\"\n",
        "  summision = 0\n",
        "  for num in args:\n",
        "    summision += num\n",
        "  return summision"
      ],
      "metadata": {
        "id": "XRDLvdcOyJca"
      },
      "execution_count": 15,
      "outputs": []
    },
    {
      "cell_type": "code",
      "source": [
        "print(numberSum(1,2,3,4,5))"
      ],
      "metadata": {
        "id": "fkyX_rbWyunR",
        "outputId": "f37aa3ff-6f10-45c3-9f60-f0422e5e7638",
        "colab": {
          "base_uri": "https://localhost:8080/"
        }
      },
      "execution_count": 16,
      "outputs": [
        {
          "output_type": "stream",
          "name": "stdout",
          "text": [
            "15\n"
          ]
        }
      ]
    },
    {
      "cell_type": "markdown",
      "source": [
        "**Arbitary keyword arguments**"
      ],
      "metadata": {
        "id": "33pCn5chy2eE"
      }
    },
    {
      "cell_type": "markdown",
      "source": [
        "These type of arguments are passed with some keywords while calling a function"
      ],
      "metadata": {
        "id": "5Yzx9Fjby7dH"
      }
    },
    {
      "cell_type": "code",
      "source": [
        "# creating a function to display the name\n",
        "def displayName(**kwargs):\n",
        "  \"\"\"\n",
        "  Description : This function display the name of user\n",
        "  Return : None\n",
        "  \"\"\"\n",
        "  print(\"My first name is {}\".format(kwargs['fname']))\n",
        "  print(\"My last name is {}\".format(kwargs['lname']))"
      ],
      "metadata": {
        "id": "cdOlurwQyyGs"
      },
      "execution_count": 17,
      "outputs": []
    },
    {
      "cell_type": "code",
      "source": [
        "displayName(fname=\"Anas\", lname=\"Malik\")"
      ],
      "metadata": {
        "id": "WZgLPWVRzic1",
        "outputId": "991568c0-c71a-4662-8dea-849ac3895664",
        "colab": {
          "base_uri": "https://localhost:8080/"
        }
      },
      "execution_count": 18,
      "outputs": [
        {
          "output_type": "stream",
          "name": "stdout",
          "text": [
            "My first name is Anas\n",
            "My last name is Malik\n"
          ]
        }
      ]
    },
    {
      "cell_type": "code",
      "source": [],
      "metadata": {
        "id": "gcErb95WzmqG"
      },
      "execution_count": null,
      "outputs": []
    }
  ],
  "metadata": {
    "colab": {
      "name": "Welcome To Colaboratory",
      "provenance": []
    },
    "kernelspec": {
      "display_name": "Python 3",
      "name": "python3"
    }
  },
  "nbformat": 4,
  "nbformat_minor": 0
}