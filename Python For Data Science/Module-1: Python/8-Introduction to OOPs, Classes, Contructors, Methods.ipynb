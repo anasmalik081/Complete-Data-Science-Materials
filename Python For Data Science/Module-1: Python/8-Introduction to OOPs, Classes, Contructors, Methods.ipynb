{
  "cells": [
    {
      "cell_type": "markdown",
      "source": [
        "# **Object Oriented Programming**"
      ],
      "metadata": {
        "id": "m5j48J-lROTJ"
      }
    },
    {
      "cell_type": "markdown",
      "source": [
        "In python, object oriented programming(OOPs) is a programming paradigm that uses object and classes in classes. Its aim to implement real-world entities like inheritance, polymorphism, encapsulation etc. in the programming.\n",
        "\n",
        "Concepts of OOPs are :\n",
        "\n",
        "* Class\n",
        "* Objects\n",
        "* Polymorphism\n",
        "* Encapsulation\n",
        "* Inheritance\n",
        "* Data Abstraction"
      ],
      "metadata": {
        "id": "WITleodkUZxy"
      }
    },
    {
      "cell_type": "markdown",
      "source": [
        "## **Classes :**"
      ],
      "metadata": {
        "id": "mbIIrMsiU3hK"
      }
    },
    {
      "cell_type": "markdown",
      "source": [
        "Class is nothing but a blueprint that defines the nature of future object. These are real world entities or object."
      ],
      "metadata": {
        "id": "w-GvteQIVCqv"
      }
    },
    {
      "cell_type": "markdown",
      "source": [
        "**Defining a class**\n",
        "\n",
        "We can define a class by using class keyword"
      ],
      "metadata": {
        "id": "ZIJDOE5KVMUK"
      }
    },
    {
      "cell_type": "code",
      "source": [
        "# defining a class\n",
        "class Car:\n",
        "  pass"
      ],
      "metadata": {
        "id": "vbegPqPAUC_9"
      },
      "execution_count": 1,
      "outputs": []
    },
    {
      "cell_type": "markdown",
      "source": [
        "## **Objects**"
      ],
      "metadata": {
        "id": "AYpT_bxxWJqp"
      }
    },
    {
      "cell_type": "markdown",
      "source": [
        "An object is an instance of a class. A class is like a blueprint while an instance is a copy of class with actual values."
      ],
      "metadata": {
        "id": "0D637l3JWNG1"
      }
    },
    {
      "cell_type": "code",
      "source": [
        "# creating object of car class\n",
        "car1 = Car()\n",
        "car2 = Car()\n",
        "print(car1)\n",
        "print(car2)"
      ],
      "metadata": {
        "id": "CAqgVwcIVYoE",
        "outputId": "183ca699-646f-4f53-f284-4989567ba308",
        "colab": {
          "base_uri": "https://localhost:8080/"
        }
      },
      "execution_count": 4,
      "outputs": [
        {
          "output_type": "stream",
          "name": "stdout",
          "text": [
            "<__main__.Car object at 0x7c8fa3778580>\n",
            "<__main__.Car object at 0x7c8fa3778e50>\n"
          ]
        }
      ]
    },
    {
      "cell_type": "markdown",
      "source": [
        "## **Attributes**"
      ],
      "metadata": {
        "id": "PG-uu7rnWx3M"
      }
    },
    {
      "cell_type": "markdown",
      "source": [
        "Attributes are the characteristics or properties that a class have. We can initialize the attributes of a class using a special method, also known as constructor."
      ],
      "metadata": {
        "id": "HkwFZLRfW1D6"
      }
    },
    {
      "cell_type": "code",
      "source": [
        "# assigning the attributes\n",
        "# object 1\n",
        "car1.windows = 4\n",
        "car1.tyres = 4\n",
        "car1.engine = \"Diesel\"\n",
        "\n",
        "# object 2\n",
        "car2.windows = 6\n",
        "car2.tyres = 6\n",
        "car2.engine = \"Petrol\""
      ],
      "metadata": {
        "id": "XGi-o-e7Whfs"
      },
      "execution_count": 5,
      "outputs": []
    },
    {
      "cell_type": "code",
      "source": [
        "# checking the attributes of both objects\n",
        "print(car1.engine)\n",
        "print(car2.engine)"
      ],
      "metadata": {
        "id": "1ywMQboWXz4M",
        "outputId": "5022a501-2cf6-45e5-ba73-353b40aebbdb",
        "colab": {
          "base_uri": "https://localhost:8080/"
        }
      },
      "execution_count": 6,
      "outputs": [
        {
          "output_type": "stream",
          "name": "stdout",
          "text": [
            "Diesel\n",
            "Petrol\n"
          ]
        }
      ]
    },
    {
      "cell_type": "markdown",
      "source": [
        "This is the worst way to assign attributes. The best way to write the attributes is to write them inside constructor."
      ],
      "metadata": {
        "id": "EPOXFoleYN5r"
      }
    },
    {
      "cell_type": "code",
      "source": [
        "# creating a class\n",
        "class Car:\n",
        "  # constructor\n",
        "  def __init__(self, windows, tyres, engine):\n",
        "    self.windows = windows\n",
        "    self.tyres = tyres\n",
        "    self.engine = engine\n",
        "\n",
        "  # method\n",
        "  def carType(self):\n",
        "    if self.windows == 2 and self.tyres == 4:\n",
        "      return \"It is sports car.\"\n",
        "    else:\n",
        "      return \"It is not a sports car.\""
      ],
      "metadata": {
        "id": "pYqn18XqYCaP"
      },
      "execution_count": 13,
      "outputs": []
    },
    {
      "cell_type": "code",
      "source": [
        "# creating objects for car class\n",
        "car1 = Car(4, 4, \"Diesel\")\n",
        "car2 = Car(6, 6, \"Petrol\")"
      ],
      "metadata": {
        "id": "xnRD2EptZL-m"
      },
      "execution_count": 14,
      "outputs": []
    },
    {
      "cell_type": "code",
      "source": [
        "# checking the attributes\n",
        "print(\"Car1 :\", car1.engine, \"Car2 :\", car2.engine)"
      ],
      "metadata": {
        "id": "nRSDRmFyZ8Hv",
        "outputId": "a1ca3c07-e3ae-43f8-d8b2-85ba78d51035",
        "colab": {
          "base_uri": "https://localhost:8080/"
        }
      },
      "execution_count": 15,
      "outputs": [
        {
          "output_type": "stream",
          "name": "stdout",
          "text": [
            "Car1 : Diesel Car2 : Petrol\n"
          ]
        }
      ]
    },
    {
      "cell_type": "code",
      "source": [
        "car3 = Car(2, 4, \"Electric\")"
      ],
      "metadata": {
        "id": "tykrtg8naGO_"
      },
      "execution_count": 16,
      "outputs": []
    },
    {
      "cell_type": "code",
      "source": [
        "car3.carType()"
      ],
      "metadata": {
        "id": "Zfwggfn2cHof",
        "outputId": "97b3fe9a-bb1b-4bfb-8ce9-bd426f342f3f",
        "colab": {
          "base_uri": "https://localhost:8080/",
          "height": 36
        }
      },
      "execution_count": 17,
      "outputs": [
        {
          "output_type": "execute_result",
          "data": {
            "text/plain": [
              "'It is sports car.'"
            ],
            "application/vnd.google.colaboratory.intrinsic+json": {
              "type": "string"
            }
          },
          "metadata": {},
          "execution_count": 17
        }
      ]
    },
    {
      "cell_type": "code",
      "source": [],
      "metadata": {
        "id": "6DidFQqHcK9p"
      },
      "execution_count": null,
      "outputs": []
    }
  ],
  "metadata": {
    "colab": {
      "name": "Welcome To Colaboratory",
      "provenance": []
    },
    "kernelspec": {
      "display_name": "Python 3",
      "name": "python3"
    }
  },
  "nbformat": 4,
  "nbformat_minor": 0
}