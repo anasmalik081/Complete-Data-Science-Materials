{
  "cells": [
    {
      "cell_type": "markdown",
      "source": [
        "# **Inheritance**"
      ],
      "metadata": {
        "id": "heafYp1ffDmm"
      }
    },
    {
      "cell_type": "markdown",
      "source": [
        "Inheritance is defined as the mechanism of inheriting the properties of the base class to the child class. It allows us to define a class that inherits all the methods and properties from another class."
      ],
      "metadata": {
        "id": "W8qwJBNmfRNE"
      }
    },
    {
      "cell_type": "code",
      "source": [
        "# creating car blueprint\n",
        "class Car:\n",
        "  # constructor\n",
        "  def __init__(self, windows, tyres, engine):\n",
        "    self.windows = windows\n",
        "    self.tyres = tyres\n",
        "    self.engine = engine\n",
        "\n",
        "  # method\n",
        "  def driving(self):\n",
        "    if self.tyres >= 4:\n",
        "      return \"This car can be used for driving\"\n",
        "    else:\n",
        "      return \"This car need some maintainance to be driven\""
      ],
      "metadata": {
        "id": "It9ozFcrfGVb"
      },
      "execution_count": 18,
      "outputs": []
    },
    {
      "cell_type": "code",
      "source": [
        "# creating a child class\n",
        "class Audi(Car):\n",
        "  # constructor\n",
        "  def __init__(self, windows, tyres, engine, horsepower):\n",
        "    super().__init__(windows, tyres, engine)\n",
        "    self.horsepower = horsepower\n",
        "\n",
        "  # method\n",
        "  def check(self):\n",
        "    if self.horsepower >= 1000:\n",
        "      return \"It is a Sports car\"\n",
        "    else:\n",
        "      return \"Normal family car\""
      ],
      "metadata": {
        "id": "fZn18S28gomo"
      },
      "execution_count": 19,
      "outputs": []
    },
    {
      "cell_type": "code",
      "source": [
        "# creating object\n",
        "audi = Audi(2, 4, \"Petrol\", 2000)"
      ],
      "metadata": {
        "id": "Up5YBcCxiLdC"
      },
      "execution_count": 20,
      "outputs": []
    },
    {
      "cell_type": "code",
      "source": [
        "# checking attributes\n",
        "print(\"Windows : \", audi.windows)\n",
        "print(\"Tyres : \", audi.tyres)\n",
        "print(\"Engine Type : \", audi.engine)\n",
        "print(\"HorsePower : \", audi.horsepower)"
      ],
      "metadata": {
        "id": "Kslirp90iacO",
        "outputId": "ae780083-2a27-40a5-a5c8-03650bea5065",
        "colab": {
          "base_uri": "https://localhost:8080/"
        }
      },
      "execution_count": 21,
      "outputs": [
        {
          "output_type": "stream",
          "name": "stdout",
          "text": [
            "Windows :  2\n",
            "Tyres :  4\n",
            "Engine Type :  Petrol\n",
            "HorsePower :  2000\n"
          ]
        }
      ]
    },
    {
      "cell_type": "code",
      "source": [
        "# checking methods\n",
        "print(audi.driving())\n",
        "print(audi.check())"
      ],
      "metadata": {
        "id": "0JkOu331ioWK",
        "outputId": "d10da18f-e152-45ac-bb09-ced2c1e51e83",
        "colab": {
          "base_uri": "https://localhost:8080/"
        }
      },
      "execution_count": 25,
      "outputs": [
        {
          "output_type": "stream",
          "name": "stdout",
          "text": [
            "This car can be used for driving\n",
            "It is a Sports car\n"
          ]
        }
      ]
    },
    {
      "cell_type": "code",
      "source": [
        "print(dir(audi))"
      ],
      "metadata": {
        "id": "-uIvpdWLiq_o",
        "outputId": "bc2cf412-24c2-4526-b701-1d04c1a415fd",
        "colab": {
          "base_uri": "https://localhost:8080/"
        }
      },
      "execution_count": 26,
      "outputs": [
        {
          "output_type": "stream",
          "name": "stdout",
          "text": [
            "['__class__', '__delattr__', '__dict__', '__dir__', '__doc__', '__eq__', '__format__', '__ge__', '__getattribute__', '__gt__', '__hash__', '__init__', '__init_subclass__', '__le__', '__lt__', '__module__', '__ne__', '__new__', '__reduce__', '__reduce_ex__', '__repr__', '__setattr__', '__sizeof__', '__str__', '__subclasshook__', '__weakref__', 'check', 'driving', 'engine', 'horsepower', 'tyres', 'windows']\n"
          ]
        }
      ]
    },
    {
      "cell_type": "code",
      "source": [],
      "metadata": {
        "id": "cKyK8prriv49"
      },
      "execution_count": null,
      "outputs": []
    }
  ],
  "metadata": {
    "colab": {
      "name": "Welcome To Colaboratory",
      "provenance": []
    },
    "kernelspec": {
      "display_name": "Python 3",
      "name": "python3"
    }
  },
  "nbformat": 4,
  "nbformat_minor": 0
}