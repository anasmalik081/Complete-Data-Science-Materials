{
  "cells": [
    {
      "cell_type": "markdown",
      "source": [
        "# **Numpy**"
      ],
      "metadata": {
        "id": "0o1NNYLha5q1"
      }
    },
    {
      "cell_type": "markdown",
      "source": [
        "Numpy stands for Numerical Python and it is a general purpose array-processing package. It provides a high performance multidimensional array object, and tools for working with these arrays. It is the fundamental package for scientific computing with python."
      ],
      "metadata": {
        "id": "q2d2uxDya9K0"
      }
    },
    {
      "cell_type": "markdown",
      "source": [
        "**What is an array ?**\n",
        "\n",
        "An array is a data structure that stores values of same datatype. In Python, this is the main difference between array and lists. While Python's lists can contain values corresponding to different data types, array in python can only contain values corresponding to same data type."
      ],
      "metadata": {
        "id": "3ecCLC2IbdOq"
      }
    },
    {
      "cell_type": "markdown",
      "source": [
        "**Note: Python inbuilt allow only to create one dimesnional arrays. However, to create multidimensional arrays, we need to import numpy library.**"
      ],
      "metadata": {
        "id": "vsRAKiaTcJr0"
      }
    },
    {
      "cell_type": "markdown",
      "source": [
        "**Creating Array with inbuilt python array class**"
      ],
      "metadata": {
        "id": "O0pAn4N2dI1C"
      }
    },
    {
      "cell_type": "code",
      "source": [
        "# import array\n",
        "import array"
      ],
      "metadata": {
        "id": "vBH7cV0rceaz"
      },
      "execution_count": 10,
      "outputs": []
    },
    {
      "cell_type": "code",
      "source": [
        "# creating an one dimensional array\n",
        "arr = array.array('i', [1,2,3,4])\n",
        "print(arr)\n",
        "print(type(arr))"
      ],
      "metadata": {
        "id": "Sh_W2pYUclNT",
        "outputId": "676e04bc-fc33-4c5e-dfb1-940768379fcf",
        "colab": {
          "base_uri": "https://localhost:8080/"
        }
      },
      "execution_count": 13,
      "outputs": [
        {
          "output_type": "stream",
          "name": "stdout",
          "text": [
            "array('i', [1, 2, 3, 4])\n",
            "<class 'array.array'>\n"
          ]
        }
      ]
    },
    {
      "cell_type": "markdown",
      "source": [
        "**Creating Array using Numpy library**"
      ],
      "metadata": {
        "id": "aZYuNWfmdRJG"
      }
    },
    {
      "cell_type": "code",
      "source": [
        "# import numpy library\n",
        "import numpy as np"
      ],
      "metadata": {
        "id": "k0b5k3Hca8T_"
      },
      "execution_count": 1,
      "outputs": []
    },
    {
      "cell_type": "code",
      "source": [
        "# creating one dimesional array\n",
        "arr = np.array([1,2,3,4])\n",
        "print(arr)\n",
        "print(type(arr))"
      ],
      "metadata": {
        "id": "Wu0RmXSkccBD",
        "outputId": "ad9faa68-08a9-4606-b34b-eeba47fb43d6",
        "colab": {
          "base_uri": "https://localhost:8080/"
        }
      },
      "execution_count": 15,
      "outputs": [
        {
          "output_type": "stream",
          "name": "stdout",
          "text": [
            "[1 2 3 4]\n",
            "<class 'numpy.ndarray'>\n"
          ]
        }
      ]
    },
    {
      "cell_type": "code",
      "source": [
        "# creating two dimensional array\n",
        "arr = np.array([[1,2], [3,4]])\n",
        "print(arr)\n",
        "print(type(arr))"
      ],
      "metadata": {
        "id": "OKZWaoO8dyWF",
        "outputId": "5c3d5344-721a-4817-898c-ea09d72612ee",
        "colab": {
          "base_uri": "https://localhost:8080/"
        }
      },
      "execution_count": 16,
      "outputs": [
        {
          "output_type": "stream",
          "name": "stdout",
          "text": [
            "[[1 2]\n",
            " [3 4]]\n",
            "<class 'numpy.ndarray'>\n"
          ]
        }
      ]
    },
    {
      "cell_type": "markdown",
      "source": [
        "**Indexing**"
      ],
      "metadata": {
        "id": "rH0UwC37e-C5"
      }
    },
    {
      "cell_type": "code",
      "source": [
        "# we can retreive single element using indexing\n",
        "arr = np.array([[1,2,3], [4,5,6], [7,8,9]])\n",
        "print(arr)"
      ],
      "metadata": {
        "id": "FYwXKv0jeg7u",
        "outputId": "bd3f92a2-a75b-4ff2-9b8d-a8c73ec5a21f",
        "colab": {
          "base_uri": "https://localhost:8080/"
        }
      },
      "execution_count": 17,
      "outputs": [
        {
          "output_type": "stream",
          "name": "stdout",
          "text": [
            "[[1 2 3]\n",
            " [4 5 6]\n",
            " [7 8 9]]\n"
          ]
        }
      ]
    },
    {
      "cell_type": "code",
      "source": [
        "print(arr[0])"
      ],
      "metadata": {
        "id": "--5IhDN-fLqf",
        "outputId": "2da2276f-bc0a-4c21-bdc1-aefc5a9a74fc",
        "colab": {
          "base_uri": "https://localhost:8080/"
        }
      },
      "execution_count": 20,
      "outputs": [
        {
          "output_type": "stream",
          "name": "stdout",
          "text": [
            "[1 2 3]\n"
          ]
        }
      ]
    },
    {
      "cell_type": "markdown",
      "source": [
        "**Slicing**"
      ],
      "metadata": {
        "id": "VKpMviBEfnpr"
      }
    },
    {
      "cell_type": "code",
      "source": [
        "# we can retreive multiple elements using slicing\n",
        "arr = np.array([[1,2,3], [4,5,6], [7,8,9]])\n",
        "print(arr)"
      ],
      "metadata": {
        "id": "Bbqd6fVVfPKs",
        "outputId": "67ae6ea9-1236-47b2-a78b-0fc2cb65e378",
        "colab": {
          "base_uri": "https://localhost:8080/"
        }
      },
      "execution_count": 21,
      "outputs": [
        {
          "output_type": "stream",
          "name": "stdout",
          "text": [
            "[[1 2 3]\n",
            " [4 5 6]\n",
            " [7 8 9]]\n"
          ]
        }
      ]
    },
    {
      "cell_type": "code",
      "source": [
        "print(arr[:-1])"
      ],
      "metadata": {
        "id": "IKRBxNcCfteF",
        "outputId": "dba340b1-7bef-40e2-c4ea-9b0558d8738d",
        "colab": {
          "base_uri": "https://localhost:8080/"
        }
      },
      "execution_count": 22,
      "outputs": [
        {
          "output_type": "stream",
          "name": "stdout",
          "text": [
            "[[1 2 3]\n",
            " [4 5 6]]\n"
          ]
        }
      ]
    },
    {
      "cell_type": "code",
      "source": [
        "print(arr[:,1])"
      ],
      "metadata": {
        "id": "fjBo7U_9fv6G",
        "outputId": "62ae51a0-0b91-49b5-b18f-7f5f4069bde0",
        "colab": {
          "base_uri": "https://localhost:8080/"
        }
      },
      "execution_count": 23,
      "outputs": [
        {
          "output_type": "stream",
          "name": "stdout",
          "text": [
            "[2 5 8]\n"
          ]
        }
      ]
    },
    {
      "cell_type": "markdown",
      "source": [
        "## **Ways to create arrays**"
      ],
      "metadata": {
        "id": "ORv904K7ha2j"
      }
    },
    {
      "cell_type": "markdown",
      "source": [
        "### **empty() Function**"
      ],
      "metadata": {
        "id": "wpW298SFllpo"
      }
    },
    {
      "cell_type": "markdown",
      "source": [
        "It is used to create an uninitialized array."
      ],
      "metadata": {
        "id": "lV_VXQcOlovo"
      }
    },
    {
      "cell_type": "code",
      "source": [
        "arr = np.empty((3,3), dtype=int)\n",
        "print(arr)"
      ],
      "metadata": {
        "id": "JQlk3KF3ls8z",
        "outputId": "911b16b9-d124-4480-f464-1b310b8dc3db",
        "colab": {
          "base_uri": "https://localhost:8080/"
        }
      },
      "execution_count": 41,
      "outputs": [
        {
          "output_type": "stream",
          "name": "stdout",
          "text": [
            "[[4592982406224789520 4604539990834921879 4603285371213225954]\n",
            " [4600880542649900082 4596095273185907116 4604386277088244178]\n",
            " [4601894678236935922 4584092155034598176 4599584881378256590]]\n"
          ]
        }
      ]
    },
    {
      "cell_type": "markdown",
      "source": [
        "### **arange() Function**"
      ],
      "metadata": {
        "id": "VluKg5-phfww"
      }
    },
    {
      "cell_type": "markdown",
      "source": [
        "It is similar to range function in python. It generate numbers in a specified range with specified stepsize."
      ],
      "metadata": {
        "id": "sPstcieYhksY"
      }
    },
    {
      "cell_type": "code",
      "source": [
        "arr = np.arange(1,11,2)\n",
        "print(arr)\n",
        "print(type(arr))"
      ],
      "metadata": {
        "id": "7cHKiekNf-nD",
        "outputId": "2575e8ac-e53a-4c84-c963-77e3cd3f8f28",
        "colab": {
          "base_uri": "https://localhost:8080/"
        }
      },
      "execution_count": 26,
      "outputs": [
        {
          "output_type": "stream",
          "name": "stdout",
          "text": [
            "[1 3 5 7 9]\n",
            "<class 'numpy.ndarray'>\n"
          ]
        }
      ]
    },
    {
      "cell_type": "markdown",
      "source": [
        "### **linspace() Function**"
      ],
      "metadata": {
        "id": "0Ctwf4RRlHjN"
      }
    },
    {
      "cell_type": "markdown",
      "source": [
        "It is used to create one-dimensional array with evenly space between start and end point."
      ],
      "metadata": {
        "id": "xLvygRXDlLeO"
      }
    },
    {
      "cell_type": "code",
      "source": [
        "arr = np.linspace(1, 10, num=5)\n",
        "print(arr)"
      ],
      "metadata": {
        "id": "K_OYu5l_lUdS",
        "outputId": "acccabfe-54c6-48e6-d5bf-c13c5631f9a6",
        "colab": {
          "base_uri": "https://localhost:8080/"
        }
      },
      "execution_count": 40,
      "outputs": [
        {
          "output_type": "stream",
          "name": "stdout",
          "text": [
            "[ 1.    3.25  5.5   7.75 10.  ]\n"
          ]
        }
      ]
    },
    {
      "cell_type": "markdown",
      "source": [
        "### **ones() Function**"
      ],
      "metadata": {
        "id": "3w-QrGG5ial-"
      }
    },
    {
      "cell_type": "markdown",
      "source": [
        "It helps us to generate n-dimesional array with all the elements as 1."
      ],
      "metadata": {
        "id": "Z1-ZMfpHietS"
      }
    },
    {
      "cell_type": "code",
      "source": [
        "arr = np.ones((3,3), dtype=float)\n",
        "print(arr)"
      ],
      "metadata": {
        "id": "HZETPTYUh1Kb",
        "outputId": "62ab934d-533c-4073-9f24-3197057a176d",
        "colab": {
          "base_uri": "https://localhost:8080/"
        }
      },
      "execution_count": 31,
      "outputs": [
        {
          "output_type": "stream",
          "name": "stdout",
          "text": [
            "[[1. 1. 1.]\n",
            " [1. 1. 1.]\n",
            " [1. 1. 1.]]\n"
          ]
        }
      ]
    },
    {
      "cell_type": "markdown",
      "source": [
        "### **zeros() Function**"
      ],
      "metadata": {
        "id": "aZQItUCFi3tU"
      }
    },
    {
      "cell_type": "markdown",
      "source": [
        "It helps to generate n-dimesnional array with all the elements as 0."
      ],
      "metadata": {
        "id": "UABd_ErWi7I6"
      }
    },
    {
      "cell_type": "code",
      "source": [
        "arr = np.zeros((3,3), dtype=float)\n",
        "print(arr)"
      ],
      "metadata": {
        "id": "CtBaF2APip_u",
        "outputId": "15e2d7f5-d5c6-4027-8e2b-6eff155e178c",
        "colab": {
          "base_uri": "https://localhost:8080/"
        }
      },
      "execution_count": 33,
      "outputs": [
        {
          "output_type": "stream",
          "name": "stdout",
          "text": [
            "[[0. 0. 0.]\n",
            " [0. 0. 0.]\n",
            " [0. 0. 0.]]\n"
          ]
        }
      ]
    },
    {
      "cell_type": "markdown",
      "source": [
        "### **random() Function**"
      ],
      "metadata": {
        "id": "ka8iiuyQku0p"
      }
    },
    {
      "cell_type": "markdown",
      "source": [
        "It helps to create n-dimensional array where all the elements are random numbers between 0 and 1."
      ],
      "metadata": {
        "id": "aPD3qPzDkyXb"
      }
    },
    {
      "cell_type": "code",
      "source": [
        "arr = np.random.random((3,3))\n",
        "print(arr)"
      ],
      "metadata": {
        "id": "xDLgrFUQlAGw",
        "outputId": "818bab60-24b8-4802-b844-b13ce920c523",
        "colab": {
          "base_uri": "https://localhost:8080/"
        }
      },
      "execution_count": 39,
      "outputs": [
        {
          "output_type": "stream",
          "name": "stdout",
          "text": [
            "[[0.11543524 0.70663156 0.5673408 ]\n",
            " [0.4001756  0.19226989 0.68956591]\n",
            " [0.45647143 0.02926455 0.32825195]]\n"
          ]
        }
      ]
    },
    {
      "cell_type": "markdown",
      "source": [
        "### **randint() Function**"
      ],
      "metadata": {
        "id": "hFCIoHASjiGS"
      }
    },
    {
      "cell_type": "markdown",
      "source": [
        "It helps to generate random integers between a low and a high value with specified number of elements."
      ],
      "metadata": {
        "id": "xkkbD57vjlby"
      }
    },
    {
      "cell_type": "code",
      "source": [
        "arr = np.random.randint(10, 20, 5)\n",
        "print(arr)"
      ],
      "metadata": {
        "id": "HLp_waJrjJHt",
        "outputId": "8853b35a-495d-4697-e9fe-1b068a09a693",
        "colab": {
          "base_uri": "https://localhost:8080/"
        }
      },
      "execution_count": 35,
      "outputs": [
        {
          "output_type": "stream",
          "name": "stdout",
          "text": [
            "[16 18 19 10 18]\n"
          ]
        }
      ]
    },
    {
      "cell_type": "markdown",
      "source": [
        "### **randn() Function**"
      ],
      "metadata": {
        "id": "z0gzyRdcj_Bt"
      }
    },
    {
      "cell_type": "markdown",
      "source": [
        "It helps to n-dimensional array where the distribution of generated number is uniform or normal."
      ],
      "metadata": {
        "id": "Ip-ZXhXrkCoj"
      }
    },
    {
      "cell_type": "code",
      "source": [
        "arr = np.random.randn(3,3)\n",
        "print(arr)"
      ],
      "metadata": {
        "id": "RJZVIFk8jyHj",
        "outputId": "194637de-aa0d-48b4-c4da-80862db31936",
        "colab": {
          "base_uri": "https://localhost:8080/"
        }
      },
      "execution_count": 38,
      "outputs": [
        {
          "output_type": "stream",
          "name": "stdout",
          "text": [
            "[[ 0.96885596  0.0089218   0.75373601]\n",
            " [-0.83325562  1.04873358 -1.36035613]\n",
            " [ 0.17365767 -0.52008577  0.8077905 ]]\n"
          ]
        }
      ]
    },
    {
      "cell_type": "markdown",
      "source": [
        "## **Attributes of Numpy Array**"
      ],
      "metadata": {
        "id": "9HcSI51Bl2pa"
      }
    },
    {
      "cell_type": "markdown",
      "source": [
        "### **shape Attribute**"
      ],
      "metadata": {
        "id": "DCM4T0nrl8nD"
      }
    },
    {
      "cell_type": "markdown",
      "source": [
        "It returns a tuple consisting of array dimension"
      ],
      "metadata": {
        "id": "Eu3eqWOCl_-v"
      }
    },
    {
      "cell_type": "code",
      "source": [
        "arr = np.array([[1,2], [2,3]])\n",
        "print(arr)\n",
        "print(\"Shape of the Array :\")\n",
        "print(arr.shape)"
      ],
      "metadata": {
        "id": "JnnH3SoCkQ6u",
        "outputId": "3f455db4-b49f-47d2-91a5-680b3f1965aa",
        "colab": {
          "base_uri": "https://localhost:8080/"
        }
      },
      "execution_count": 43,
      "outputs": [
        {
          "output_type": "stream",
          "name": "stdout",
          "text": [
            "[[1 2]\n",
            " [2 3]]\n",
            "Shape of the Array :\n",
            "(2, 2)\n"
          ]
        }
      ]
    },
    {
      "cell_type": "markdown",
      "source": [
        "### **ndim Attribute**"
      ],
      "metadata": {
        "id": "PQtJrzJ2mQah"
      }
    },
    {
      "cell_type": "markdown",
      "source": [
        "It returns the dimension of the array"
      ],
      "metadata": {
        "id": "yFJcn10HmUhi"
      }
    },
    {
      "cell_type": "code",
      "source": [
        "arr = np.array([[1,2], [3,4]])\n",
        "print(arr)\n",
        "print(\"Dimesnion of the array :\")\n",
        "print(arr.ndim)"
      ],
      "metadata": {
        "id": "fideDM-PmKf2",
        "outputId": "e577d4f6-53b7-4050-9fac-5c88fd9bd493",
        "colab": {
          "base_uri": "https://localhost:8080/"
        }
      },
      "execution_count": 44,
      "outputs": [
        {
          "output_type": "stream",
          "name": "stdout",
          "text": [
            "[[1 2]\n",
            " [3 4]]\n",
            "Dimesnion of the array :\n",
            "2\n"
          ]
        }
      ]
    },
    {
      "cell_type": "markdown",
      "source": [
        "### **size Attribute**"
      ],
      "metadata": {
        "id": "MPcO0V4pmhoN"
      }
    },
    {
      "cell_type": "markdown",
      "source": [
        "It returns the total number of elements in th array"
      ],
      "metadata": {
        "id": "V1zPDqbxmk6w"
      }
    },
    {
      "cell_type": "code",
      "source": [
        "arr = np.array([[1,2], [3,4]])\n",
        "print(arr)\n",
        "print(\"Total Elements :\")\n",
        "print(arr.size)"
      ],
      "metadata": {
        "id": "8qss3KhJmf2b",
        "outputId": "1bb69b93-6cce-46cb-f6ed-e71b653ba3ed",
        "colab": {
          "base_uri": "https://localhost:8080/"
        }
      },
      "execution_count": 45,
      "outputs": [
        {
          "output_type": "stream",
          "name": "stdout",
          "text": [
            "[[1 2]\n",
            " [3 4]]\n",
            "Total Elements :\n",
            "4\n"
          ]
        }
      ]
    },
    {
      "cell_type": "markdown",
      "source": [
        "### **dtype Attribute**"
      ],
      "metadata": {
        "id": "-EEUcIdkmxP1"
      }
    },
    {
      "cell_type": "markdown",
      "source": [
        "It returns the datatype of the elements in the array"
      ],
      "metadata": {
        "id": "WlN8lfUYm0bQ"
      }
    },
    {
      "cell_type": "code",
      "source": [
        "arr = np.array([[1,2], [3,4]], dtype=float)\n",
        "print(arr)\n",
        "print(\"Datatype of array :\")\n",
        "print(arr.dtype)"
      ],
      "metadata": {
        "id": "lLorBL6AmvHv",
        "outputId": "f3f0dc7f-87d5-4d2c-ead0-30082774025a",
        "colab": {
          "base_uri": "https://localhost:8080/"
        }
      },
      "execution_count": 46,
      "outputs": [
        {
          "output_type": "stream",
          "name": "stdout",
          "text": [
            "[[1. 2.]\n",
            " [3. 4.]]\n",
            "Datatype of array :\n",
            "float64\n"
          ]
        }
      ]
    },
    {
      "cell_type": "markdown",
      "source": [
        "### **astype() Function**"
      ],
      "metadata": {
        "id": "84Zq27jlnDuI"
      }
    },
    {
      "cell_type": "markdown",
      "source": [
        "It is used to change the data type of the elements of an array"
      ],
      "metadata": {
        "id": "7Wc15SLNnIdB"
      }
    },
    {
      "cell_type": "code",
      "source": [
        "arr = np.array([[1,2],[3,4]])\n",
        "print(arr)\n",
        "print(arr.dtype)\n",
        "arr = arr.astype('float64')\n",
        "print(arr)\n",
        "print(arr.dtype)"
      ],
      "metadata": {
        "id": "gc4gBKB_nBqM",
        "outputId": "4adbf1fc-45e3-41fe-9f50-a27826be0f39",
        "colab": {
          "base_uri": "https://localhost:8080/"
        }
      },
      "execution_count": 50,
      "outputs": [
        {
          "output_type": "stream",
          "name": "stdout",
          "text": [
            "[[1 2]\n",
            " [3 4]]\n",
            "int64\n",
            "[[1. 2.]\n",
            " [3. 4.]]\n",
            "float64\n"
          ]
        }
      ]
    },
    {
      "cell_type": "markdown",
      "source": [
        "## **Array Manipulation**"
      ],
      "metadata": {
        "id": "h1PTJ_BAnnCS"
      }
    },
    {
      "cell_type": "markdown",
      "source": [
        "### **transpose() Function**"
      ],
      "metadata": {
        "id": "VriwY_M8nqgB"
      }
    },
    {
      "cell_type": "markdown",
      "source": [
        "It simply moves the row data to column data and vice versa"
      ],
      "metadata": {
        "id": "emFGFxc3nuNv"
      }
    },
    {
      "cell_type": "code",
      "source": [
        "arr = np.array([[1,2], [3,4]])\n",
        "print(arr)"
      ],
      "metadata": {
        "id": "BtqH88lPnbLA",
        "outputId": "58caa107-5bdf-4ebf-89ce-aa1fcbe3ba7d",
        "colab": {
          "base_uri": "https://localhost:8080/"
        }
      },
      "execution_count": 51,
      "outputs": [
        {
          "output_type": "stream",
          "name": "stdout",
          "text": [
            "[[1 2]\n",
            " [3 4]]\n"
          ]
        }
      ]
    },
    {
      "cell_type": "code",
      "source": [
        "# method 1\n",
        "print(arr.T)\n",
        "\n",
        "# method 2\n",
        "arr = np.transpose(arr)\n",
        "print(arr)"
      ],
      "metadata": {
        "id": "ETH3asCpn3qo",
        "outputId": "6e52a235-1946-4900-929a-be4dd084c0da",
        "colab": {
          "base_uri": "https://localhost:8080/"
        }
      },
      "execution_count": 54,
      "outputs": [
        {
          "output_type": "stream",
          "name": "stdout",
          "text": [
            "[[1 3]\n",
            " [2 4]]\n",
            "[[1 3]\n",
            " [2 4]]\n"
          ]
        }
      ]
    },
    {
      "cell_type": "markdown",
      "source": [
        "### **reshape() Function**"
      ],
      "metadata": {
        "id": "atD2KXVhoMqM"
      }
    },
    {
      "cell_type": "markdown",
      "source": [
        "It gives a new shape to an existing array but the number of elements should be same compare to existing one."
      ],
      "metadata": {
        "id": "8lKorDJhoQG4"
      }
    },
    {
      "cell_type": "code",
      "source": [
        "arr = np.arange(1,10)\n",
        "print(arr)"
      ],
      "metadata": {
        "id": "cUyBoIygn5_A",
        "outputId": "6ce5506c-7131-4cd4-e39d-feceb028fbfe",
        "colab": {
          "base_uri": "https://localhost:8080/"
        }
      },
      "execution_count": 57,
      "outputs": [
        {
          "output_type": "stream",
          "name": "stdout",
          "text": [
            "[1 2 3 4 5 6 7 8 9]\n"
          ]
        }
      ]
    },
    {
      "cell_type": "code",
      "source": [
        "np.reshape(arr, (3,3))"
      ],
      "metadata": {
        "id": "3d4my4qqodvC",
        "outputId": "b7170986-0d4b-4238-edd7-87eb0faba221",
        "colab": {
          "base_uri": "https://localhost:8080/"
        }
      },
      "execution_count": 62,
      "outputs": [
        {
          "output_type": "execute_result",
          "data": {
            "text/plain": [
              "array([[1, 2, 3],\n",
              "       [4, 5, 6],\n",
              "       [7, 8, 9]])"
            ]
          },
          "metadata": {},
          "execution_count": 62
        }
      ]
    },
    {
      "cell_type": "markdown",
      "source": [
        "### **resize() Function**"
      ],
      "metadata": {
        "id": "ddZYF6Sioqgz"
      }
    },
    {
      "cell_type": "markdown",
      "source": [
        "It gives a new shape to an existing array without considering the number of elements in the existing array."
      ],
      "metadata": {
        "id": "oYN2tPqSouSQ"
      }
    },
    {
      "cell_type": "code",
      "source": [
        "arr = np.arange(1,10)\n",
        "print(arr)"
      ],
      "metadata": {
        "id": "5Zrf6Msroni1",
        "outputId": "63d66467-8422-4d41-b73d-4b2525aa00b7",
        "colab": {
          "base_uri": "https://localhost:8080/"
        }
      },
      "execution_count": 63,
      "outputs": [
        {
          "output_type": "stream",
          "name": "stdout",
          "text": [
            "[1 2 3 4 5 6 7 8 9]\n"
          ]
        }
      ]
    },
    {
      "cell_type": "code",
      "source": [
        "np.resize(arr, (2,2,2))"
      ],
      "metadata": {
        "id": "HsVPJE0bo6ZT",
        "outputId": "dbd0d810-3d0f-478b-afd6-ad73691da6c4",
        "colab": {
          "base_uri": "https://localhost:8080/"
        }
      },
      "execution_count": 64,
      "outputs": [
        {
          "output_type": "execute_result",
          "data": {
            "text/plain": [
              "array([[[1, 2],\n",
              "        [3, 4]],\n",
              "\n",
              "       [[5, 6],\n",
              "        [7, 8]]])"
            ]
          },
          "metadata": {},
          "execution_count": 64
        }
      ]
    },
    {
      "cell_type": "markdown",
      "source": [
        "### **flatten() Function**"
      ],
      "metadata": {
        "id": "HWYuBIrapNKJ"
      }
    },
    {
      "cell_type": "markdown",
      "source": [
        "It is used to convert n-dimensional array to one-dimensional array"
      ],
      "metadata": {
        "id": "ZwSPWzp5pQ1U"
      }
    },
    {
      "cell_type": "code",
      "source": [
        "arr = np.array([[1,2], [3,4]])\n",
        "print(arr)"
      ],
      "metadata": {
        "id": "q6NqcjRoo_TC",
        "outputId": "a0f37a1b-202c-46e7-a0c7-19e7a450131e",
        "colab": {
          "base_uri": "https://localhost:8080/"
        }
      },
      "execution_count": 65,
      "outputs": [
        {
          "output_type": "stream",
          "name": "stdout",
          "text": [
            "[[1 2]\n",
            " [3 4]]\n"
          ]
        }
      ]
    },
    {
      "cell_type": "code",
      "source": [
        "arr.flatten()"
      ],
      "metadata": {
        "id": "-gVap3XNpZb_",
        "outputId": "5f1bf90b-e4fd-4140-cf52-a70413712022",
        "colab": {
          "base_uri": "https://localhost:8080/"
        }
      },
      "execution_count": 66,
      "outputs": [
        {
          "output_type": "execute_result",
          "data": {
            "text/plain": [
              "array([1, 2, 3, 4])"
            ]
          },
          "metadata": {},
          "execution_count": 66
        }
      ]
    },
    {
      "cell_type": "markdown",
      "source": [
        "## **Array Manipulation Methods**"
      ],
      "metadata": {
        "id": "2YQ6oyc6pica"
      }
    },
    {
      "cell_type": "markdown",
      "source": [
        "### **insert() Method**"
      ],
      "metadata": {
        "id": "hx-EE1KBpmsC"
      }
    },
    {
      "cell_type": "markdown",
      "source": [
        "It is used to insert items to an existing array"
      ],
      "metadata": {
        "id": "lf6NCffEpq_D"
      }
    },
    {
      "cell_type": "code",
      "source": [
        "arr = np.array([[1,2,3], [4,5,6]])\n",
        "print(arr)"
      ],
      "metadata": {
        "id": "BZJc4O8CpbXJ",
        "outputId": "7afacbab-f5b5-4d90-d580-5c9c9246841e",
        "colab": {
          "base_uri": "https://localhost:8080/"
        }
      },
      "execution_count": 67,
      "outputs": [
        {
          "output_type": "stream",
          "name": "stdout",
          "text": [
            "[[1 2 3]\n",
            " [4 5 6]]\n"
          ]
        }
      ]
    },
    {
      "cell_type": "code",
      "source": [
        "new_arr = np.insert(arr, 1, [10, 20, 30], axis=0)\n",
        "print(new_arr)"
      ],
      "metadata": {
        "id": "QlpbANMFpze7",
        "outputId": "638d383d-3b2d-41e2-aee3-7eda5014664e",
        "colab": {
          "base_uri": "https://localhost:8080/"
        }
      },
      "execution_count": 72,
      "outputs": [
        {
          "output_type": "stream",
          "name": "stdout",
          "text": [
            "[[ 1  2  3]\n",
            " [10 20 30]\n",
            " [ 4  5  6]]\n"
          ]
        }
      ]
    },
    {
      "cell_type": "markdown",
      "source": [
        "### **append() Method**"
      ],
      "metadata": {
        "id": "XQDiWDqlqH6w"
      }
    },
    {
      "cell_type": "markdown",
      "source": [
        "It is used to add items to the end of an existing array"
      ],
      "metadata": {
        "id": "bp7zyQKzqW-s"
      }
    },
    {
      "cell_type": "code",
      "source": [
        "arr1 = np.array([[1,2], [3,4]])\n",
        "print(arr1)"
      ],
      "metadata": {
        "id": "v0KAMdFfp_Yk",
        "outputId": "6511ae91-8e54-46ff-a44e-238e4b8d059c",
        "colab": {
          "base_uri": "https://localhost:8080/"
        }
      },
      "execution_count": 77,
      "outputs": [
        {
          "output_type": "stream",
          "name": "stdout",
          "text": [
            "[[1 2]\n",
            " [3 4]]\n"
          ]
        }
      ]
    },
    {
      "cell_type": "code",
      "source": [
        "arr2 = np.array([[5,6], [7,8]])\n",
        "print(arr2)"
      ],
      "metadata": {
        "id": "DU1zDLiPqg_3",
        "outputId": "224bd1ae-aabe-4a10-cdbb-2aedcf05f9a9",
        "colab": {
          "base_uri": "https://localhost:8080/"
        }
      },
      "execution_count": 78,
      "outputs": [
        {
          "output_type": "stream",
          "name": "stdout",
          "text": [
            "[[5 6]\n",
            " [7 8]]\n"
          ]
        }
      ]
    },
    {
      "cell_type": "code",
      "source": [
        "new_arr = np.append(arr1, arr2, axis=0)\n",
        "print(new_arr)"
      ],
      "metadata": {
        "id": "-pNLxTxUqtHe",
        "outputId": "d9eabfba-d0b8-4c54-d912-31364c346451",
        "colab": {
          "base_uri": "https://localhost:8080/"
        }
      },
      "execution_count": 81,
      "outputs": [
        {
          "output_type": "stream",
          "name": "stdout",
          "text": [
            "[[1 2]\n",
            " [3 4]\n",
            " [5 6]\n",
            " [7 8]]\n"
          ]
        }
      ]
    },
    {
      "cell_type": "code",
      "source": [
        "new_arr = np.append(arr1, arr2, axis=1)\n",
        "print(new_arr)"
      ],
      "metadata": {
        "id": "b3yxHSBOq_y3",
        "outputId": "222697fa-3049-44a1-cc2a-2b5193a5d8d8",
        "colab": {
          "base_uri": "https://localhost:8080/"
        }
      },
      "execution_count": 82,
      "outputs": [
        {
          "output_type": "stream",
          "name": "stdout",
          "text": [
            "[[1 2 5 6]\n",
            " [3 4 7 8]]\n"
          ]
        }
      ]
    },
    {
      "cell_type": "markdown",
      "source": [
        "### **delete() Method**"
      ],
      "metadata": {
        "id": "GekpWo4wrKqb"
      }
    },
    {
      "cell_type": "markdown",
      "source": [
        "It is used to delete items from an existing array"
      ],
      "metadata": {
        "id": "rtFv0bH9rOL-"
      }
    },
    {
      "cell_type": "code",
      "source": [
        "arr = np.array([[1,2], [3,4]])\n",
        "print(arr)"
      ],
      "metadata": {
        "id": "Xj_8ydp1rJxi",
        "outputId": "01fd3101-be27-4c95-ae27-f40b420f43b6",
        "colab": {
          "base_uri": "https://localhost:8080/"
        }
      },
      "execution_count": 83,
      "outputs": [
        {
          "output_type": "stream",
          "name": "stdout",
          "text": [
            "[[1 2]\n",
            " [3 4]]\n"
          ]
        }
      ]
    },
    {
      "cell_type": "code",
      "source": [
        "new_arr = np.delete(arr, 0, axis=0)\n",
        "print(new_arr)"
      ],
      "metadata": {
        "id": "SaTg6lXrrX_H",
        "outputId": "292f04c0-38fd-4402-a686-32f0887ca2b1",
        "colab": {
          "base_uri": "https://localhost:8080/"
        }
      },
      "execution_count": 87,
      "outputs": [
        {
          "output_type": "stream",
          "name": "stdout",
          "text": [
            "[[3 4]]\n"
          ]
        }
      ]
    },
    {
      "cell_type": "markdown",
      "source": [
        "### **unique() Method**"
      ],
      "metadata": {
        "id": "D5bGD6qJrofL"
      }
    },
    {
      "cell_type": "markdown",
      "source": [
        "It returns the unique items from an existing array"
      ],
      "metadata": {
        "id": "cK7mz9CnrrEz"
      }
    },
    {
      "cell_type": "code",
      "source": [
        "arr = np.array([1,1,1,2,2,2,3,3,4,6,7])\n",
        "print(arr)"
      ],
      "metadata": {
        "id": "Udng7oJqretc",
        "outputId": "ed62cc60-b23b-4135-c2b9-881c6ab272c2",
        "colab": {
          "base_uri": "https://localhost:8080/"
        }
      },
      "execution_count": 88,
      "outputs": [
        {
          "output_type": "stream",
          "name": "stdout",
          "text": [
            "[1 1 1 2 2 2 3 3 4 6 7]\n"
          ]
        }
      ]
    },
    {
      "cell_type": "code",
      "source": [
        "unique_elem = np.unique(arr)\n",
        "print(unique_elem)"
      ],
      "metadata": {
        "id": "n7MrBsj9r1F4",
        "outputId": "b0b452e0-2ac6-47d4-e7b8-178ed9bc17ff",
        "colab": {
          "base_uri": "https://localhost:8080/"
        }
      },
      "execution_count": 90,
      "outputs": [
        {
          "output_type": "stream",
          "name": "stdout",
          "text": [
            "[1 2 3 4 6 7]\n"
          ]
        }
      ]
    },
    {
      "cell_type": "code",
      "source": [
        "freq_count = np.unique(arr, return_counts=True)\n",
        "print(freq_count)"
      ],
      "metadata": {
        "id": "r1STWXiar5L_",
        "outputId": "6b87477e-d4bc-430d-d558-4870591a99c9",
        "colab": {
          "base_uri": "https://localhost:8080/"
        }
      },
      "execution_count": 91,
      "outputs": [
        {
          "output_type": "stream",
          "name": "stdout",
          "text": [
            "(array([1, 2, 3, 4, 6, 7]), array([3, 3, 2, 1, 1, 1]))\n"
          ]
        }
      ]
    },
    {
      "cell_type": "markdown",
      "source": [
        "## **Basic Operations**"
      ],
      "metadata": {
        "id": "qy_YV1RFsO32"
      }
    },
    {
      "cell_type": "markdown",
      "source": [
        "### **Addition**"
      ],
      "metadata": {
        "id": "5NyfDre_sSn9"
      }
    },
    {
      "cell_type": "code",
      "source": [
        "np.arange(1,5) + 5"
      ],
      "metadata": {
        "id": "qIHAg6QBsJUS",
        "outputId": "dd093e46-d90d-415a-fcdb-8095dadd0ec6",
        "colab": {
          "base_uri": "https://localhost:8080/"
        }
      },
      "execution_count": 92,
      "outputs": [
        {
          "output_type": "execute_result",
          "data": {
            "text/plain": [
              "array([6, 7, 8, 9])"
            ]
          },
          "metadata": {},
          "execution_count": 92
        }
      ]
    },
    {
      "cell_type": "markdown",
      "source": [
        "**Adding Two arrays**"
      ],
      "metadata": {
        "id": "jpjXEp_es77i"
      }
    },
    {
      "cell_type": "code",
      "source": [
        "arr1 = np.array([[1,2], [3,4]])\n",
        "arr2 = np.array([[5,6], [7,8]])\n",
        "new_arr = np.add(arr1, arr2)\n",
        "print(new_arr)"
      ],
      "metadata": {
        "id": "lLGGgOI6tACX",
        "outputId": "084857bb-1342-4958-d6dc-ac0bb8ec61d2",
        "colab": {
          "base_uri": "https://localhost:8080/"
        }
      },
      "execution_count": 97,
      "outputs": [
        {
          "output_type": "stream",
          "name": "stdout",
          "text": [
            "[[ 6  8]\n",
            " [10 12]]\n"
          ]
        }
      ]
    },
    {
      "cell_type": "markdown",
      "source": [
        "### **Subtraction**"
      ],
      "metadata": {
        "id": "8eF5NdUesatS"
      }
    },
    {
      "cell_type": "code",
      "source": [
        "np.arange(1,5) - 2"
      ],
      "metadata": {
        "id": "cNhKnrt8sZd1",
        "outputId": "d7f94cb8-1e23-4b7d-861f-ec8979906922",
        "colab": {
          "base_uri": "https://localhost:8080/"
        }
      },
      "execution_count": 93,
      "outputs": [
        {
          "output_type": "execute_result",
          "data": {
            "text/plain": [
              "array([-1,  0,  1,  2])"
            ]
          },
          "metadata": {},
          "execution_count": 93
        }
      ]
    },
    {
      "cell_type": "markdown",
      "source": [
        "**Subtracting Two Arrays**"
      ],
      "metadata": {
        "id": "NwVvv-pItNz5"
      }
    },
    {
      "cell_type": "code",
      "source": [
        "arr1 = np.array([[1,2], [3,4]])\n",
        "arr2 = np.array([[5,6], [7,8]])\n",
        "new_arr = np.subtract(arr1, arr2)\n",
        "print(new_arr)"
      ],
      "metadata": {
        "id": "CqGkAadKtSSw",
        "outputId": "20f3d9bb-0d71-481d-ea7f-a0787ba6e2c9",
        "colab": {
          "base_uri": "https://localhost:8080/"
        }
      },
      "execution_count": 98,
      "outputs": [
        {
          "output_type": "stream",
          "name": "stdout",
          "text": [
            "[[-4 -4]\n",
            " [-4 -4]]\n"
          ]
        }
      ]
    },
    {
      "cell_type": "markdown",
      "source": [
        "### **Multiplication**"
      ],
      "metadata": {
        "id": "Xg757tYBshGp"
      }
    },
    {
      "cell_type": "code",
      "source": [
        "np.arange(1,5) * 5"
      ],
      "metadata": {
        "id": "4KTdycMIsfWR",
        "outputId": "4a09c5e2-db0b-4352-a330-0c763da8c694",
        "colab": {
          "base_uri": "https://localhost:8080/"
        }
      },
      "execution_count": 94,
      "outputs": [
        {
          "output_type": "execute_result",
          "data": {
            "text/plain": [
              "array([ 5, 10, 15, 20])"
            ]
          },
          "metadata": {},
          "execution_count": 94
        }
      ]
    },
    {
      "cell_type": "markdown",
      "source": [
        "**Multiplying two arrays**"
      ],
      "metadata": {
        "id": "UjGHLZjotXhB"
      }
    },
    {
      "cell_type": "code",
      "source": [
        "arr1 = np.array([[1,2], [3,4]])\n",
        "arr2 = np.array([[5,6], [7,8]])\n",
        "new_arr = np.multiply(arr1, arr2)\n",
        "print(new_arr)"
      ],
      "metadata": {
        "id": "RqGsT3NDtcV-",
        "outputId": "ede1356a-8cd3-4ab0-d605-6375384ec8c4",
        "colab": {
          "base_uri": "https://localhost:8080/"
        }
      },
      "execution_count": 99,
      "outputs": [
        {
          "output_type": "stream",
          "name": "stdout",
          "text": [
            "[[ 5 12]\n",
            " [21 32]]\n"
          ]
        }
      ]
    },
    {
      "cell_type": "markdown",
      "source": [
        "### **Division**"
      ],
      "metadata": {
        "id": "ESX1Zg9esn5Z"
      }
    },
    {
      "cell_type": "code",
      "source": [
        "np.arange(10,21) / 2"
      ],
      "metadata": {
        "id": "jfAKbsqOsmy5",
        "outputId": "ff8c0e99-4804-4d01-d22d-9f501a7f4dd5",
        "colab": {
          "base_uri": "https://localhost:8080/"
        }
      },
      "execution_count": 95,
      "outputs": [
        {
          "output_type": "execute_result",
          "data": {
            "text/plain": [
              "array([ 5. ,  5.5,  6. ,  6.5,  7. ,  7.5,  8. ,  8.5,  9. ,  9.5, 10. ])"
            ]
          },
          "metadata": {},
          "execution_count": 95
        }
      ]
    },
    {
      "cell_type": "markdown",
      "source": [
        "**Dividing two arrays**"
      ],
      "metadata": {
        "id": "d1Y00BQ2thqE"
      }
    },
    {
      "cell_type": "code",
      "source": [
        "arr1 = np.array([[1,2], [3,4]])\n",
        "arr2 = np.array([[5,6], [7,8]])\n",
        "new_arr = np.divide(arr1, arr2)\n",
        "print(new_arr)"
      ],
      "metadata": {
        "id": "bKQYeHUdssJp",
        "outputId": "43c0f5c7-0cdc-4126-a76a-1a03d4074ff6",
        "colab": {
          "base_uri": "https://localhost:8080/"
        }
      },
      "execution_count": 100,
      "outputs": [
        {
          "output_type": "stream",
          "name": "stdout",
          "text": [
            "[[0.2        0.33333333]\n",
            " [0.42857143 0.5       ]]\n"
          ]
        }
      ]
    },
    {
      "cell_type": "code",
      "source": [],
      "metadata": {
        "id": "AqTg80u1toqV"
      },
      "execution_count": null,
      "outputs": []
    }
  ],
  "metadata": {
    "colab": {
      "name": "Welcome To Colaboratory",
      "provenance": []
    },
    "kernelspec": {
      "display_name": "Python 3",
      "name": "python3"
    }
  },
  "nbformat": 4,
  "nbformat_minor": 0
}
