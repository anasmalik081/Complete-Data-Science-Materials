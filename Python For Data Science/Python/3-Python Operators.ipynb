{
  "cells": [
    {
      "cell_type": "markdown",
      "source": [
        "# **Logical Operators**"
      ],
      "metadata": {
        "id": "OoA_KXoxJzGB"
      }
    },
    {
      "cell_type": "markdown",
      "source": [
        "## **Logical and**"
      ],
      "metadata": {
        "id": "unFkldG2J9oD"
      }
    },
    {
      "cell_type": "markdown",
      "source": [
        "It returns True when both of the conditions are True else returns False"
      ],
      "metadata": {
        "id": "KmxZVC_iKZvd"
      }
    },
    {
      "cell_type": "code",
      "source": [
        "True and True"
      ],
      "metadata": {
        "id": "4IQ5mlIeJv0t",
        "outputId": "17e8338e-17a3-4723-e0cd-ea5f660731a6",
        "colab": {
          "base_uri": "https://localhost:8080/"
        }
      },
      "execution_count": 55,
      "outputs": [
        {
          "output_type": "execute_result",
          "data": {
            "text/plain": [
              "True"
            ]
          },
          "metadata": {},
          "execution_count": 55
        }
      ]
    },
    {
      "cell_type": "code",
      "source": [
        "True and False"
      ],
      "metadata": {
        "id": "YqEcr1ThKmqN",
        "outputId": "ff5b643e-5125-46a1-9141-c3718e706330",
        "colab": {
          "base_uri": "https://localhost:8080/"
        }
      },
      "execution_count": 56,
      "outputs": [
        {
          "output_type": "execute_result",
          "data": {
            "text/plain": [
              "False"
            ]
          },
          "metadata": {},
          "execution_count": 56
        }
      ]
    },
    {
      "cell_type": "code",
      "source": [
        "marks = int(input(\"Please enter your marks: \"))\n",
        "if marks >= 50 and marks <= 100:\n",
        "  print(\"Pass\")"
      ],
      "metadata": {
        "id": "-pH4y4zDKq_n",
        "outputId": "b68abd4e-7630-4f7a-c251-0eec7119c122",
        "colab": {
          "base_uri": "https://localhost:8080/"
        }
      },
      "execution_count": 57,
      "outputs": [
        {
          "output_type": "stream",
          "name": "stdout",
          "text": [
            "Please enter your marks: 57\n",
            "Pass\n"
          ]
        }
      ]
    },
    {
      "cell_type": "markdown",
      "source": [
        "## **Logical or**"
      ],
      "metadata": {
        "id": "BcCMSH1VLFSe"
      }
    },
    {
      "cell_type": "markdown",
      "source": [
        "It returns True any of the condition is True and return False when both of the coditions are False"
      ],
      "metadata": {
        "id": "rj38Rh4wLIkH"
      }
    },
    {
      "cell_type": "code",
      "source": [
        "True or True"
      ],
      "metadata": {
        "id": "CfagSjWNK-cD",
        "outputId": "04c3a1ef-32c7-4235-8f66-2dad59072a6c",
        "colab": {
          "base_uri": "https://localhost:8080/"
        }
      },
      "execution_count": 60,
      "outputs": [
        {
          "output_type": "execute_result",
          "data": {
            "text/plain": [
              "True"
            ]
          },
          "metadata": {},
          "execution_count": 60
        }
      ]
    },
    {
      "cell_type": "code",
      "source": [
        "True or False"
      ],
      "metadata": {
        "id": "IRSmUnedLQmK",
        "outputId": "3a47cd5a-04ee-4530-f7e0-9a3f2eb0c4b1",
        "colab": {
          "base_uri": "https://localhost:8080/"
        }
      },
      "execution_count": 59,
      "outputs": [
        {
          "output_type": "execute_result",
          "data": {
            "text/plain": [
              "True"
            ]
          },
          "metadata": {},
          "execution_count": 59
        }
      ]
    },
    {
      "cell_type": "code",
      "source": [
        "False or False"
      ],
      "metadata": {
        "id": "vy1Vz24MLSlR",
        "outputId": "f5acbebb-adc6-4395-81dc-ee57478a90e3",
        "colab": {
          "base_uri": "https://localhost:8080/"
        }
      },
      "execution_count": 61,
      "outputs": [
        {
          "output_type": "execute_result",
          "data": {
            "text/plain": [
              "False"
            ]
          },
          "metadata": {},
          "execution_count": 61
        }
      ]
    },
    {
      "cell_type": "code",
      "source": [
        "lottery_number = int(input(\"Please enter your lottery number: \"))\n",
        "if lottery_number == 100 or lottery_number == 101:\n",
        "  print(\"You won the lottery\")"
      ],
      "metadata": {
        "id": "YMJkDM-kLVsk",
        "outputId": "c1b2cdd3-57e0-4235-b482-940d7afaab8e",
        "colab": {
          "base_uri": "https://localhost:8080/"
        }
      },
      "execution_count": 63,
      "outputs": [
        {
          "output_type": "stream",
          "name": "stdout",
          "text": [
            "Please enter your lottery number: 101\n",
            "You won the lottery\n"
          ]
        }
      ]
    },
    {
      "cell_type": "markdown",
      "source": [
        "## **Logical not**"
      ],
      "metadata": {
        "id": "ZT81KQ-IL5rE"
      }
    },
    {
      "cell_type": "markdown",
      "source": [
        "It returns the opposite of True or False"
      ],
      "metadata": {
        "id": "sJ2NEPEAL_Q5"
      }
    },
    {
      "cell_type": "code",
      "source": [
        "not True"
      ],
      "metadata": {
        "id": "_svwbI6XL0VP",
        "outputId": "f5ddc6d0-0918-46cd-f46a-959c2e7c9070",
        "colab": {
          "base_uri": "https://localhost:8080/"
        }
      },
      "execution_count": 64,
      "outputs": [
        {
          "output_type": "execute_result",
          "data": {
            "text/plain": [
              "False"
            ]
          },
          "metadata": {},
          "execution_count": 64
        }
      ]
    },
    {
      "cell_type": "code",
      "source": [
        "not False"
      ],
      "metadata": {
        "id": "gSFXJb8lMDX1",
        "outputId": "76880e4f-e33e-4ba1-be47-3d3f4216339e",
        "colab": {
          "base_uri": "https://localhost:8080/"
        }
      },
      "execution_count": 65,
      "outputs": [
        {
          "output_type": "execute_result",
          "data": {
            "text/plain": [
              "True"
            ]
          },
          "metadata": {},
          "execution_count": 65
        }
      ]
    },
    {
      "cell_type": "markdown",
      "source": [
        "# **Equality Operators**"
      ],
      "metadata": {
        "id": "iTUbhAWvMLvt"
      }
    },
    {
      "cell_type": "markdown",
      "source": [
        "## **== Operator**"
      ],
      "metadata": {
        "id": "exkqA3CiMkiy"
      }
    },
    {
      "cell_type": "markdown",
      "source": [
        "It returns True when values are same"
      ],
      "metadata": {
        "id": "g2OASawKMrQZ"
      }
    },
    {
      "cell_type": "code",
      "source": [
        "10 == 10"
      ],
      "metadata": {
        "id": "lzW8NMYIMEr3",
        "outputId": "3109e28b-0f0f-4dc4-e070-52c6a363a544",
        "colab": {
          "base_uri": "https://localhost:8080/"
        }
      },
      "execution_count": 66,
      "outputs": [
        {
          "output_type": "execute_result",
          "data": {
            "text/plain": [
              "True"
            ]
          },
          "metadata": {},
          "execution_count": 66
        }
      ]
    },
    {
      "cell_type": "code",
      "source": [
        "'Python' == 'Python'"
      ],
      "metadata": {
        "id": "h_mTQVDIMx0X",
        "outputId": "e338ed1f-3040-496b-b6d7-6f5b995a8ae6",
        "colab": {
          "base_uri": "https://localhost:8080/"
        }
      },
      "execution_count": 68,
      "outputs": [
        {
          "output_type": "execute_result",
          "data": {
            "text/plain": [
              "True"
            ]
          },
          "metadata": {},
          "execution_count": 68
        }
      ]
    },
    {
      "cell_type": "code",
      "source": [
        "2 == 'Python'"
      ],
      "metadata": {
        "id": "hb15UpktMzal",
        "outputId": "070c3d3d-15a6-421e-bc53-736e86ab2bde",
        "colab": {
          "base_uri": "https://localhost:8080/"
        }
      },
      "execution_count": 69,
      "outputs": [
        {
          "output_type": "execute_result",
          "data": {
            "text/plain": [
              "False"
            ]
          },
          "metadata": {},
          "execution_count": 69
        }
      ]
    },
    {
      "cell_type": "code",
      "source": [
        "age = int(input(\"Please enter your age: \"))\n",
        "if age == 18:\n",
        "  print(\"You are in a teenager age\")"
      ],
      "metadata": {
        "id": "NtRTnMJ-M3xs",
        "outputId": "c74897da-d207-44f4-c119-17d5a8e359ec",
        "colab": {
          "base_uri": "https://localhost:8080/"
        }
      },
      "execution_count": 70,
      "outputs": [
        {
          "output_type": "stream",
          "name": "stdout",
          "text": [
            "Please enter your age: 18\n",
            "You are in a teenager age\n"
          ]
        }
      ]
    },
    {
      "cell_type": "markdown",
      "source": [
        "## **is Operator**"
      ],
      "metadata": {
        "id": "kHsOeK-XNSsu"
      }
    },
    {
      "cell_type": "markdown",
      "source": [
        "It returns True when both objects point to same memory else returns False"
      ],
      "metadata": {
        "id": "Ii0IjGz4NhK7"
      }
    },
    {
      "cell_type": "code",
      "source": [
        "a = \"Python\"\n",
        "b = \"Python\"\n",
        "a is b"
      ],
      "metadata": {
        "id": "q3nUYmyvNKbN",
        "outputId": "c1197e43-7736-49c9-b350-402d09809cf6",
        "colab": {
          "base_uri": "https://localhost:8080/"
        }
      },
      "execution_count": 72,
      "outputs": [
        {
          "output_type": "execute_result",
          "data": {
            "text/plain": [
              "True"
            ]
          },
          "metadata": {},
          "execution_count": 72
        }
      ]
    },
    {
      "cell_type": "markdown",
      "source": [
        "# **Comparison Operators**"
      ],
      "metadata": {
        "id": "_yHOR1OMOYbE"
      }
    },
    {
      "cell_type": "markdown",
      "source": [
        "## **Less Than(<) Operator**"
      ],
      "metadata": {
        "id": "GKf3MOIhOcqa"
      }
    },
    {
      "cell_type": "markdown",
      "source": [
        "It returns True if value1 is less than value2 else returns False"
      ],
      "metadata": {
        "id": "x_8tat39Oh23"
      }
    },
    {
      "cell_type": "code",
      "source": [
        "2 < 5"
      ],
      "metadata": {
        "id": "mYH8sQ0oNoUJ",
        "outputId": "79dd0b8b-2c13-479d-bac2-9e45a1fd0cab",
        "colab": {
          "base_uri": "https://localhost:8080/"
        }
      },
      "execution_count": 73,
      "outputs": [
        {
          "output_type": "execute_result",
          "data": {
            "text/plain": [
              "True"
            ]
          },
          "metadata": {},
          "execution_count": 73
        }
      ]
    },
    {
      "cell_type": "code",
      "source": [
        "3 < 2"
      ],
      "metadata": {
        "id": "xpX1PEk2OrhZ",
        "outputId": "7100fddb-498b-4f16-8a65-2a76c0e055ca",
        "colab": {
          "base_uri": "https://localhost:8080/"
        }
      },
      "execution_count": 74,
      "outputs": [
        {
          "output_type": "execute_result",
          "data": {
            "text/plain": [
              "False"
            ]
          },
          "metadata": {},
          "execution_count": 74
        }
      ]
    },
    {
      "cell_type": "markdown",
      "source": [
        "## **Less Than Equal to(<=) Operator**"
      ],
      "metadata": {
        "id": "c7jhdVKDOu-K"
      }
    },
    {
      "cell_type": "markdown",
      "source": [
        "It returns True if value1 is less than or equal to value2 or else returns False"
      ],
      "metadata": {
        "id": "u7bSWxXFOzgr"
      }
    },
    {
      "cell_type": "code",
      "source": [
        "2 <= 2"
      ],
      "metadata": {
        "id": "YbX5Hh90Ot5w",
        "outputId": "69b17c52-e7e8-45e7-ce58-0ce958b8117c",
        "colab": {
          "base_uri": "https://localhost:8080/"
        }
      },
      "execution_count": 75,
      "outputs": [
        {
          "output_type": "execute_result",
          "data": {
            "text/plain": [
              "True"
            ]
          },
          "metadata": {},
          "execution_count": 75
        }
      ]
    },
    {
      "cell_type": "code",
      "source": [
        "4 <= 10"
      ],
      "metadata": {
        "id": "HynCeIrFO8bX",
        "outputId": "137a2799-a425-42d1-fa01-58964393ad67",
        "colab": {
          "base_uri": "https://localhost:8080/"
        }
      },
      "execution_count": 76,
      "outputs": [
        {
          "output_type": "execute_result",
          "data": {
            "text/plain": [
              "True"
            ]
          },
          "metadata": {},
          "execution_count": 76
        }
      ]
    },
    {
      "cell_type": "code",
      "source": [
        "5 <= 2"
      ],
      "metadata": {
        "id": "NUhQ1ge9O-Kg",
        "outputId": "ff21de99-e34f-4331-9a04-d9117511b9a5",
        "colab": {
          "base_uri": "https://localhost:8080/"
        }
      },
      "execution_count": 77,
      "outputs": [
        {
          "output_type": "execute_result",
          "data": {
            "text/plain": [
              "False"
            ]
          },
          "metadata": {},
          "execution_count": 77
        }
      ]
    },
    {
      "cell_type": "markdown",
      "source": [
        "## **Greater Than(>) Operator**"
      ],
      "metadata": {
        "id": "vw_KAeroPA33"
      }
    },
    {
      "cell_type": "markdown",
      "source": [
        "It returns True if value1 is greater than value2 else returns False"
      ],
      "metadata": {
        "id": "7rQDPl3ePGUn"
      }
    },
    {
      "cell_type": "code",
      "source": [
        "5 > 2"
      ],
      "metadata": {
        "id": "hSEEufFlO_nK",
        "outputId": "03d5d034-243f-45bd-8be7-96fd1447fca3",
        "colab": {
          "base_uri": "https://localhost:8080/"
        }
      },
      "execution_count": 78,
      "outputs": [
        {
          "output_type": "execute_result",
          "data": {
            "text/plain": [
              "True"
            ]
          },
          "metadata": {},
          "execution_count": 78
        }
      ]
    },
    {
      "cell_type": "code",
      "source": [
        "2 > 5"
      ],
      "metadata": {
        "id": "Ok3Kp6wWPNBn",
        "outputId": "fe5304bb-41f1-42fe-9261-2beb5b1d7076",
        "colab": {
          "base_uri": "https://localhost:8080/"
        }
      },
      "execution_count": 79,
      "outputs": [
        {
          "output_type": "execute_result",
          "data": {
            "text/plain": [
              "False"
            ]
          },
          "metadata": {},
          "execution_count": 79
        }
      ]
    },
    {
      "cell_type": "markdown",
      "source": [
        "## **Greater Than Equal to(>=) Operator**"
      ],
      "metadata": {
        "id": "J-VtCMRcPPJc"
      }
    },
    {
      "cell_type": "markdown",
      "source": [
        "It returns True if value1 is greater than or equal to value2 else returns False"
      ],
      "metadata": {
        "id": "IU5WPaeiPUpk"
      }
    },
    {
      "cell_type": "code",
      "source": [
        "2>=2"
      ],
      "metadata": {
        "id": "ZeE6x7O5PN_W",
        "outputId": "64e6406f-8bf6-47bd-de6c-c3a1badac8ba",
        "colab": {
          "base_uri": "https://localhost:8080/"
        }
      },
      "execution_count": 80,
      "outputs": [
        {
          "output_type": "execute_result",
          "data": {
            "text/plain": [
              "True"
            ]
          },
          "metadata": {},
          "execution_count": 80
        }
      ]
    },
    {
      "cell_type": "code",
      "source": [
        "5 >= 2"
      ],
      "metadata": {
        "id": "QRwSRyjFPbij",
        "outputId": "0cdcaf98-c172-4d70-d383-eadd99c9005d",
        "colab": {
          "base_uri": "https://localhost:8080/"
        }
      },
      "execution_count": 81,
      "outputs": [
        {
          "output_type": "execute_result",
          "data": {
            "text/plain": [
              "True"
            ]
          },
          "metadata": {},
          "execution_count": 81
        }
      ]
    },
    {
      "cell_type": "code",
      "source": [
        "2 >= 10"
      ],
      "metadata": {
        "id": "-jFALhLTPd71",
        "outputId": "64fb74aa-5153-4144-c9e1-0f83a9b26b21",
        "colab": {
          "base_uri": "https://localhost:8080/"
        }
      },
      "execution_count": 83,
      "outputs": [
        {
          "output_type": "execute_result",
          "data": {
            "text/plain": [
              "False"
            ]
          },
          "metadata": {},
          "execution_count": 83
        }
      ]
    },
    {
      "cell_type": "markdown",
      "source": [
        "# **Arithematic Operators**"
      ],
      "metadata": {
        "id": "5ZPHifkjPq5x"
      }
    },
    {
      "cell_type": "markdown",
      "source": [
        "## **+ Operator**"
      ],
      "metadata": {
        "id": "Wkk8T3jSPv-Q"
      }
    },
    {
      "cell_type": "markdown",
      "source": [
        "It is used to add two numbers"
      ],
      "metadata": {
        "id": "0hqSdU8xP1Nl"
      }
    },
    {
      "cell_type": "code",
      "source": [
        "2 + 2"
      ],
      "metadata": {
        "id": "PLCBg4pjPfQq",
        "outputId": "80dc0f99-22d2-4c2c-a943-c0ddd4ab359a",
        "colab": {
          "base_uri": "https://localhost:8080/"
        }
      },
      "execution_count": 84,
      "outputs": [
        {
          "output_type": "execute_result",
          "data": {
            "text/plain": [
              "4"
            ]
          },
          "metadata": {},
          "execution_count": 84
        }
      ]
    },
    {
      "cell_type": "markdown",
      "source": [
        "## **- Operator**"
      ],
      "metadata": {
        "id": "uSdAWJtpP6XK"
      }
    },
    {
      "cell_type": "markdown",
      "source": [
        "It is used to subtract two number"
      ],
      "metadata": {
        "id": "m5VoYUQhP9Gj"
      }
    },
    {
      "cell_type": "code",
      "source": [
        "10 - 5"
      ],
      "metadata": {
        "id": "9OS7SuVLP5i8",
        "outputId": "0b202d63-9efe-4813-b957-eb11f17fb734",
        "colab": {
          "base_uri": "https://localhost:8080/"
        }
      },
      "execution_count": 85,
      "outputs": [
        {
          "output_type": "execute_result",
          "data": {
            "text/plain": [
              "5"
            ]
          },
          "metadata": {},
          "execution_count": 85
        }
      ]
    },
    {
      "cell_type": "markdown",
      "source": [
        "## *** Operator**"
      ],
      "metadata": {
        "id": "UhGsvGRuQA-E"
      }
    },
    {
      "cell_type": "markdown",
      "source": [
        "It use to multiply two numbers"
      ],
      "metadata": {
        "id": "MKeVf-iqQEiI"
      }
    },
    {
      "cell_type": "code",
      "source": [
        "2 * 2"
      ],
      "metadata": {
        "id": "ZxlfGGHnP_yg",
        "outputId": "8fcdcdb6-6cab-4aa0-bd95-ace3a90872b2",
        "colab": {
          "base_uri": "https://localhost:8080/"
        }
      },
      "execution_count": 86,
      "outputs": [
        {
          "output_type": "execute_result",
          "data": {
            "text/plain": [
              "4"
            ]
          },
          "metadata": {},
          "execution_count": 86
        }
      ]
    },
    {
      "cell_type": "markdown",
      "source": [
        "## **/ Operator**"
      ],
      "metadata": {
        "id": "kl38S0bRQLq_"
      }
    },
    {
      "cell_type": "markdown",
      "source": [
        "It is used to divide to numbers"
      ],
      "metadata": {
        "id": "r3RC4R2CQQLN"
      }
    },
    {
      "cell_type": "code",
      "source": [
        "5/2"
      ],
      "metadata": {
        "id": "XJrLjaOJQINv",
        "outputId": "448e3835-49bb-4c68-b263-16677d01b989",
        "colab": {
          "base_uri": "https://localhost:8080/"
        }
      },
      "execution_count": 87,
      "outputs": [
        {
          "output_type": "execute_result",
          "data": {
            "text/plain": [
              "2.5"
            ]
          },
          "metadata": {},
          "execution_count": 87
        }
      ]
    },
    {
      "cell_type": "markdown",
      "source": [
        "## **// Operator**"
      ],
      "metadata": {
        "id": "Onm3bGFOQUKm"
      }
    },
    {
      "cell_type": "markdown",
      "source": [
        "It divides two numbers and returns the floor value"
      ],
      "metadata": {
        "id": "9o_so283QXVL"
      }
    },
    {
      "cell_type": "code",
      "source": [
        "5//2"
      ],
      "metadata": {
        "id": "VU3UrPubQTWV",
        "outputId": "5bd44ade-703b-4279-fbda-a107949c49f1",
        "colab": {
          "base_uri": "https://localhost:8080/"
        }
      },
      "execution_count": 88,
      "outputs": [
        {
          "output_type": "execute_result",
          "data": {
            "text/plain": [
              "2"
            ]
          },
          "metadata": {},
          "execution_count": 88
        }
      ]
    },
    {
      "cell_type": "markdown",
      "source": [
        "## **% Operator**"
      ],
      "metadata": {
        "id": "BAWK_prQQfgi"
      }
    },
    {
      "cell_type": "markdown",
      "source": [
        "It divides two numbers and returns the remainder after division"
      ],
      "metadata": {
        "id": "neaJcVbhQinL"
      }
    },
    {
      "cell_type": "code",
      "source": [
        "5 % 2"
      ],
      "metadata": {
        "id": "yu9NBcE3Qdt7",
        "outputId": "dd8f1e1a-3cf3-4982-a5ae-1e4952a3f42b",
        "colab": {
          "base_uri": "https://localhost:8080/"
        }
      },
      "execution_count": 89,
      "outputs": [
        {
          "output_type": "execute_result",
          "data": {
            "text/plain": [
              "1"
            ]
          },
          "metadata": {},
          "execution_count": 89
        }
      ]
    },
    {
      "cell_type": "markdown",
      "source": [
        "## **** Operator**"
      ],
      "metadata": {
        "id": "nLo8_d4XQyxJ"
      }
    },
    {
      "cell_type": "markdown",
      "source": [
        "It is used to get the power of a number"
      ],
      "metadata": {
        "id": "lm-jmsEWQ2R5"
      }
    },
    {
      "cell_type": "code",
      "source": [
        "2 ** 2"
      ],
      "metadata": {
        "id": "jY94V4NcQsg9",
        "outputId": "e36d40f9-4b59-46cc-d42e-0638f9d7b95c",
        "colab": {
          "base_uri": "https://localhost:8080/"
        }
      },
      "execution_count": 90,
      "outputs": [
        {
          "output_type": "execute_result",
          "data": {
            "text/plain": [
              "4"
            ]
          },
          "metadata": {},
          "execution_count": 90
        }
      ]
    },
    {
      "cell_type": "code",
      "source": [
        "3 ** 2"
      ],
      "metadata": {
        "id": "XMdrfrZwQ7ww",
        "outputId": "9ab9fb41-a365-45f4-9ab7-1903f1bf4160",
        "colab": {
          "base_uri": "https://localhost:8080/"
        }
      },
      "execution_count": 91,
      "outputs": [
        {
          "output_type": "execute_result",
          "data": {
            "text/plain": [
              "9"
            ]
          },
          "metadata": {},
          "execution_count": 91
        }
      ]
    },
    {
      "cell_type": "code",
      "source": [],
      "metadata": {
        "id": "m4863g_kQ9G2"
      },
      "execution_count": null,
      "outputs": []
    }
  ],
  "metadata": {
    "colab": {
      "name": "Welcome To Colaboratory",
      "provenance": []
    },
    "kernelspec": {
      "display_name": "Python 3",
      "name": "python3"
    }
  },
  "nbformat": 4,
  "nbformat_minor": 0
}
