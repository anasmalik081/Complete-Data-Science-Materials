{
  "cells": [
    {
      "cell_type": "markdown",
      "source": [
        "# **print() Statement**"
      ],
      "metadata": {
        "id": "VszQC4UwpASv"
      }
    },
    {
      "cell_type": "markdown",
      "source": [
        "It is an inbuilt function in python which is use to display anything in terminal or console."
      ],
      "metadata": {
        "id": "AY7W8j2HpIUD"
      }
    },
    {
      "cell_type": "code",
      "source": [
        "print(\"Hello World\")\n",
        "print(\"Welcome to this python basics material!!\")"
      ],
      "metadata": {
        "id": "FWOgkhtHno0p",
        "outputId": "9565698e-7680-40ca-cadb-c4dd55da25fc",
        "colab": {
          "base_uri": "https://localhost:8080/"
        }
      },
      "execution_count": 2,
      "outputs": [
        {
          "output_type": "stream",
          "name": "stdout",
          "text": [
            "Hello World\n",
            "Welcome to this python basics material!!\n"
          ]
        }
      ]
    },
    {
      "cell_type": "markdown",
      "source": [
        "# **Single Line and Multi Line Comments**"
      ],
      "metadata": {
        "id": "AdaLR6pup2iG"
      }
    },
    {
      "cell_type": "markdown",
      "source": [
        "These are simple text in our python code that are meant for human readers and are ignored by python interpreter."
      ],
      "metadata": {
        "id": "zIda0YOBqAqA"
      }
    },
    {
      "cell_type": "markdown",
      "source": [
        "## **Single Line Comments**"
      ],
      "metadata": {
        "id": "TtG14ZcZqdlT"
      }
    },
    {
      "cell_type": "markdown",
      "source": [
        "Comments which are in a single line are called single line comments and they starts with hash(#) symbol."
      ],
      "metadata": {
        "id": "HYgfFpFfqjL3"
      }
    },
    {
      "cell_type": "code",
      "source": [
        "# This a single line comment"
      ],
      "metadata": {
        "id": "dJnriyItpdYY"
      },
      "execution_count": 3,
      "outputs": []
    },
    {
      "cell_type": "markdown",
      "source": [
        "## **Multi Line Comments**"
      ],
      "metadata": {
        "id": "SaZuBvX8q08o"
      }
    },
    {
      "cell_type": "markdown",
      "source": [
        "Comments which are in multiple lines are called multi line comments and we can create these in python by using triple quotes(''' ''')"
      ],
      "metadata": {
        "id": "LZ79bNFbq8rY"
      }
    },
    {
      "cell_type": "code",
      "source": [
        "'''\n",
        "This is a multi line comment.\n",
        "\n",
        "I hope you are enjoying\n",
        "'''"
      ],
      "metadata": {
        "id": "2gKXRYFwqzcd",
        "outputId": "08cc2849-ae99-463f-8ced-37ca09d9ebdd",
        "colab": {
          "base_uri": "https://localhost:8080/",
          "height": 36
        }
      },
      "execution_count": 4,
      "outputs": [
        {
          "output_type": "execute_result",
          "data": {
            "text/plain": [
              "'\\nThis is a multi line comment.\\n\\nI hope you are enjoying\\n'"
            ],
            "application/vnd.google.colaboratory.intrinsic+json": {
              "type": "string"
            }
          },
          "metadata": {},
          "execution_count": 4
        }
      ]
    },
    {
      "cell_type": "code",
      "source": [],
      "metadata": {
        "id": "9vafEor-rYRC"
      },
      "execution_count": null,
      "outputs": []
    },
    {
      "cell_type": "markdown",
      "source": [
        "# **Variables**"
      ],
      "metadata": {
        "id": "jgVwtIITrePs"
      }
    },
    {
      "cell_type": "markdown",
      "source": [
        "Variables are the containers that hold some values of different data types."
      ],
      "metadata": {
        "id": "F6LAEV_9rlzC"
      }
    },
    {
      "cell_type": "code",
      "source": [
        "# creating variables\n",
        "a = 10\n",
        "b = 'abc'"
      ],
      "metadata": {
        "id": "EaZYTpLErgII"
      },
      "execution_count": 9,
      "outputs": []
    },
    {
      "cell_type": "code",
      "source": [
        "print(a)\n",
        "print(b)"
      ],
      "metadata": {
        "id": "qnxu-yp1rvmS",
        "outputId": "d5638bcd-5855-4783-d79d-c63c4f9d26ea",
        "colab": {
          "base_uri": "https://localhost:8080/"
        }
      },
      "execution_count": 10,
      "outputs": [
        {
          "output_type": "stream",
          "name": "stdout",
          "text": [
            "10\n",
            "abc\n"
          ]
        }
      ]
    },
    {
      "cell_type": "markdown",
      "source": [
        "**We cannot create a variable name with number.**\n",
        "\n",
        "For EX: 1a = 10 -----> incorrect"
      ],
      "metadata": {
        "id": "y_ihcRaXsGSu"
      }
    },
    {
      "cell_type": "markdown",
      "source": [
        "# **Basic data types in python**"
      ],
      "metadata": {
        "id": "r_kybqchsfxe"
      }
    },
    {
      "cell_type": "markdown",
      "source": [
        "## **Integer**"
      ],
      "metadata": {
        "id": "_mud-p4Gsj8s"
      }
    },
    {
      "cell_type": "markdown",
      "source": [
        "Integer are simple whole numbers."
      ],
      "metadata": {
        "id": "iHdV1PJ9smjj"
      }
    },
    {
      "cell_type": "code",
      "source": [
        "a = 10\n",
        "print(type(a))"
      ],
      "metadata": {
        "id": "24E5wIter020",
        "outputId": "9d2e34a1-8a9d-4053-9870-bed840f70584",
        "colab": {
          "base_uri": "https://localhost:8080/"
        }
      },
      "execution_count": 11,
      "outputs": [
        {
          "output_type": "stream",
          "name": "stdout",
          "text": [
            "<class 'int'>\n"
          ]
        }
      ]
    },
    {
      "cell_type": "markdown",
      "source": [
        "**Operations with Integers :**"
      ],
      "metadata": {
        "id": "2k557GLRs7Ra"
      }
    },
    {
      "cell_type": "code",
      "source": [
        "# Addition\n",
        "a + 10"
      ],
      "metadata": {
        "id": "82BjW_HgsyBB",
        "outputId": "e1b73e95-91a1-4743-d9ac-3e5ef9fa4a6d",
        "colab": {
          "base_uri": "https://localhost:8080/"
        }
      },
      "execution_count": 12,
      "outputs": [
        {
          "output_type": "execute_result",
          "data": {
            "text/plain": [
              "20"
            ]
          },
          "metadata": {},
          "execution_count": 12
        }
      ]
    },
    {
      "cell_type": "code",
      "source": [
        "# Subtraction\n",
        "a - 2"
      ],
      "metadata": {
        "id": "yS1oNzQvtONC",
        "outputId": "fedeaa4a-7d56-4e15-b29e-6166eacc3882",
        "colab": {
          "base_uri": "https://localhost:8080/"
        }
      },
      "execution_count": 15,
      "outputs": [
        {
          "output_type": "execute_result",
          "data": {
            "text/plain": [
              "8"
            ]
          },
          "metadata": {},
          "execution_count": 15
        }
      ]
    },
    {
      "cell_type": "code",
      "source": [
        "# Multiplication\n",
        "a * 2"
      ],
      "metadata": {
        "id": "FRMCGWc9tBnW",
        "outputId": "5d389a68-2c57-4f54-a0fa-5c8af708b7eb",
        "colab": {
          "base_uri": "https://localhost:8080/"
        }
      },
      "execution_count": 13,
      "outputs": [
        {
          "output_type": "execute_result",
          "data": {
            "text/plain": [
              "20"
            ]
          },
          "metadata": {},
          "execution_count": 13
        }
      ]
    },
    {
      "cell_type": "code",
      "source": [
        "# Division\n",
        "a / 2"
      ],
      "metadata": {
        "id": "e4OSgvtGtG7p",
        "outputId": "f0c00cd5-2952-41b7-e126-3de08e271109",
        "colab": {
          "base_uri": "https://localhost:8080/"
        }
      },
      "execution_count": 14,
      "outputs": [
        {
          "output_type": "execute_result",
          "data": {
            "text/plain": [
              "5.0"
            ]
          },
          "metadata": {},
          "execution_count": 14
        }
      ]
    },
    {
      "cell_type": "markdown",
      "source": [
        "## **Floats**"
      ],
      "metadata": {
        "id": "FGBtcsMdtbbx"
      }
    },
    {
      "cell_type": "markdown",
      "source": [
        "Floats are numbers having decimal points or decimal numbers are knows as floats."
      ],
      "metadata": {
        "id": "oJJFHX02tf6L"
      }
    },
    {
      "cell_type": "code",
      "source": [
        "a = 10.5\n",
        "print(type(a))"
      ],
      "metadata": {
        "id": "zHz15j4HtKR-",
        "outputId": "68f6f0f5-7b7f-448c-991b-46b3d3004036",
        "colab": {
          "base_uri": "https://localhost:8080/"
        }
      },
      "execution_count": 16,
      "outputs": [
        {
          "output_type": "stream",
          "name": "stdout",
          "text": [
            "<class 'float'>\n"
          ]
        }
      ]
    },
    {
      "cell_type": "markdown",
      "source": [
        "## **Boolean**"
      ],
      "metadata": {
        "id": "4rXDTKaMutuz"
      }
    },
    {
      "cell_type": "markdown",
      "source": [
        "Boolean is a data type that represents True or False"
      ],
      "metadata": {
        "id": "ngoM97yLuwuY"
      }
    },
    {
      "cell_type": "code",
      "source": [
        "a = True\n",
        "print(type(a))"
      ],
      "metadata": {
        "id": "H1WHuYlOvDZf",
        "outputId": "b09f9d8f-17b3-4c38-f8d4-db2f3bbb0146",
        "colab": {
          "base_uri": "https://localhost:8080/"
        }
      },
      "execution_count": 22,
      "outputs": [
        {
          "output_type": "stream",
          "name": "stdout",
          "text": [
            "<class 'bool'>\n"
          ]
        }
      ]
    },
    {
      "cell_type": "markdown",
      "source": [
        "**Operations**"
      ],
      "metadata": {
        "id": "4blvjWRGvPcq"
      }
    },
    {
      "cell_type": "code",
      "source": [
        "# and logic\n",
        "True and True"
      ],
      "metadata": {
        "id": "d56Mi1CxvCFY",
        "outputId": "65ad3938-0e08-47d4-cc84-2461cf14412e",
        "colab": {
          "base_uri": "https://localhost:8080/"
        }
      },
      "execution_count": 23,
      "outputs": [
        {
          "output_type": "execute_result",
          "data": {
            "text/plain": [
              "True"
            ]
          },
          "metadata": {},
          "execution_count": 23
        }
      ]
    },
    {
      "cell_type": "code",
      "source": [
        "True and False"
      ],
      "metadata": {
        "id": "80oWrbO7vCCX",
        "outputId": "a328d615-e36d-4753-d914-d1b09f23e957",
        "colab": {
          "base_uri": "https://localhost:8080/"
        }
      },
      "execution_count": 24,
      "outputs": [
        {
          "output_type": "execute_result",
          "data": {
            "text/plain": [
              "False"
            ]
          },
          "metadata": {},
          "execution_count": 24
        }
      ]
    },
    {
      "cell_type": "markdown",
      "source": [
        "## **Strings**"
      ],
      "metadata": {
        "id": "zcJMa-nSvhml"
      }
    },
    {
      "cell_type": "markdown",
      "source": [
        "Strings are the data types that are used to store textual information"
      ],
      "metadata": {
        "id": "ZpjZsTIyvkLL"
      }
    },
    {
      "cell_type": "code",
      "source": [
        "language = \"Python\"\n",
        "print(language)\n",
        "print(type(language))"
      ],
      "metadata": {
        "id": "44kIM9Qdvr8D",
        "outputId": "f1293fb6-04cb-466b-dd68-55bf4e073d24",
        "colab": {
          "base_uri": "https://localhost:8080/"
        }
      },
      "execution_count": 25,
      "outputs": [
        {
          "output_type": "stream",
          "name": "stdout",
          "text": [
            "Python\n",
            "<class 'str'>\n"
          ]
        }
      ]
    },
    {
      "cell_type": "markdown",
      "source": [
        "**Operations**"
      ],
      "metadata": {
        "id": "OqzCGz73wB8o"
      }
    },
    {
      "cell_type": "code",
      "source": [
        "'''\n",
        "Concatenation :\n",
        "It is a process of adding similar data types\n",
        "'''\n",
        "print('Data' + ' ' + 'Science')"
      ],
      "metadata": {
        "id": "cShQrJDFvr4q",
        "outputId": "0d69044c-a4f3-4b11-c2fb-f537312158a0",
        "colab": {
          "base_uri": "https://localhost:8080/"
        }
      },
      "execution_count": 28,
      "outputs": [
        {
          "output_type": "stream",
          "name": "stdout",
          "text": [
            "Data Science\n"
          ]
        }
      ]
    },
    {
      "cell_type": "markdown",
      "source": [
        "## **Complex Numbers**"
      ],
      "metadata": {
        "id": "nNQrYQauwpGJ"
      }
    },
    {
      "cell_type": "markdown",
      "source": [
        "These are the complex numbers of mathematics"
      ],
      "metadata": {
        "id": "0pRd6m2LwskD"
      }
    },
    {
      "cell_type": "code",
      "source": [
        "complex_number = 10 + 25j\n",
        "print(complex_number)\n",
        "print(type(complex_number))"
      ],
      "metadata": {
        "id": "4G_cZMoVvr2g",
        "outputId": "e682290b-e14e-470b-b369-2bcdebc3bbf9",
        "colab": {
          "base_uri": "https://localhost:8080/"
        }
      },
      "execution_count": 30,
      "outputs": [
        {
          "output_type": "stream",
          "name": "stdout",
          "text": [
            "(10+25j)\n",
            "<class 'complex'>\n"
          ]
        }
      ]
    },
    {
      "cell_type": "markdown",
      "source": [
        "# **Type Casting**"
      ],
      "metadata": {
        "id": "JVrfislYt6lg"
      }
    },
    {
      "cell_type": "markdown",
      "source": [
        "The process of converting any data type to other data type is called type casting"
      ],
      "metadata": {
        "id": "mbA5lTout9uU"
      }
    },
    {
      "cell_type": "code",
      "source": [
        "a = 10.5\n",
        "print(type(a))"
      ],
      "metadata": {
        "id": "ujcf8adhtobQ",
        "outputId": "1da6cf13-3d88-41cf-a621-8c618b8a8f6c",
        "colab": {
          "base_uri": "https://localhost:8080/"
        }
      },
      "execution_count": 17,
      "outputs": [
        {
          "output_type": "stream",
          "name": "stdout",
          "text": [
            "<class 'float'>\n"
          ]
        }
      ]
    },
    {
      "cell_type": "code",
      "source": [
        "# Type casting float to integer\n",
        "int(a)"
      ],
      "metadata": {
        "id": "56j9eQ5vuGAo",
        "outputId": "bf3c0fd0-4736-4d74-d6d6-2e247fc043c6",
        "colab": {
          "base_uri": "https://localhost:8080/"
        }
      },
      "execution_count": 19,
      "outputs": [
        {
          "output_type": "execute_result",
          "data": {
            "text/plain": [
              "10"
            ]
          },
          "metadata": {},
          "execution_count": 19
        }
      ]
    },
    {
      "cell_type": "code",
      "source": [
        "# Type casting integer to float\n",
        "a = 10\n",
        "float(a)"
      ],
      "metadata": {
        "id": "uYZs_5U5uTOY",
        "outputId": "bbd15f75-46e1-4b07-9e34-fbd15ffae8bf",
        "colab": {
          "base_uri": "https://localhost:8080/"
        }
      },
      "execution_count": 20,
      "outputs": [
        {
          "output_type": "execute_result",
          "data": {
            "text/plain": [
              "10.0"
            ]
          },
          "metadata": {},
          "execution_count": 20
        }
      ]
    },
    {
      "cell_type": "markdown",
      "source": [
        "## **Dynamic Typing**"
      ],
      "metadata": {
        "id": "UacE3ZCOxXnw"
      }
    },
    {
      "cell_type": "markdown",
      "source": [
        "It is simply type casting a variable datatype into some other datatype"
      ],
      "metadata": {
        "id": "r3i2vEENxfM9"
      }
    },
    {
      "cell_type": "code",
      "source": [
        "a = 10\n",
        "print(type(a))\n",
        "a = 'Python'\n",
        "print(type(a))"
      ],
      "metadata": {
        "id": "LLz7nq4GuodT",
        "outputId": "2891e9d8-0889-4b1f-fd31-0709ce6759a7",
        "colab": {
          "base_uri": "https://localhost:8080/"
        }
      },
      "execution_count": 31,
      "outputs": [
        {
          "output_type": "stream",
          "name": "stdout",
          "text": [
            "<class 'int'>\n",
            "<class 'str'>\n"
          ]
        }
      ]
    },
    {
      "cell_type": "markdown",
      "source": [
        "## **Strong Typing**"
      ],
      "metadata": {
        "id": "K98VDMX_x2CI"
      }
    },
    {
      "cell_type": "markdown",
      "source": [
        "It is the process of explicitly type casting a variable data type into other data type"
      ],
      "metadata": {
        "id": "Q6B25aGRx-ZU"
      }
    },
    {
      "cell_type": "code",
      "source": [
        "a = 10\n",
        "print(a)\n",
        "print(type(a))\n",
        "a = str(a)\n",
        "print(a)\n",
        "print(type(a))"
      ],
      "metadata": {
        "id": "4UPNw9q7xt2O",
        "outputId": "4f9a2c38-9724-435d-bba1-5874c1886da9",
        "colab": {
          "base_uri": "https://localhost:8080/"
        }
      },
      "execution_count": 35,
      "outputs": [
        {
          "output_type": "stream",
          "name": "stdout",
          "text": [
            "10\n",
            "<class 'int'>\n",
            "10\n",
            "<class 'str'>\n"
          ]
        }
      ]
    },
    {
      "cell_type": "markdown",
      "source": [
        "# **String Formatting**"
      ],
      "metadata": {
        "id": "735zOc_eyXCI"
      }
    },
    {
      "cell_type": "markdown",
      "source": [
        "It is a string which contains replacements fields represented by ginger tags({})."
      ],
      "metadata": {
        "id": "Qp9Z7QAUyb4D"
      }
    },
    {
      "cell_type": "code",
      "source": [
        "a = 100\n",
        "print(f\"The value of a is: {a}\")"
      ],
      "metadata": {
        "id": "Xd85oV9AyOjh",
        "outputId": "90142899-058a-4a10-de4b-837ce752a3d9",
        "colab": {
          "base_uri": "https://localhost:8080/"
        }
      },
      "execution_count": 36,
      "outputs": [
        {
          "output_type": "stream",
          "name": "stdout",
          "text": [
            "The value of a is: 100\n"
          ]
        }
      ]
    },
    {
      "cell_type": "code",
      "source": [
        "first_name = \"Anas\"\n",
        "last_name = \"Malik\"\n",
        "print(f\"My full name is: {first_name} {last_name}\")\n",
        "print(\"My full name is: {} {}\".format(first_name, last_name))"
      ],
      "metadata": {
        "id": "sHLs250fysQp",
        "outputId": "745d0230-7a9d-4c42-bb3e-d1a77e88b496",
        "colab": {
          "base_uri": "https://localhost:8080/"
        }
      },
      "execution_count": 41,
      "outputs": [
        {
          "output_type": "stream",
          "name": "stdout",
          "text": [
            "My full name is: Anas Malik\n",
            "My full name is: Anas Malik\n"
          ]
        }
      ]
    },
    {
      "cell_type": "markdown",
      "source": [
        "# **input() Functon**"
      ],
      "metadata": {
        "id": "e-8tEn_xzt7j"
      }
    },
    {
      "cell_type": "markdown",
      "source": [
        "It is an inbuilt function which allow us to take input from the user"
      ],
      "metadata": {
        "id": "KlyD_Ub-z0Tn"
      }
    },
    {
      "cell_type": "code",
      "source": [
        "first_name = input(\"Please enter your first name: \")\n",
        "last_name = input(\"Please enter your last name: \")\n",
        "print(\"Welcome {} {}\".format(first_name, last_name))"
      ],
      "metadata": {
        "id": "61HG2NNcy56x",
        "outputId": "13a1b93f-a9a9-487e-ed13-26c242159ff8",
        "colab": {
          "base_uri": "https://localhost:8080/"
        }
      },
      "execution_count": 42,
      "outputs": [
        {
          "output_type": "stream",
          "name": "stdout",
          "text": [
            "Please enter your first name: Anas\n",
            "Please enter your last name: Malik\n",
            "Welcome Anas Malik\n"
          ]
        }
      ]
    },
    {
      "cell_type": "markdown",
      "source": [
        "**Note: It takes string as an input by default**"
      ],
      "metadata": {
        "id": "9f8l5PmE0kdu"
      }
    },
    {
      "cell_type": "code",
      "source": [],
      "metadata": {
        "id": "fgetXvSz0HrT"
      },
      "execution_count": null,
      "outputs": []
    }
  ],
  "metadata": {
    "colab": {
      "name": "Welcome To Colaboratory",
      "provenance": []
    },
    "kernelspec": {
      "display_name": "Python 3",
      "name": "python3"
    }
  },
  "nbformat": 4,
  "nbformat_minor": 0
}