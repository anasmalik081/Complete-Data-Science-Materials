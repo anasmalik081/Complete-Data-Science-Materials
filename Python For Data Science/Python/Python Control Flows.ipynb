{
  "cells": [
    {
      "cell_type": "markdown",
      "source": [
        "# **If-Else Statement**"
      ],
      "metadata": {
        "id": "hLM9aq7i1s6H"
      }
    },
    {
      "cell_type": "markdown",
      "source": [
        "It is a statement which helps us to execute a block of code with a condition"
      ],
      "metadata": {
        "id": "4rT5kvaU1xNJ"
      }
    },
    {
      "cell_type": "code",
      "source": [
        "marks = int(input(\"Please enter your marks: \"))\n",
        "if marks > 100:\n",
        "  print(\"Invalid Marks!!\")\n",
        "elif marks >= 34:\n",
        "  print(\"You have passed the test\")\n",
        "else:\n",
        "  print(\"You have not passed the test\")"
      ],
      "metadata": {
        "id": "u_M-vmmo1pXY",
        "outputId": "67832bad-1b30-4f0e-8845-aa4d308a751b",
        "colab": {
          "base_uri": "https://localhost:8080/"
        }
      },
      "execution_count": 43,
      "outputs": [
        {
          "output_type": "stream",
          "name": "stdout",
          "text": [
            "Please enter your marks: 100\n",
            "You have passed the test\n"
          ]
        }
      ]
    },
    {
      "cell_type": "markdown",
      "source": [
        "# **Loops Statement**"
      ],
      "metadata": {
        "id": "aj1Y3z2ZCJfc"
      }
    },
    {
      "cell_type": "markdown",
      "source": [
        "These are the statements which allow us to execute a block of code repeatedly."
      ],
      "metadata": {
        "id": "8tQA0d7aCP7U"
      }
    },
    {
      "cell_type": "markdown",
      "source": [
        "## **for loop statement**"
      ],
      "metadata": {
        "id": "CBVN-bseCc8Y"
      }
    },
    {
      "cell_type": "markdown",
      "source": [
        "It is used when the number of iterations are known"
      ],
      "metadata": {
        "id": "14vkERGhCg8K"
      }
    },
    {
      "cell_type": "code",
      "source": [
        "for elem in ['apple', 'banana', 200, 'ice cream']:\n",
        "  print(elem)"
      ],
      "metadata": {
        "id": "66QFFvNG2gXj",
        "outputId": "5cc8cf54-b10f-4b52-b4e1-34f271376827",
        "colab": {
          "base_uri": "https://localhost:8080/"
        }
      },
      "execution_count": 45,
      "outputs": [
        {
          "output_type": "stream",
          "name": "stdout",
          "text": [
            "apple\n",
            "banana\n",
            "200\n",
            "ice cream\n"
          ]
        }
      ]
    },
    {
      "cell_type": "markdown",
      "source": [
        "**Nested for loop**"
      ],
      "metadata": {
        "id": "TNIRoPgEDStq"
      }
    },
    {
      "cell_type": "code",
      "source": [
        "'''\n",
        "When there are another for loop is present inside a for loop then we call it as nested for loop\n",
        "'''\n",
        "for elem in ['apple', 'banana', 200, 'ice cream']:\n",
        "  for i in [1,2,3]:\n",
        "    print(elem, ' : ', i)"
      ],
      "metadata": {
        "id": "NDBparRdDEqX",
        "outputId": "7bb28c03-65b0-495d-fb25-f714cd5c1188",
        "colab": {
          "base_uri": "https://localhost:8080/"
        }
      },
      "execution_count": 46,
      "outputs": [
        {
          "output_type": "stream",
          "name": "stdout",
          "text": [
            "apple  :  1\n",
            "apple  :  2\n",
            "apple  :  3\n",
            "banana  :  1\n",
            "banana  :  2\n",
            "banana  :  3\n",
            "200  :  1\n",
            "200  :  2\n",
            "200  :  3\n",
            "ice cream  :  1\n",
            "ice cream  :  2\n",
            "ice cream  :  3\n"
          ]
        }
      ]
    },
    {
      "cell_type": "markdown",
      "source": [
        "## **While Statement**"
      ],
      "metadata": {
        "id": "nkl69-XqGxZy"
      }
    },
    {
      "cell_type": "markdown",
      "source": [
        "It is used when the number of iterations are unknown or until the condition is True."
      ],
      "metadata": {
        "id": "rLiOZjVBG3Xe"
      }
    },
    {
      "cell_type": "code",
      "source": [
        "i = 0\n",
        "while i<=5:\n",
        "  print(i)\n",
        "  i += 1"
      ],
      "metadata": {
        "id": "TsXwPExzDwla",
        "outputId": "22ca8fed-65e6-4ea6-d81d-55824c95e464",
        "colab": {
          "base_uri": "https://localhost:8080/"
        }
      },
      "execution_count": 48,
      "outputs": [
        {
          "output_type": "stream",
          "name": "stdout",
          "text": [
            "0\n",
            "1\n",
            "2\n",
            "3\n",
            "4\n",
            "5\n"
          ]
        }
      ]
    },
    {
      "cell_type": "markdown",
      "source": [
        "# **break statement**"
      ],
      "metadata": {
        "id": "_n3sNuDZHpLl"
      }
    },
    {
      "cell_type": "markdown",
      "source": [
        "This statement is used to jump out of the loop"
      ],
      "metadata": {
        "id": "3RFZUH9-Hsnn"
      }
    },
    {
      "cell_type": "code",
      "source": [
        "i = 1\n",
        "while i<=5:\n",
        "  if i == 3:\n",
        "    break\n",
        "  print(i)\n",
        "  i += 1"
      ],
      "metadata": {
        "id": "fNSIIAKnHHlw",
        "outputId": "7da41f93-127d-49f9-9b82-437f4d47a486",
        "colab": {
          "base_uri": "https://localhost:8080/"
        }
      },
      "execution_count": 49,
      "outputs": [
        {
          "output_type": "stream",
          "name": "stdout",
          "text": [
            "1\n",
            "2\n"
          ]
        }
      ]
    },
    {
      "cell_type": "markdown",
      "source": [
        "# **continue statement**"
      ],
      "metadata": {
        "id": "zqauLKpRITeJ"
      }
    },
    {
      "cell_type": "markdown",
      "source": [
        "It is used to go back to the starting of the loop"
      ],
      "metadata": {
        "id": "t5RnVZWKIXDz"
      }
    },
    {
      "cell_type": "code",
      "source": [
        "i = 0\n",
        "while i <= 5:\n",
        "  i += 1\n",
        "  if i == 2:\n",
        "    continue\n",
        "  print(i)"
      ],
      "metadata": {
        "id": "VvmIO3HIH9x4",
        "outputId": "0b8669f8-0190-4637-9523-301d5315d4e8",
        "colab": {
          "base_uri": "https://localhost:8080/"
        }
      },
      "execution_count": 53,
      "outputs": [
        {
          "output_type": "stream",
          "name": "stdout",
          "text": [
            "1\n",
            "3\n",
            "4\n",
            "5\n",
            "6\n"
          ]
        }
      ]
    },
    {
      "cell_type": "code",
      "source": [],
      "metadata": {
        "id": "j2aH2eixIsRH"
      },
      "execution_count": null,
      "outputs": []
    }
  ],
  "metadata": {
    "colab": {
      "name": "Welcome To Colaboratory",
      "provenance": []
    },
    "kernelspec": {
      "display_name": "Python 3",
      "name": "python3"
    }
  },
  "nbformat": 4,
  "nbformat_minor": 0
}