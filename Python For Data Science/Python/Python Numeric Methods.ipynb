{
  "cells": [
    {
      "cell_type": "markdown",
      "source": [
        "# **Absolute Method**"
      ],
      "metadata": {
        "id": "jcLx_kE2R3ak"
      }
    },
    {
      "cell_type": "markdown",
      "source": [
        "It returns the absolute value of the argument"
      ],
      "metadata": {
        "id": "eIvTSvwPSEZw"
      }
    },
    {
      "cell_type": "code",
      "source": [
        "abs(20)"
      ],
      "metadata": {
        "id": "qDf2hQBvR5xC",
        "outputId": "900c9273-f490-4c3c-b5c7-ba1d042689b3",
        "colab": {
          "base_uri": "https://localhost:8080/"
        }
      },
      "execution_count": 92,
      "outputs": [
        {
          "output_type": "execute_result",
          "data": {
            "text/plain": [
              "20"
            ]
          },
          "metadata": {},
          "execution_count": 92
        }
      ]
    },
    {
      "cell_type": "code",
      "source": [
        "abs(-20)"
      ],
      "metadata": {
        "id": "Bc2FAQQ4SLFz",
        "outputId": "b3057ba5-9777-42bd-fe16-bc6a595ba61d",
        "colab": {
          "base_uri": "https://localhost:8080/"
        }
      },
      "execution_count": 93,
      "outputs": [
        {
          "output_type": "execute_result",
          "data": {
            "text/plain": [
              "20"
            ]
          },
          "metadata": {},
          "execution_count": 93
        }
      ]
    },
    {
      "cell_type": "code",
      "source": [
        "abs(10-10)"
      ],
      "metadata": {
        "id": "ltpTv-ulSMRL",
        "outputId": "863a6cfe-2636-43ac-a4ba-4fc234e56541",
        "colab": {
          "base_uri": "https://localhost:8080/"
        }
      },
      "execution_count": 94,
      "outputs": [
        {
          "output_type": "execute_result",
          "data": {
            "text/plain": [
              "0"
            ]
          },
          "metadata": {},
          "execution_count": 94
        }
      ]
    },
    {
      "cell_type": "code",
      "source": [
        "abs(20-9)"
      ],
      "metadata": {
        "id": "LNqCwf_VSPmS",
        "outputId": "165fedb1-bc9f-4b2d-bc43-525cb0fb905d",
        "colab": {
          "base_uri": "https://localhost:8080/"
        }
      },
      "execution_count": 95,
      "outputs": [
        {
          "output_type": "execute_result",
          "data": {
            "text/plain": [
              "11"
            ]
          },
          "metadata": {},
          "execution_count": 95
        }
      ]
    },
    {
      "cell_type": "code",
      "source": [
        "abs(9-20)"
      ],
      "metadata": {
        "id": "6nVfKOsaSRSm",
        "outputId": "79fa5af2-1e68-4aa7-c6bb-be3ac2ff83b4",
        "colab": {
          "base_uri": "https://localhost:8080/"
        }
      },
      "execution_count": 96,
      "outputs": [
        {
          "output_type": "execute_result",
          "data": {
            "text/plain": [
              "11"
            ]
          },
          "metadata": {},
          "execution_count": 96
        }
      ]
    },
    {
      "cell_type": "code",
      "source": [
        "abs(34.30000)"
      ],
      "metadata": {
        "id": "2xmw-LTnSTc0",
        "outputId": "502ac8c2-3d65-4bff-b544-605be8576865",
        "colab": {
          "base_uri": "https://localhost:8080/"
        }
      },
      "execution_count": 98,
      "outputs": [
        {
          "output_type": "execute_result",
          "data": {
            "text/plain": [
              "34.3"
            ]
          },
          "metadata": {},
          "execution_count": 98
        }
      ]
    },
    {
      "cell_type": "markdown",
      "source": [
        "# **ceil Method**"
      ],
      "metadata": {
        "id": "t_MLQeDmSkYf"
      }
    },
    {
      "cell_type": "markdown",
      "source": [
        "It returns the ceiling value of the argument\n",
        "\n",
        "To use this method we need to import math module"
      ],
      "metadata": {
        "id": "4wKCpLOHSpls"
      }
    },
    {
      "cell_type": "code",
      "source": [
        "import math"
      ],
      "metadata": {
        "id": "W5pNAmFkSZ1D"
      },
      "execution_count": 99,
      "outputs": []
    },
    {
      "cell_type": "code",
      "source": [
        "math.ceil(43.6)"
      ],
      "metadata": {
        "id": "czk0BTeuS3H1",
        "outputId": "d3e93ff2-9fa0-44d6-ed4f-74168bbc92fe",
        "colab": {
          "base_uri": "https://localhost:8080/"
        }
      },
      "execution_count": 104,
      "outputs": [
        {
          "output_type": "execute_result",
          "data": {
            "text/plain": [
              "44"
            ]
          },
          "metadata": {},
          "execution_count": 104
        }
      ]
    },
    {
      "cell_type": "code",
      "source": [
        "math.ceil(43.3)"
      ],
      "metadata": {
        "id": "LQdB6hoVS6Ez",
        "outputId": "f3f2fded-fe68-4b64-9c34-6fecb1e8fe03",
        "colab": {
          "base_uri": "https://localhost:8080/"
        }
      },
      "execution_count": 102,
      "outputs": [
        {
          "output_type": "execute_result",
          "data": {
            "text/plain": [
              "44"
            ]
          },
          "metadata": {},
          "execution_count": 102
        }
      ]
    },
    {
      "cell_type": "code",
      "source": [
        "math.ceil(-44.5)"
      ],
      "metadata": {
        "id": "0KIbTcw2TDrO",
        "outputId": "efa3313f-6275-48c0-865d-8b3308910604",
        "colab": {
          "base_uri": "https://localhost:8080/"
        }
      },
      "execution_count": 105,
      "outputs": [
        {
          "output_type": "execute_result",
          "data": {
            "text/plain": [
              "-44"
            ]
          },
          "metadata": {},
          "execution_count": 105
        }
      ]
    },
    {
      "cell_type": "markdown",
      "source": [
        "# **floor Method**"
      ],
      "metadata": {
        "id": "LsVvpEgJTayh"
      }
    },
    {
      "cell_type": "markdown",
      "source": [
        "It returns the floor value of the argument\n",
        "\n",
        "To use this method we need to import math module"
      ],
      "metadata": {
        "id": "KPFh03EgTfFW"
      }
    },
    {
      "cell_type": "code",
      "source": [
        "import math"
      ],
      "metadata": {
        "id": "s045zXvqTUUh"
      },
      "execution_count": 106,
      "outputs": []
    },
    {
      "cell_type": "code",
      "source": [
        "math.floor(44.6)"
      ],
      "metadata": {
        "id": "5J1_vPGwTm95",
        "outputId": "1bd4a935-18df-4a18-bf5c-466de9d45913",
        "colab": {
          "base_uri": "https://localhost:8080/"
        }
      },
      "execution_count": 108,
      "outputs": [
        {
          "output_type": "execute_result",
          "data": {
            "text/plain": [
              "44"
            ]
          },
          "metadata": {},
          "execution_count": 108
        }
      ]
    },
    {
      "cell_type": "code",
      "source": [
        "math.floor(44.3)"
      ],
      "metadata": {
        "id": "6427pxQnTpXh",
        "outputId": "cd90830b-ddbf-48d8-e801-cdc09f3c404a",
        "colab": {
          "base_uri": "https://localhost:8080/"
        }
      },
      "execution_count": 109,
      "outputs": [
        {
          "output_type": "execute_result",
          "data": {
            "text/plain": [
              "44"
            ]
          },
          "metadata": {},
          "execution_count": 109
        }
      ]
    },
    {
      "cell_type": "code",
      "source": [
        "math.floor(-44.5)"
      ],
      "metadata": {
        "id": "ytGje-m9Ttas",
        "outputId": "a8276641-9365-433e-ec26-242f9a44bef6",
        "colab": {
          "base_uri": "https://localhost:8080/"
        }
      },
      "execution_count": 111,
      "outputs": [
        {
          "output_type": "execute_result",
          "data": {
            "text/plain": [
              "-45"
            ]
          },
          "metadata": {},
          "execution_count": 111
        }
      ]
    },
    {
      "cell_type": "markdown",
      "source": [
        "# **exp() Method**"
      ],
      "metadata": {
        "id": "3Pz6waplUFgj"
      }
    },
    {
      "cell_type": "markdown",
      "source": [
        "It returns the exponential of the argument\n",
        "\n",
        "To use this we need to import math module"
      ],
      "metadata": {
        "id": "W8JmkcCNULdV"
      }
    },
    {
      "cell_type": "code",
      "source": [
        "import math"
      ],
      "metadata": {
        "id": "pc_BVhOOTvww"
      },
      "execution_count": 112,
      "outputs": []
    },
    {
      "cell_type": "code",
      "source": [
        "math.exp(2)"
      ],
      "metadata": {
        "id": "Gh1CuCX2UYl_",
        "outputId": "530cb8d2-7310-4c3c-e4bb-02fa4034ff61",
        "colab": {
          "base_uri": "https://localhost:8080/"
        }
      },
      "execution_count": 113,
      "outputs": [
        {
          "output_type": "execute_result",
          "data": {
            "text/plain": [
              "7.38905609893065"
            ]
          },
          "metadata": {},
          "execution_count": 113
        }
      ]
    },
    {
      "cell_type": "code",
      "source": [
        "math.exp(10)"
      ],
      "metadata": {
        "id": "wV7bGdCYUceX",
        "outputId": "cf0155e5-8586-41eb-f055-6ec6411ccdee",
        "colab": {
          "base_uri": "https://localhost:8080/"
        }
      },
      "execution_count": 114,
      "outputs": [
        {
          "output_type": "execute_result",
          "data": {
            "text/plain": [
              "22026.465794806718"
            ]
          },
          "metadata": {},
          "execution_count": 114
        }
      ]
    },
    {
      "cell_type": "markdown",
      "source": [
        "# **fabs() Method**"
      ],
      "metadata": {
        "id": "U3eB4sUoUjIV"
      }
    },
    {
      "cell_type": "markdown",
      "source": [
        "It returns the absolute value of the argument and it is similar to abs() method\n",
        "\n",
        "To use this we need to import math module"
      ],
      "metadata": {
        "id": "oaYx9pRIUqke"
      }
    },
    {
      "cell_type": "code",
      "source": [
        "import math"
      ],
      "metadata": {
        "id": "yfxmXBggUfM6"
      },
      "execution_count": 115,
      "outputs": []
    },
    {
      "cell_type": "code",
      "source": [
        "math.fabs(53.34)"
      ],
      "metadata": {
        "id": "RKRdn-mdUxm6",
        "outputId": "750fe6a9-39bc-496c-dfb9-e6e6c40d2ff1",
        "colab": {
          "base_uri": "https://localhost:8080/"
        }
      },
      "execution_count": 116,
      "outputs": [
        {
          "output_type": "execute_result",
          "data": {
            "text/plain": [
              "53.34"
            ]
          },
          "metadata": {},
          "execution_count": 116
        }
      ]
    },
    {
      "cell_type": "code",
      "source": [
        "math.fabs(53.3400)"
      ],
      "metadata": {
        "id": "fOjyDCZ2U0BR",
        "outputId": "0f0746cd-1d1d-4811-f0d4-612f5dcec93a",
        "colab": {
          "base_uri": "https://localhost:8080/"
        }
      },
      "execution_count": 117,
      "outputs": [
        {
          "output_type": "execute_result",
          "data": {
            "text/plain": [
              "53.34"
            ]
          },
          "metadata": {},
          "execution_count": 117
        }
      ]
    },
    {
      "cell_type": "markdown",
      "source": [
        "# **log() Method**"
      ],
      "metadata": {
        "id": "98N8qIzWVEMX"
      }
    },
    {
      "cell_type": "markdown",
      "source": [
        "It returns the logarithmic value of the argument\n",
        "\n",
        "To use this we need to import math module"
      ],
      "metadata": {
        "id": "iKmzQWyYVOCr"
      }
    },
    {
      "cell_type": "code",
      "source": [
        "import math"
      ],
      "metadata": {
        "id": "AdKW15PBU3HB"
      },
      "execution_count": 118,
      "outputs": []
    },
    {
      "cell_type": "code",
      "source": [
        "math.log(2) # base e"
      ],
      "metadata": {
        "id": "aBvLtme6VR-r",
        "outputId": "a650a59e-36e4-469b-d45e-5538e0aaa32f",
        "colab": {
          "base_uri": "https://localhost:8080/"
        }
      },
      "execution_count": 119,
      "outputs": [
        {
          "output_type": "execute_result",
          "data": {
            "text/plain": [
              "0.6931471805599453"
            ]
          },
          "metadata": {},
          "execution_count": 119
        }
      ]
    },
    {
      "cell_type": "code",
      "source": [
        "math.log(10)"
      ],
      "metadata": {
        "id": "e3n7uO4KVUIV",
        "outputId": "dccd45fe-683f-4e91-e58a-ed2cad5f9ef4",
        "colab": {
          "base_uri": "https://localhost:8080/"
        }
      },
      "execution_count": 120,
      "outputs": [
        {
          "output_type": "execute_result",
          "data": {
            "text/plain": [
              "2.302585092994046"
            ]
          },
          "metadata": {},
          "execution_count": 120
        }
      ]
    },
    {
      "cell_type": "code",
      "source": [
        "math.log10(10) # base 10"
      ],
      "metadata": {
        "id": "-ycvc-l6VVn8",
        "outputId": "a2e08a0f-1a03-4cc6-e09b-4a1892ea7f2d",
        "colab": {
          "base_uri": "https://localhost:8080/"
        }
      },
      "execution_count": 121,
      "outputs": [
        {
          "output_type": "execute_result",
          "data": {
            "text/plain": [
              "1.0"
            ]
          },
          "metadata": {},
          "execution_count": 121
        }
      ]
    },
    {
      "cell_type": "markdown",
      "source": [
        "# **max() Method**"
      ],
      "metadata": {
        "id": "hZkZRdKZWAWM"
      }
    },
    {
      "cell_type": "markdown",
      "source": [
        "It returns the maximum value from given arguments"
      ],
      "metadata": {
        "id": "a_QXQjY_WE3H"
      }
    },
    {
      "cell_type": "code",
      "source": [
        "max(10, 20, 30)"
      ],
      "metadata": {
        "id": "EZ11mtIGVzWB",
        "outputId": "9804ca95-0f60-4571-9470-d34082d13002",
        "colab": {
          "base_uri": "https://localhost:8080/"
        }
      },
      "execution_count": 122,
      "outputs": [
        {
          "output_type": "execute_result",
          "data": {
            "text/plain": [
              "30"
            ]
          },
          "metadata": {},
          "execution_count": 122
        }
      ]
    },
    {
      "cell_type": "code",
      "source": [
        "max(-1, 2, 3, -100, 100)"
      ],
      "metadata": {
        "id": "L-uPWfNjWNxq",
        "outputId": "9dd1947b-bf48-45f8-ffa0-734950ccbe2c",
        "colab": {
          "base_uri": "https://localhost:8080/"
        }
      },
      "execution_count": 123,
      "outputs": [
        {
          "output_type": "execute_result",
          "data": {
            "text/plain": [
              "100"
            ]
          },
          "metadata": {},
          "execution_count": 123
        }
      ]
    },
    {
      "cell_type": "markdown",
      "source": [
        "# **min() Method**"
      ],
      "metadata": {
        "id": "bC_6FhVaWVIm"
      }
    },
    {
      "cell_type": "markdown",
      "source": [
        "It returns the minimum value from given arguments"
      ],
      "metadata": {
        "id": "3YwSVZSwWYn3"
      }
    },
    {
      "cell_type": "code",
      "source": [
        "min(10, 20, 30)"
      ],
      "metadata": {
        "id": "L2kP74bRWTmX",
        "outputId": "36a6bd2c-ac66-4414-d189-5eb3f6288c2c",
        "colab": {
          "base_uri": "https://localhost:8080/"
        }
      },
      "execution_count": 124,
      "outputs": [
        {
          "output_type": "execute_result",
          "data": {
            "text/plain": [
              "10"
            ]
          },
          "metadata": {},
          "execution_count": 124
        }
      ]
    },
    {
      "cell_type": "code",
      "source": [
        "min(-1, 2, -100, 100)"
      ],
      "metadata": {
        "id": "iXAZASOBWibu",
        "outputId": "1714d3c6-7db2-487a-85ad-fa5eaf019cf0",
        "colab": {
          "base_uri": "https://localhost:8080/"
        }
      },
      "execution_count": 125,
      "outputs": [
        {
          "output_type": "execute_result",
          "data": {
            "text/plain": [
              "-100"
            ]
          },
          "metadata": {},
          "execution_count": 125
        }
      ]
    },
    {
      "cell_type": "markdown",
      "source": [
        "# **pow() Method**"
      ],
      "metadata": {
        "id": "QdFBepbZWszx"
      }
    },
    {
      "cell_type": "markdown",
      "source": [
        "It is used to calculate the power of a given number\n",
        "\n",
        "To use this we need to import math module"
      ],
      "metadata": {
        "id": "voSOYKZPWxpS"
      }
    },
    {
      "cell_type": "code",
      "source": [
        "import math"
      ],
      "metadata": {
        "id": "FxEMB0guWlMs"
      },
      "execution_count": 126,
      "outputs": []
    },
    {
      "cell_type": "code",
      "source": [
        "math.pow(2, 3) # 2 ^ 3"
      ],
      "metadata": {
        "id": "IcMsuIhIW64f",
        "outputId": "6d7282db-6013-4d5b-def1-a87472a5b42c",
        "colab": {
          "base_uri": "https://localhost:8080/"
        }
      },
      "execution_count": 128,
      "outputs": [
        {
          "output_type": "execute_result",
          "data": {
            "text/plain": [
              "8.0"
            ]
          },
          "metadata": {},
          "execution_count": 128
        }
      ]
    },
    {
      "cell_type": "code",
      "source": [
        "math.pow(3,2)"
      ],
      "metadata": {
        "id": "xTqeIMQ9W9UD",
        "outputId": "38ae4cc2-e09f-4dae-db25-2cde0db90975",
        "colab": {
          "base_uri": "https://localhost:8080/"
        }
      },
      "execution_count": 129,
      "outputs": [
        {
          "output_type": "execute_result",
          "data": {
            "text/plain": [
              "9.0"
            ]
          },
          "metadata": {},
          "execution_count": 129
        }
      ]
    },
    {
      "cell_type": "markdown",
      "source": [
        "# **sqrt() Method**"
      ],
      "metadata": {
        "id": "1ni8_rE3XLsh"
      }
    },
    {
      "cell_type": "markdown",
      "source": [
        "It is used to calculate the square root of a given number\n",
        "\n",
        "To use this we need to import math module"
      ],
      "metadata": {
        "id": "oHtf6nPjXPzI"
      }
    },
    {
      "cell_type": "code",
      "source": [
        "import math"
      ],
      "metadata": {
        "id": "r7qtTGZJXCx9"
      },
      "execution_count": 130,
      "outputs": []
    },
    {
      "cell_type": "code",
      "source": [
        "math.sqrt(16)"
      ],
      "metadata": {
        "id": "pLe5UokAXSWI",
        "outputId": "c910e92b-ef95-4ecc-82ef-2e3872d525bc",
        "colab": {
          "base_uri": "https://localhost:8080/"
        }
      },
      "execution_count": 131,
      "outputs": [
        {
          "output_type": "execute_result",
          "data": {
            "text/plain": [
              "4.0"
            ]
          },
          "metadata": {},
          "execution_count": 131
        }
      ]
    },
    {
      "cell_type": "code",
      "source": [
        "math.sqrt(9)"
      ],
      "metadata": {
        "id": "ofW4PJSAXUIp",
        "outputId": "937ee96f-2311-4178-a7c2-d365d274f72b",
        "colab": {
          "base_uri": "https://localhost:8080/"
        }
      },
      "execution_count": 132,
      "outputs": [
        {
          "output_type": "execute_result",
          "data": {
            "text/plain": [
              "3.0"
            ]
          },
          "metadata": {},
          "execution_count": 132
        }
      ]
    },
    {
      "cell_type": "markdown",
      "source": [
        "# **Trignometric Functions**"
      ],
      "metadata": {
        "id": "NKqnRhObXdWj"
      }
    },
    {
      "cell_type": "code",
      "source": [
        "import math"
      ],
      "metadata": {
        "id": "WNjvxNkbXVyt"
      },
      "execution_count": 133,
      "outputs": []
    },
    {
      "cell_type": "code",
      "source": [
        "math.sin(180)"
      ],
      "metadata": {
        "id": "rrm47K-VXjdA",
        "outputId": "d2a5e776-dde5-46b7-a9b8-cba93cf47cbb",
        "colab": {
          "base_uri": "https://localhost:8080/"
        }
      },
      "execution_count": 136,
      "outputs": [
        {
          "output_type": "execute_result",
          "data": {
            "text/plain": [
              "-0.8011526357338304"
            ]
          },
          "metadata": {},
          "execution_count": 136
        }
      ]
    },
    {
      "cell_type": "code",
      "source": [
        "math.cos(0)"
      ],
      "metadata": {
        "id": "5v7xTyOlXmAD",
        "outputId": "94688b9c-f6ae-44fb-dbb6-78b5e6b7d5eb",
        "colab": {
          "base_uri": "https://localhost:8080/"
        }
      },
      "execution_count": 137,
      "outputs": [
        {
          "output_type": "execute_result",
          "data": {
            "text/plain": [
              "1.0"
            ]
          },
          "metadata": {},
          "execution_count": 137
        }
      ]
    },
    {
      "cell_type": "code",
      "source": [
        "math.tan(45)"
      ],
      "metadata": {
        "id": "BHnlFyt4XxQo",
        "outputId": "6a92c84b-a099-4609-c970-2ad6e1a0f16a",
        "colab": {
          "base_uri": "https://localhost:8080/"
        }
      },
      "execution_count": 138,
      "outputs": [
        {
          "output_type": "execute_result",
          "data": {
            "text/plain": [
              "1.6197751905438615"
            ]
          },
          "metadata": {},
          "execution_count": 138
        }
      ]
    },
    {
      "cell_type": "code",
      "source": [
        "math.hypot(2,3)"
      ],
      "metadata": {
        "id": "A0w5ll8NXzma",
        "outputId": "6521b04b-d284-43e0-fa3e-655b9d45641c",
        "colab": {
          "base_uri": "https://localhost:8080/"
        }
      },
      "execution_count": 139,
      "outputs": [
        {
          "output_type": "execute_result",
          "data": {
            "text/plain": [
              "3.605551275463989"
            ]
          },
          "metadata": {},
          "execution_count": 139
        }
      ]
    },
    {
      "cell_type": "markdown",
      "source": [
        "# **modf() Method**"
      ],
      "metadata": {
        "id": "JRZlQ8RaYaWD"
      }
    },
    {
      "cell_type": "markdown",
      "source": [
        "It returns the mod of an argument\n",
        "\n",
        "To use this we need to import math module"
      ],
      "metadata": {
        "id": "Rg9lVG_eYdrq"
      }
    },
    {
      "cell_type": "code",
      "source": [
        "math.modf(2)"
      ],
      "metadata": {
        "id": "bwv8tEvPX9oy",
        "outputId": "ba20a5ff-b232-4ee7-db77-0483eb7c0364",
        "colab": {
          "base_uri": "https://localhost:8080/"
        }
      },
      "execution_count": 141,
      "outputs": [
        {
          "output_type": "execute_result",
          "data": {
            "text/plain": [
              "(0.0, 2.0)"
            ]
          },
          "metadata": {},
          "execution_count": 141
        }
      ]
    },
    {
      "cell_type": "code",
      "source": [
        "math.modf(10)"
      ],
      "metadata": {
        "id": "a7zmgHadYTex",
        "outputId": "1f2efeb4-2df7-4025-e347-ddf30e07ea09",
        "colab": {
          "base_uri": "https://localhost:8080/"
        }
      },
      "execution_count": 142,
      "outputs": [
        {
          "output_type": "execute_result",
          "data": {
            "text/plain": [
              "(0.0, 10.0)"
            ]
          },
          "metadata": {},
          "execution_count": 142
        }
      ]
    },
    {
      "cell_type": "code",
      "source": [
        "math.modf(-10)"
      ],
      "metadata": {
        "id": "e_40QWm4Yz-O",
        "outputId": "08cd95e1-7bdc-48cc-d626-875e1a53b2a6",
        "colab": {
          "base_uri": "https://localhost:8080/"
        }
      },
      "execution_count": 143,
      "outputs": [
        {
          "output_type": "execute_result",
          "data": {
            "text/plain": [
              "(-0.0, -10.0)"
            ]
          },
          "metadata": {},
          "execution_count": 143
        }
      ]
    },
    {
      "cell_type": "code",
      "source": [],
      "metadata": {
        "id": "_7s60fgBY2Oy"
      },
      "execution_count": null,
      "outputs": []
    }
  ],
  "metadata": {
    "colab": {
      "name": "Welcome To Colaboratory",
      "provenance": []
    },
    "kernelspec": {
      "display_name": "Python 3",
      "name": "python3"
    }
  },
  "nbformat": 4,
  "nbformat_minor": 0
}