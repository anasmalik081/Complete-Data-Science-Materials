{
  "cells": [
    {
      "cell_type": "markdown",
      "source": [
        "# **Finding Outliers**"
      ],
      "metadata": {
        "id": "HD8LMUvy_kor"
      }
    },
    {
      "cell_type": "code",
      "source": [
        "# importing basic libraries\n",
        "import numpy as np\n",
        "import matplotlib.pyplot as plt\n",
        "%matplotlib inline"
      ],
      "metadata": {
        "id": "Dq5Kl6i6_o6i"
      },
      "execution_count": 1,
      "outputs": []
    },
    {
      "cell_type": "code",
      "source": [
        "# defining our dataset\n",
        "dataset = [11, 10, 12, 14, 12, 15, 14, 13, 15, 102, 12, 14, 17, 19, 107, 10, 13, 12, 14, 12, 108, 12, 11, 14, 13, 15, 10, 15, 12, 10, 14, 13, 15, 10]"
      ],
      "metadata": {
        "id": "9xjfCxZL_-DC"
      },
      "execution_count": 8,
      "outputs": []
    },
    {
      "cell_type": "code",
      "source": [
        "plt.hist(dataset)"
      ],
      "metadata": {
        "id": "BAqEmaeJAeCw",
        "outputId": "9f3c4717-ecd6-49fa-c9d6-0ebc9ad19a8d",
        "colab": {
          "base_uri": "https://localhost:8080/",
          "height": 499
        }
      },
      "execution_count": 3,
      "outputs": [
        {
          "output_type": "execute_result",
          "data": {
            "text/plain": [
              "(array([8., 0., 0., 0., 0., 0., 0., 0., 0., 3.]),\n",
              " array([ 10. ,  19.8,  29.6,  39.4,  49.2,  59. ,  68.8,  78.6,  88.4,\n",
              "         98.2, 108. ]),\n",
              " <BarContainer object of 10 artists>)"
            ]
          },
          "metadata": {},
          "execution_count": 3
        },
        {
          "output_type": "display_data",
          "data": {
            "text/plain": [
              "<Figure size 640x480 with 1 Axes>"
            ],
            "image/png": "[encoded data removed]"
          },
          "metadata": {}
        }
      ]
    },
    {
      "cell_type": "markdown",
      "source": [
        "## **Using Z Score**"
      ],
      "metadata": {
        "id": "zccSdaFsCFhd"
      }
    },
    {
      "cell_type": "code",
      "source": [
        "# z-score\n",
        "def detect_outliers(data):\n",
        "  outliers = []\n",
        "  threshold = 3 # 3rd standard deviation\n",
        "  mean = np.mean(data)\n",
        "  sd = np.std(data)\n",
        "  for i in data:\n",
        "    z_score = (i-mean)/sd\n",
        "    if np.abs(z_score) > threshold:\n",
        "      outliers.append(i)\n",
        "  return outliers"
      ],
      "metadata": {
        "id": "TS7V7o2sAn9I"
      },
      "execution_count": 4,
      "outputs": []
    },
    {
      "cell_type": "code",
      "source": [
        "detect_outliers(dataset)"
      ],
      "metadata": {
        "id": "rkl3bumZBlxN",
        "outputId": "8255732b-88af-448b-bf30-b67a7eec0262",
        "colab": {
          "base_uri": "https://localhost:8080/"
        }
      },
      "execution_count": 10,
      "outputs": [
        {
          "output_type": "execute_result",
          "data": {
            "text/plain": [
              "[102, 107, 108]"
            ]
          },
          "metadata": {},
          "execution_count": 10
        }
      ]
    },
    {
      "cell_type": "markdown",
      "source": [
        "## **Using Inter Quartile Range**"
      ],
      "metadata": {
        "id": "HZV8mxFmCIMY"
      }
    },
    {
      "cell_type": "code",
      "source": [
        "# sorting\n",
        "sorted_data = sorted(dataset)\n",
        "print(sorted_data)"
      ],
      "metadata": {
        "id": "zYT8oWejBoJU",
        "outputId": "f5b4b4a9-e9d9-4d5a-8848-89b77f8ca19b",
        "colab": {
          "base_uri": "https://localhost:8080/"
        }
      },
      "execution_count": 13,
      "outputs": [
        {
          "output_type": "stream",
          "name": "stdout",
          "text": [
            "[10, 10, 10, 10, 10, 11, 11, 12, 12, 12, 12, 12, 12, 12, 13, 13, 13, 13, 14, 14, 14, 14, 14, 14, 15, 15, 15, 15, 15, 17, 19, 102, 107, 108]\n"
          ]
        }
      ]
    },
    {
      "cell_type": "code",
      "source": [
        "# calculating quartiles\n",
        "first_quartile, third_quartile = np.percentile(dataset, [25, 75])\n",
        "print(first_quartile)\n",
        "print(third_quartile)"
      ],
      "metadata": {
        "id": "6UE3y0j2CSDF",
        "outputId": "976b3cac-297c-4ab8-b0ac-06c860b85ac4",
        "colab": {
          "base_uri": "https://localhost:8080/"
        }
      },
      "execution_count": 14,
      "outputs": [
        {
          "output_type": "stream",
          "name": "stdout",
          "text": [
            "12.0\n",
            "15.0\n"
          ]
        }
      ]
    },
    {
      "cell_type": "code",
      "source": [
        "# caculating IQR\n",
        "IQR = third_quartile - first_quartile\n",
        "IQR"
      ],
      "metadata": {
        "id": "X5VLrWD5CaRQ",
        "outputId": "8bb2af22-a03a-445f-d0c8-8e8a603a0373",
        "colab": {
          "base_uri": "https://localhost:8080/"
        }
      },
      "execution_count": 15,
      "outputs": [
        {
          "output_type": "execute_result",
          "data": {
            "text/plain": [
              "3.0"
            ]
          },
          "metadata": {},
          "execution_count": 15
        }
      ]
    },
    {
      "cell_type": "code",
      "source": [
        "# calculating Fences\n",
        "lower_fence = first_quartile - (1.5 * IQR)\n",
        "higher_fence = third_quartile + (1.5 * IQR)\n",
        "print(lower_fence)\n",
        "print(higher_fence)"
      ],
      "metadata": {
        "id": "AdZD9WmwC_Zv",
        "outputId": "e5fb6986-ebe0-4f81-ba62-a1eea5a22286",
        "colab": {
          "base_uri": "https://localhost:8080/"
        }
      },
      "execution_count": 16,
      "outputs": [
        {
          "output_type": "stream",
          "name": "stdout",
          "text": [
            "7.5\n",
            "19.5\n"
          ]
        }
      ]
    },
    {
      "cell_type": "code",
      "source": [
        "# now creating a function to detect outliers\n",
        "def detect_outliers(data):\n",
        "  # sort the data\n",
        "  sorted_data = sorted(data)\n",
        "\n",
        "  # calculating percentiles\n",
        "  q1, q3 = np.percentile(data, [25, 75])\n",
        "\n",
        "  # calculating inter quartile range\n",
        "  iqr = q3 - q1\n",
        "\n",
        "  # calculating fences\n",
        "  lower_fence = q1 - (1.5 * iqr)\n",
        "  higher_fence = q3 + (1.5 * iqr)\n",
        "\n",
        "  # detecting outliers\n",
        "  outliers = []\n",
        "  for i in data:\n",
        "    if i < lower_fence or i > higher_fence:\n",
        "      outliers.append(i)\n",
        "  return outliers"
      ],
      "metadata": {
        "id": "QenU-zdGDPo7"
      },
      "execution_count": 17,
      "outputs": []
    },
    {
      "cell_type": "code",
      "source": [
        "detect_outliers(dataset)"
      ],
      "metadata": {
        "id": "FfNB8trzEJei",
        "outputId": "11017442-b085-4c8d-829e-391dc8ceb9ef",
        "colab": {
          "base_uri": "https://localhost:8080/"
        }
      },
      "execution_count": 18,
      "outputs": [
        {
          "output_type": "execute_result",
          "data": {
            "text/plain": [
              "[102, 107, 108]"
            ]
          },
          "metadata": {},
          "execution_count": 18
        }
      ]
    },
    {
      "cell_type": "markdown",
      "source": [
        "## **Using Box Plot**"
      ],
      "metadata": {
        "id": "ybI8TBARESPj"
      }
    },
    {
      "cell_type": "code",
      "source": [
        "# importing seaborn\n",
        "import seaborn as sns"
      ],
      "metadata": {
        "id": "s4Dn4eS6EMLj"
      },
      "execution_count": 19,
      "outputs": []
    },
    {
      "cell_type": "code",
      "source": [
        "sns.boxplot(dataset)"
      ],
      "metadata": {
        "id": "3_x2HNr5EX-F",
        "outputId": "d65fd2e3-e883-4547-f8e0-fe1bd5537de6",
        "colab": {
          "base_uri": "https://localhost:8080/",
          "height": 447
        }
      },
      "execution_count": 20,
      "outputs": [
        {
          "output_type": "execute_result",
          "data": {
            "text/plain": [
              "<Axes: >"
            ]
          },
          "metadata": {},
          "execution_count": 20
        },
        {
          "output_type": "display_data",
          "data": {
            "text/plain": [
              "<Figure size 640x480 with 1 Axes>"
            ],
            "image/png": "[encoded data removed]"
          },
          "metadata": {}
        }
      ]
    },
    {
      "cell_type": "code",
      "source": [],
      "metadata": {
        "id": "ZqVJgf0REbZa"
      },
      "execution_count": null,
      "outputs": []
    }
  ],
  "metadata": {
    "colab": {
      "name": "Welcome To Colaboratory",
      "provenance": []
    },
    "kernelspec": {
      "display_name": "Python 3",
      "name": "python3"
    }
  },
  "nbformat": 4,
  "nbformat_minor": 0
}